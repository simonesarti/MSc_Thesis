{
 "cells": [
  {
   "cell_type": "code",
   "execution_count": 38,
   "metadata": {
    "collapsed": true,
    "pycharm": {
     "name": "#%%\n"
    }
   },
   "outputs": [],
   "source": [
    "import random\n",
    "import numpy as np\n",
    "\n",
    "from NAT_extended.search.search_spaces.search_spaces_factory import  get_search_space\n",
    "from NAT_extended.search.surrogate_models import SurrogateModel"
   ]
  },
  {
   "cell_type": "code",
   "execution_count": 39,
   "outputs": [],
   "source": [
    "def generate_random_err(pop_size):\n",
    "    errors = []\n",
    "    for _ in range(pop_size):\n",
    "        err = random.uniform(0.3, 0.7)\n",
    "        errors.append(err)\n",
    "\n",
    "    return errors"
   ],
   "metadata": {
    "collapsed": false,
    "pycharm": {
     "name": "#%%\n"
    }
   }
  },
  {
   "cell_type": "code",
   "execution_count": 40,
   "outputs": [],
   "source": [
    "population = 100"
   ],
   "metadata": {
    "collapsed": false,
    "pycharm": {
     "name": "#%%\n"
    }
   }
  },
  {
   "cell_type": "code",
   "execution_count": 41,
   "outputs": [],
   "source": [
    "search_space = get_search_space(\"OFAMobileNetV3\",\"ea\",[48,56,64])"
   ],
   "metadata": {
    "collapsed": false,
    "pycharm": {
     "name": "#%%\n"
    }
   }
  },
  {
   "cell_type": "code",
   "execution_count": 42,
   "outputs": [],
   "source": [
    "archs = search_space.sample(population)"
   ],
   "metadata": {
    "collapsed": false,
    "pycharm": {
     "name": "#%%\n"
    }
   }
  },
  {
   "cell_type": "code",
   "execution_count": 43,
   "outputs": [],
   "source": [
    "errors = generate_random_err(population)"
   ],
   "metadata": {
    "collapsed": false,
    "pycharm": {
     "name": "#%%\n"
    }
   }
  },
  {
   "cell_type": "code",
   "execution_count": 44,
   "outputs": [],
   "source": [
    "archive = []"
   ],
   "metadata": {
    "collapsed": false,
    "pycharm": {
     "name": "#%%\n"
    }
   }
  },
  {
   "cell_type": "code",
   "execution_count": 45,
   "outputs": [],
   "source": [
    "for arch, err in zip(archs, errors):\n",
    "    archive.append([arch, err])"
   ],
   "metadata": {
    "collapsed": false,
    "pycharm": {
     "name": "#%%\n"
    }
   }
  },
  {
   "cell_type": "code",
   "execution_count": 46,
   "outputs": [],
   "source": [
    "features = search_space.features(search_space.encode([d[0] for d in archive]))\n",
    "err_targets = np.array([d[1] for d in archive])"
   ],
   "metadata": {
    "collapsed": false,
    "pycharm": {
     "name": "#%%\n"
    }
   }
  },
  {
   "cell_type": "code",
   "execution_count": 47,
   "outputs": [
    {
     "name": "stdout",
     "output_type": "stream",
     "text": [
      "[0. 1. 0. 0. 1. 0. 0. 1. 0. 0. 0. 0. 0. 0. 0. 1. 0. 0. 0. 0. 0. 0. 0. 0.\n",
      " 0. 0. 0. 0. 1. 0. 0. 0. 0. 0. 0. 0. 0. 0. 0. 0. 0. 0. 1. 1. 0. 0. 0. 0.\n",
      " 0. 0. 0. 0. 0. 0. 0. 0. 0. 1. 0. 0. 0. 0. 0. 0. 0. 1. 0. 0. 0. 0. 0. 0.\n",
      " 0. 0. 1. 0. 0. 0. 0. 0. 0. 0. 0. 0. 0. 0. 0. 0. 1. 0. 0. 0. 0. 0. 0. 0.\n",
      " 0. 0. 1. 0. 0. 0. 0. 0. 0. 0. 0. 1. 0. 0. 0. 0. 0. 0. 0. 1. 0. 0. 0. 0.\n",
      " 0. 0. 0. 0. 0. 1. 0. 0. 0. 0. 0. 0. 0. 0. 0. 1. 0. 0. 0. 0. 1. 0. 0. 0.\n",
      " 0. 0. 0. 0. 0. 0. 0. 0. 0. 1. 0. 0. 0. 0. 0. 0. 0. 0. 0. 0. 0. 1. 0. 1.\n",
      " 0. 0. 0. 0. 0. 0. 0. 0. 1. 0. 0. 0. 0. 0. 0. 0. 0. 0. 0. 0. 0. 0. 0. 0.\n",
      " 0. 0. 1.]\n",
      "0.639379159253711\n"
     ]
    }
   ],
   "source": [
    "print(features[0])\n",
    "print(err_targets[0])"
   ],
   "metadata": {
    "collapsed": false,
    "pycharm": {
     "name": "#%%\n"
    }
   }
  },
  {
   "cell_type": "code",
   "execution_count": 48,
   "outputs": [
    {
     "name": "stdout",
     "output_type": "stream",
     "text": [
      "Fold 1: rmse = 0.1120, pearson = 0.0693, spearman = -0.0920, kendall = -0.0920\n",
      "True errors:  [0.68618289 0.60118115 0.60161261 0.52577562 0.36868823 0.4169047\n",
      " 0.54763249 0.6404017  0.63937916 0.58972159]\n",
      "Pred errors:  [0.51152227 0.50543831 0.50350707 0.50350707 0.515116   0.47951951\n",
      " 0.51041609 0.48035765 0.50350707 0.51984824]\n",
      "Fold 2: rmse = 0.1208, pearson = -0.2456, spearman = -0.0669, kendall = -0.0899\n",
      "True errors:  [0.31764981 0.35906334 0.51915567 0.53983864 0.59635946 0.61964961\n",
      " 0.45914825 0.35295909 0.63853925 0.53764472]\n",
      "Pred errors:  [0.55882523 0.52709402 0.49066214 0.53751781 0.50291793 0.52709402\n",
      " 0.51037353 0.51762038 0.53057882 0.54637577]\n",
      "Fold 3: rmse = 0.1169, pearson = -0.0247, spearman = 0.0000, kendall = 0.0000\n",
      "True errors:  [0.44950481 0.36334373 0.32702792 0.46025911 0.6093103  0.68993877\n",
      " 0.38315307 0.52986071 0.61298366 0.45800844]\n",
      "Pred errors:  [0.54990209 0.48756933 0.49913635 0.49714066 0.51906994 0.48756933\n",
      " 0.51906994 0.51198786 0.51198786 0.50372986]\n",
      "Fold 4: rmse = 0.0888, pearson = -0.0945, spearman = -0.2831, kendall = -0.2561\n",
      "True errors:  [0.50077378 0.4223271  0.49845562 0.43796953 0.60742225 0.6166248\n",
      " 0.41066385 0.46562882 0.45662272 0.67059661]\n",
      "Pred errors:  [0.47675427 0.51374855 0.48999029 0.48999029 0.51374855 0.50725934\n",
      " 0.52182681 0.51374855 0.49703029 0.49711744]\n",
      "Fold 5: rmse = 0.1291, pearson = -0.2708, spearman = -0.2018, kendall = -0.1380\n",
      "True errors:  [0.68945789 0.46314308 0.33845301 0.6549208  0.52991371 0.62008245\n",
      " 0.38604878 0.61114719 0.66517449 0.53173229]\n",
      "Pred errors:  [0.50529599 0.53128797 0.52660272 0.4858652  0.48609609 0.53128797\n",
      " 0.48624421 0.48609609 0.49615046 0.52660272]\n",
      "Fold 6: rmse = 0.1308, pearson = -0.5702, spearman = -0.5061, kendall = -0.3410\n",
      "True errors:  [0.44313052 0.65577399 0.40627754 0.53857194 0.64348294 0.61294242\n",
      " 0.58516507 0.30791585 0.47828897 0.35918999]\n",
      "Pred errors:  [0.4796916  0.48042408 0.48042408 0.48138139 0.47480087 0.48073734\n",
      " 0.51464585 0.52147249 0.48073734 0.54285361]\n",
      "Fold 7: rmse = 0.1235, pearson = -0.1920, spearman = -0.0366, kendall = -0.0227\n",
      "True errors:  [0.3578276  0.38772525 0.6716285  0.68883306 0.54824554 0.56868264\n",
      " 0.63217418 0.538391   0.38271601 0.56250162]\n",
      "Pred errors:  [0.51110221 0.51539    0.47456697 0.53325264 0.49037033 0.51110221\n",
      " 0.51522407 0.47456697 0.51871986 0.48065595]\n",
      "Fold 8: rmse = 0.1011, pearson = -0.6283, spearman = -0.3816, kendall = -0.3027\n",
      "True errors:  [0.59299547 0.4294626  0.41873443 0.41003368 0.41434414 0.42151873\n",
      " 0.4585252  0.44713206 0.59847139 0.36123217]\n",
      "Pred errors:  [0.49230613 0.5160898  0.5160898  0.50301854 0.52575014 0.54040113\n",
      " 0.50897391 0.5160898  0.49467047 0.50897391]\n",
      "Fold 9: rmse = 0.1105, pearson = -0.4245, spearman = -0.2618, kendall = -0.1935\n",
      "True errors:  [0.3827884  0.48036924 0.38201989 0.61882497 0.42230519 0.42513128\n",
      " 0.69296282 0.58530395 0.44473002 0.51915754]\n",
      "Pred errors:  [0.51061078 0.4789679  0.51061078 0.47875037 0.4789679  0.53243933\n",
      " 0.4789679  0.51671952 0.51061078 0.51671952]\n",
      "Fold 10: rmse = 0.1249, pearson = -0.2654, spearman = -0.2805, kendall = -0.2046\n",
      "True errors:  [0.34686402 0.39618907 0.67336612 0.45060287 0.41482925 0.47420024\n",
      " 0.38267277 0.43244398 0.51400009 0.58182339]\n",
      "Pred errors:  [0.57684283 0.52018042 0.52654166 0.52018042 0.51966528 0.55156251\n",
      " 0.5794258  0.49952426 0.49859558 0.55156251]\n",
      "10-fold KTau performance = -0.1640(0.1094)\n"
     ]
    }
   ],
   "source": [
    "# [ rbfs, rbf, mlp, e2epp, carts, gp, svr, ridge, knn, bayesian, lgb ]\n",
    "surrogate = \"lgb\"\n",
    "err_predictor = SurrogateModel(surrogate).fit(features, err_targets, ensemble = True)"
   ],
   "metadata": {
    "collapsed": false,
    "pycharm": {
     "name": "#%%\n"
    }
   }
  },
  {
   "cell_type": "code",
   "execution_count": 48,
   "outputs": [],
   "source": [],
   "metadata": {
    "collapsed": false,
    "pycharm": {
     "name": "#%%\n"
    }
   }
  }
 ],
 "metadata": {
  "kernelspec": {
   "display_name": "Python 3",
   "language": "python",
   "name": "python3"
  },
  "language_info": {
   "codemirror_mode": {
    "name": "ipython",
    "version": 2
   },
   "file_extension": ".py",
   "mimetype": "text/x-python",
   "name": "python",
   "nbconvert_exporter": "python",
   "pygments_lexer": "ipython2",
   "version": "2.7.6"
  }
 },
 "nbformat": 4,
 "nbformat_minor": 0
}