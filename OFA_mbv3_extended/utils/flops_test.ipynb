{
 "cells": [
  {
   "cell_type": "code",
   "execution_count": 33,
   "metadata": {
    "collapsed": true,
    "pycharm": {
     "name": "#%%\n"
    }
   },
   "outputs": [],
   "source": [
    "import torch\n",
    "from OFA_mbv3_extended.networks.nets.my_networks import get_net_by_name, get_teacher_by_name\n",
    "from OFA_mbv3_extended.utils.pytorch_utils import get_net_info\n",
    "from fvcore.nn import FlopCountAnalysis\n",
    "from torchprofile import profile_macs\n",
    "import warnings"
   ]
  },
  {
   "cell_type": "code",
   "execution_count": 22,
   "outputs": [],
   "source": [
    "args_st = {\n",
    "    \"n_classes\": 200,\n",
    "    \"dropout_rate\":0.2,\n",
    "    \"width_mult\":1.0,\n",
    "    \"ks\":7,\n",
    "    \"expand_ratio\":6,\n",
    "    \"depth_param\": 4\n",
    "}"
   ],
   "metadata": {
    "collapsed": false,
    "pycharm": {
     "name": "#%%\n"
    }
   }
  },
  {
   "cell_type": "code",
   "execution_count": 28,
   "outputs": [],
   "source": [
    "mbv3 = get_teacher_by_name(\"OFAMobileNetV3\")(**args_st)\n",
    "seb = get_teacher_by_name(\"SE_B_OFAMobileNetV3\")(**args_st)\n",
    "sed = get_teacher_by_name(\"SE_D_OFAMobileNetV3\")(**args_st)\n",
    "sep = get_teacher_by_name(\"SE_P_OFAMobileNetV3\")(**args_st)\n",
    "sedp = get_teacher_by_name(\"SE_DP_OFAMobileNetV3\")(**args_st)\n",
    "eeb = get_teacher_by_name(\"EE_B_OFAMobileNetV3\")(**args_st)\n",
    "eed = get_teacher_by_name(\"EE_D_OFAMobileNetV3\")(**args_st)\n",
    "eep = get_teacher_by_name(\"EE_P_OFAMobileNetV3\")(**args_st)\n",
    "eedp = get_teacher_by_name(\"EE_DP_OFAMobileNetV3\")(**args_st)\n",
    "st_nets = [mbv3, seb, sed, sep, sedp, eeb, eed, eep, eedp]"
   ],
   "metadata": {
    "collapsed": false,
    "pycharm": {
     "name": "#%%\n"
    }
   }
  },
  {
   "cell_type": "code",
   "execution_count": 29,
   "outputs": [],
   "source": [
    "input_size = (1,3,64,64)"
   ],
   "metadata": {
    "collapsed": false,
    "pycharm": {
     "name": "#%%\n"
    }
   }
  },
  {
   "cell_type": "code",
   "execution_count": 30,
   "outputs": [],
   "source": [
    "dummy_data = torch.rand(*input_size)"
   ],
   "metadata": {
    "collapsed": false,
    "pycharm": {
     "name": "#%%\n"
    }
   }
  },
  {
   "cell_type": "markdown",
   "source": [
    "# OFA"
   ],
   "metadata": {
    "collapsed": false,
    "pycharm": {
     "name": "#%% md\n"
    }
   }
  },
  {
   "cell_type": "code",
   "execution_count": 34,
   "outputs": [
    {
     "name": "stdout",
     "output_type": "stream",
     "text": [
      "latency types:  []\n",
      "Total training params: 6.64M\n",
      "Total FLOPs: 51.13M\n",
      "params\n",
      "latency types:  []\n",
      "Total training params: 6.64M\n",
      "Total FLOPs: 51.13M\n",
      "params\n",
      "latency types:  []\n",
      "Total training params: 6.64M\n",
      "Total FLOPs: 51.13M\n",
      "params\n",
      "latency types:  []\n",
      "Total training params: 7.34M\n",
      "Total FLOPs: 90.28M\n",
      "params\n",
      "latency types:  []\n",
      "Total training params: 7.34M\n",
      "Total FLOPs: 90.28M\n",
      "params\n",
      "latency types:  []\n",
      "Total training params: 8.19M\n",
      "Total FLOPs: 56.16M\n",
      "params\n",
      "latency types:  []\n",
      "Total training params: 8.19M\n",
      "Total FLOPs: 56.16M\n",
      "params\n",
      "latency types:  []\n",
      "Total training params: 8.90M\n",
      "Total FLOPs: 95.31M\n",
      "params\n",
      "latency types:  []\n",
      "Total training params: 8.90M\n",
      "Total FLOPs: 95.31M\n",
      "params\n"
     ]
    }
   ],
   "source": [
    "for net in st_nets:\n",
    "    flops, _ = get_net_info(net, (3,64, 64))\n",
    "    print(flops)"
   ],
   "metadata": {
    "collapsed": false,
    "pycharm": {
     "name": "#%%\n"
    }
   }
  },
  {
   "cell_type": "markdown",
   "source": [
    "# MACS"
   ],
   "metadata": {
    "collapsed": false,
    "pycharm": {
     "name": "#%% md\n"
    }
   }
  },
  {
   "cell_type": "code",
   "execution_count": 15,
   "outputs": [],
   "source": [
    "def _calc_flops(subnet, dummy_data):\n",
    "    return profile_macs(subnet, dummy_data) / 1e6  # in unit of MFLOPs"
   ],
   "metadata": {
    "collapsed": false,
    "pycharm": {
     "name": "#%%\n"
    }
   }
  },
  {
   "cell_type": "code",
   "execution_count": 16,
   "outputs": [
    {
     "name": "stdout",
     "output_type": "stream",
     "text": [
      "50.910976\n",
      "50.910976\n",
      "50.910976\n",
      "94.033152\n",
      "94.033152\n",
      "55.805824\n",
      "55.805824\n",
      "98.928\n",
      "98.928\n"
     ]
    }
   ],
   "source": [
    "for net in st_nets:\n",
    "    with warnings.catch_warnings():  # ignore warnings, use w/ caution\n",
    "        warnings.simplefilter(\"ignore\")\n",
    "        flops=_calc_flops(net, dummy_data)\n",
    "        print(flops)"
   ],
   "metadata": {
    "collapsed": false,
    "pycharm": {
     "name": "#%%\n"
    }
   }
  },
  {
   "cell_type": "markdown",
   "source": [
    "# ==> dense connections ignored"
   ],
   "metadata": {
    "collapsed": false,
    "pycharm": {
     "name": "#%% md\n"
    }
   }
  },
  {
   "cell_type": "markdown",
   "source": [
    "# FACEBOOK"
   ],
   "metadata": {
    "collapsed": false,
    "pycharm": {
     "name": "#%% md\n"
    }
   }
  },
  {
   "cell_type": "code",
   "execution_count": 18,
   "outputs": [],
   "source": [
    "def fvflops(subnet, dummy_data):\n",
    "    fca = FlopCountAnalysis(subnet, dummy_data)\n",
    "    flops= fca.total()\n",
    "    return flops/1e6"
   ],
   "metadata": {
    "collapsed": false,
    "pycharm": {
     "name": "#%%\n"
    }
   }
  },
  {
   "cell_type": "code",
   "execution_count": 19,
   "outputs": [
    {
     "name": "stderr",
     "output_type": "stream",
     "text": [
      "Unsupported operator aten::add_ encountered 64 time(s)\n",
      "Unsupported operator aten::add encountered 55 time(s)\n",
      "Unsupported operator aten::relu6_ encountered 38 time(s)\n",
      "Unsupported operator aten::mul encountered 39 time(s)\n",
      "Unsupported operator aten::div encountered 39 time(s)\n",
      "Unsupported operator aten::mean encountered 26 time(s)\n",
      "Unsupported operator aten::relu6 encountered 1 time(s)\n",
      "Unsupported operator aten::dropout_ encountered 1 time(s)\n",
      "The following submodules of the model were never called during the trace of the graph. They may be unused, or they were accessed by direct calls to .forward() or via other python methods. In the latter case they will have zeros for statistics, though their statistics will still contribute to their parent calling module.\n",
      "blocks.0.shortcut, blocks.10.shortcut, blocks.11.shortcut, blocks.12.shortcut, blocks.14.shortcut, blocks.15.shortcut, blocks.16.shortcut, blocks.18.shortcut, blocks.19.shortcut, blocks.2.shortcut, blocks.20.shortcut, blocks.3.shortcut, blocks.4.shortcut, blocks.6.shortcut, blocks.7.shortcut, blocks.8.shortcut\n"
     ]
    },
    {
     "name": "stdout",
     "output_type": "stream",
     "text": [
      "53.630976\n"
     ]
    },
    {
     "name": "stderr",
     "output_type": "stream",
     "text": [
      "Unsupported operator aten::add_ encountered 64 time(s)\n",
      "Unsupported operator aten::add encountered 55 time(s)\n",
      "Unsupported operator aten::relu6_ encountered 38 time(s)\n",
      "Unsupported operator aten::mul encountered 39 time(s)\n",
      "Unsupported operator aten::div encountered 39 time(s)\n",
      "Unsupported operator aten::mean encountered 26 time(s)\n",
      "Unsupported operator aten::relu6 encountered 1 time(s)\n",
      "Unsupported operator aten::dropout_ encountered 1 time(s)\n",
      "The following submodules of the model were never called during the trace of the graph. They may be unused, or they were accessed by direct calls to .forward() or via other python methods. In the latter case they will have zeros for statistics, though their statistics will still contribute to their parent calling module.\n",
      "body_stages.0.layers.1.shortcut, body_stages.0.layers.2.shortcut, body_stages.0.layers.3.shortcut, body_stages.1.layers.1.shortcut, body_stages.1.layers.2.shortcut, body_stages.1.layers.3.shortcut, body_stages.2.layers.1.shortcut, body_stages.2.layers.2.shortcut, body_stages.2.layers.3.shortcut, body_stages.3.layers.1.shortcut, body_stages.3.layers.2.shortcut, body_stages.3.layers.3.shortcut, body_stages.4.layers.1.shortcut, body_stages.4.layers.2.shortcut, body_stages.4.layers.3.shortcut, head_stage.first_layer.shortcut\n"
     ]
    },
    {
     "name": "stdout",
     "output_type": "stream",
     "text": [
      "53.630976\n"
     ]
    },
    {
     "name": "stderr",
     "output_type": "stream",
     "text": [
      "Unsupported operator aten::add_ encountered 79 time(s)\n",
      "Unsupported operator aten::add encountered 55 time(s)\n",
      "Unsupported operator aten::relu6_ encountered 38 time(s)\n",
      "Unsupported operator aten::mul encountered 39 time(s)\n",
      "Unsupported operator aten::div encountered 39 time(s)\n",
      "Unsupported operator aten::mean encountered 26 time(s)\n",
      "Unsupported operator aten::relu6 encountered 1 time(s)\n",
      "Unsupported operator aten::dropout_ encountered 1 time(s)\n",
      "The following submodules of the model were never called during the trace of the graph. They may be unused, or they were accessed by direct calls to .forward() or via other python methods. In the latter case they will have zeros for statistics, though their statistics will still contribute to their parent calling module.\n",
      "body_stages.0.layers.1.shortcut, body_stages.0.layers.2.shortcut, body_stages.0.layers.3.shortcut, body_stages.1.layers.1.shortcut, body_stages.1.layers.2.shortcut, body_stages.1.layers.3.shortcut, body_stages.2.layers.1.shortcut, body_stages.2.layers.2.shortcut, body_stages.2.layers.3.shortcut, body_stages.3.layers.1.shortcut, body_stages.3.layers.2.shortcut, body_stages.3.layers.3.shortcut, body_stages.4.layers.1.shortcut, body_stages.4.layers.2.shortcut, body_stages.4.layers.3.shortcut, head_stage.first_layer.shortcut\n"
     ]
    },
    {
     "name": "stdout",
     "output_type": "stream",
     "text": [
      "53.630976\n"
     ]
    },
    {
     "name": "stderr",
     "output_type": "stream",
     "text": [
      "Unsupported operator aten::add_ encountered 124 time(s)\n",
      "Unsupported operator aten::add encountered 127 time(s)\n",
      "Unsupported operator aten::relu6_ encountered 50 time(s)\n",
      "Unsupported operator aten::mul encountered 71 time(s)\n",
      "Unsupported operator aten::div encountered 51 time(s)\n",
      "Unsupported operator aten::unfold encountered 80 time(s)\n",
      "Unsupported operator aten::softmax encountered 20 time(s)\n",
      "Unsupported operator aten::avg_pool2d encountered 4 time(s)\n",
      "Unsupported operator aten::mean encountered 26 time(s)\n",
      "Unsupported operator aten::relu6 encountered 1 time(s)\n",
      "Unsupported operator aten::dropout_ encountered 1 time(s)\n",
      "The following submodules of the model were never called during the trace of the graph. They may be unused, or they were accessed by direct calls to .forward() or via other python methods. In the latter case they will have zeros for statistics, though their statistics will still contribute to their parent calling module.\n",
      "body_stages.0.layers_blocks.1.0.shortcut, body_stages.0.layers_blocks.2.0.shortcut, body_stages.0.layers_blocks.3.0.shortcut, body_stages.1.layers_blocks.1.0.shortcut, body_stages.1.layers_blocks.2.0.shortcut, body_stages.1.layers_blocks.3.0.shortcut, body_stages.2.layers_blocks.1.0.shortcut, body_stages.2.layers_blocks.2.0.shortcut, body_stages.2.layers_blocks.3.0.shortcut, body_stages.3.layers_blocks.1.0.shortcut, body_stages.3.layers_blocks.2.0.shortcut, body_stages.3.layers_blocks.3.0.shortcut, body_stages.4.layers_blocks.1.0.shortcut, body_stages.4.layers_blocks.2.0.shortcut, body_stages.4.layers_blocks.3.0.shortcut, head_stage.first_layer.shortcut\n"
     ]
    },
    {
     "name": "stdout",
     "output_type": "stream",
     "text": [
      "96.926302\n"
     ]
    },
    {
     "name": "stderr",
     "output_type": "stream",
     "text": [
      "Unsupported operator aten::add_ encountered 139 time(s)\n",
      "Unsupported operator aten::add encountered 127 time(s)\n",
      "Unsupported operator aten::relu6_ encountered 50 time(s)\n",
      "Unsupported operator aten::mul encountered 71 time(s)\n",
      "Unsupported operator aten::div encountered 51 time(s)\n",
      "Unsupported operator aten::unfold encountered 80 time(s)\n",
      "Unsupported operator aten::softmax encountered 20 time(s)\n",
      "Unsupported operator aten::avg_pool2d encountered 4 time(s)\n",
      "Unsupported operator aten::mean encountered 26 time(s)\n",
      "Unsupported operator aten::relu6 encountered 1 time(s)\n",
      "Unsupported operator aten::dropout_ encountered 1 time(s)\n",
      "The following submodules of the model were never called during the trace of the graph. They may be unused, or they were accessed by direct calls to .forward() or via other python methods. In the latter case they will have zeros for statistics, though their statistics will still contribute to their parent calling module.\n",
      "body_stages.0.layers_blocks.1.0.shortcut, body_stages.0.layers_blocks.2.0.shortcut, body_stages.0.layers_blocks.3.0.shortcut, body_stages.1.layers_blocks.1.0.shortcut, body_stages.1.layers_blocks.2.0.shortcut, body_stages.1.layers_blocks.3.0.shortcut, body_stages.2.layers_blocks.1.0.shortcut, body_stages.2.layers_blocks.2.0.shortcut, body_stages.2.layers_blocks.3.0.shortcut, body_stages.3.layers_blocks.1.0.shortcut, body_stages.3.layers_blocks.2.0.shortcut, body_stages.3.layers_blocks.3.0.shortcut, body_stages.4.layers_blocks.1.0.shortcut, body_stages.4.layers_blocks.2.0.shortcut, body_stages.4.layers_blocks.3.0.shortcut, head_stage.first_layer.shortcut\n"
     ]
    },
    {
     "name": "stdout",
     "output_type": "stream",
     "text": [
      "96.926302\n"
     ]
    },
    {
     "name": "stderr",
     "output_type": "stream",
     "text": [
      "Unsupported operator aten::add_ encountered 68 time(s)\n",
      "Unsupported operator aten::add encountered 63 time(s)\n",
      "Unsupported operator aten::relu6_ encountered 42 time(s)\n",
      "Unsupported operator aten::mul encountered 47 time(s)\n",
      "Unsupported operator aten::div encountered 47 time(s)\n",
      "Unsupported operator aten::mean encountered 34 time(s)\n",
      "Unsupported operator aten::relu6 encountered 5 time(s)\n",
      "Unsupported operator aten::dropout_ encountered 5 time(s)\n",
      "The following submodules of the model were never called during the trace of the graph. They may be unused, or they were accessed by direct calls to .forward() or via other python methods. In the latter case they will have zeros for statistics, though their statistics will still contribute to their parent calling module.\n",
      "body_stages.0.layers.1.shortcut, body_stages.0.layers.2.shortcut, body_stages.0.layers.3.shortcut, body_stages.1.layers.1.shortcut, body_stages.1.layers.2.shortcut, body_stages.1.layers.3.shortcut, body_stages.2.layers.1.shortcut, body_stages.2.layers.2.shortcut, body_stages.2.layers.3.shortcut, body_stages.3.layers.1.shortcut, body_stages.3.layers.2.shortcut, body_stages.3.layers.3.shortcut, body_stages.4.layers.1.shortcut, body_stages.4.layers.2.shortcut, body_stages.4.layers.3.shortcut, head_stage.first_layer.shortcut\n"
     ]
    },
    {
     "name": "stdout",
     "output_type": "stream",
     "text": [
      "58.725376\n"
     ]
    },
    {
     "name": "stderr",
     "output_type": "stream",
     "text": [
      "Unsupported operator aten::add_ encountered 83 time(s)\n",
      "Unsupported operator aten::add encountered 63 time(s)\n",
      "Unsupported operator aten::relu6_ encountered 42 time(s)\n",
      "Unsupported operator aten::mul encountered 47 time(s)\n",
      "Unsupported operator aten::div encountered 47 time(s)\n",
      "Unsupported operator aten::mean encountered 34 time(s)\n",
      "Unsupported operator aten::relu6 encountered 5 time(s)\n",
      "Unsupported operator aten::dropout_ encountered 5 time(s)\n",
      "The following submodules of the model were never called during the trace of the graph. They may be unused, or they were accessed by direct calls to .forward() or via other python methods. In the latter case they will have zeros for statistics, though their statistics will still contribute to their parent calling module.\n",
      "body_stages.0.layers.1.shortcut, body_stages.0.layers.2.shortcut, body_stages.0.layers.3.shortcut, body_stages.1.layers.1.shortcut, body_stages.1.layers.2.shortcut, body_stages.1.layers.3.shortcut, body_stages.2.layers.1.shortcut, body_stages.2.layers.2.shortcut, body_stages.2.layers.3.shortcut, body_stages.3.layers.1.shortcut, body_stages.3.layers.2.shortcut, body_stages.3.layers.3.shortcut, body_stages.4.layers.1.shortcut, body_stages.4.layers.2.shortcut, body_stages.4.layers.3.shortcut, head_stage.first_layer.shortcut\n"
     ]
    },
    {
     "name": "stdout",
     "output_type": "stream",
     "text": [
      "58.725376\n"
     ]
    },
    {
     "name": "stderr",
     "output_type": "stream",
     "text": [
      "Unsupported operator aten::add_ encountered 128 time(s)\n",
      "Unsupported operator aten::add encountered 135 time(s)\n",
      "Unsupported operator aten::relu6_ encountered 54 time(s)\n",
      "Unsupported operator aten::mul encountered 79 time(s)\n",
      "Unsupported operator aten::div encountered 59 time(s)\n",
      "Unsupported operator aten::unfold encountered 80 time(s)\n",
      "Unsupported operator aten::softmax encountered 20 time(s)\n",
      "Unsupported operator aten::avg_pool2d encountered 4 time(s)\n",
      "Unsupported operator aten::mean encountered 34 time(s)\n",
      "Unsupported operator aten::relu6 encountered 5 time(s)\n",
      "Unsupported operator aten::dropout_ encountered 5 time(s)\n",
      "The following submodules of the model were never called during the trace of the graph. They may be unused, or they were accessed by direct calls to .forward() or via other python methods. In the latter case they will have zeros for statistics, though their statistics will still contribute to their parent calling module.\n",
      "body_stages.0.layers_blocks.1.0.shortcut, body_stages.0.layers_blocks.2.0.shortcut, body_stages.0.layers_blocks.3.0.shortcut, body_stages.1.layers_blocks.1.0.shortcut, body_stages.1.layers_blocks.2.0.shortcut, body_stages.1.layers_blocks.3.0.shortcut, body_stages.2.layers_blocks.1.0.shortcut, body_stages.2.layers_blocks.2.0.shortcut, body_stages.2.layers_blocks.3.0.shortcut, body_stages.3.layers_blocks.1.0.shortcut, body_stages.3.layers_blocks.2.0.shortcut, body_stages.3.layers_blocks.3.0.shortcut, body_stages.4.layers_blocks.1.0.shortcut, body_stages.4.layers_blocks.2.0.shortcut, body_stages.4.layers_blocks.3.0.shortcut, head_stage.first_layer.shortcut\n"
     ]
    },
    {
     "name": "stdout",
     "output_type": "stream",
     "text": [
      "102.020702\n"
     ]
    },
    {
     "name": "stderr",
     "output_type": "stream",
     "text": [
      "Unsupported operator aten::add_ encountered 143 time(s)\n",
      "Unsupported operator aten::add encountered 135 time(s)\n",
      "Unsupported operator aten::relu6_ encountered 54 time(s)\n",
      "Unsupported operator aten::mul encountered 79 time(s)\n",
      "Unsupported operator aten::div encountered 59 time(s)\n",
      "Unsupported operator aten::unfold encountered 80 time(s)\n",
      "Unsupported operator aten::softmax encountered 20 time(s)\n",
      "Unsupported operator aten::avg_pool2d encountered 4 time(s)\n",
      "Unsupported operator aten::mean encountered 34 time(s)\n",
      "Unsupported operator aten::relu6 encountered 5 time(s)\n",
      "Unsupported operator aten::dropout_ encountered 5 time(s)\n",
      "The following submodules of the model were never called during the trace of the graph. They may be unused, or they were accessed by direct calls to .forward() or via other python methods. In the latter case they will have zeros for statistics, though their statistics will still contribute to their parent calling module.\n",
      "body_stages.0.layers_blocks.1.0.shortcut, body_stages.0.layers_blocks.2.0.shortcut, body_stages.0.layers_blocks.3.0.shortcut, body_stages.1.layers_blocks.1.0.shortcut, body_stages.1.layers_blocks.2.0.shortcut, body_stages.1.layers_blocks.3.0.shortcut, body_stages.2.layers_blocks.1.0.shortcut, body_stages.2.layers_blocks.2.0.shortcut, body_stages.2.layers_blocks.3.0.shortcut, body_stages.3.layers_blocks.1.0.shortcut, body_stages.3.layers_blocks.2.0.shortcut, body_stages.3.layers_blocks.3.0.shortcut, body_stages.4.layers_blocks.1.0.shortcut, body_stages.4.layers_blocks.2.0.shortcut, body_stages.4.layers_blocks.3.0.shortcut, head_stage.first_layer.shortcut\n"
     ]
    },
    {
     "name": "stdout",
     "output_type": "stream",
     "text": [
      "102.020702\n"
     ]
    }
   ],
   "source": [
    "for net in st_nets:\n",
    "    with warnings.catch_warnings():  # ignore warnings, use w/ caution\n",
    "        warnings.simplefilter(\"ignore\")\n",
    "        flops=fvflops(net, dummy_data)\n",
    "        print(flops)"
   ],
   "metadata": {
    "collapsed": false,
    "pycharm": {
     "name": "#%%\n"
    }
   }
  },
  {
   "cell_type": "code",
   "execution_count": null,
   "outputs": [],
   "source": [],
   "metadata": {
    "collapsed": false,
    "pycharm": {
     "name": "#%%\n"
    }
   }
  }
 ],
 "metadata": {
  "kernelspec": {
   "display_name": "Python 3",
   "language": "python",
   "name": "python3"
  },
  "language_info": {
   "codemirror_mode": {
    "name": "ipython",
    "version": 2
   },
   "file_extension": ".py",
   "mimetype": "text/x-python",
   "name": "python",
   "nbconvert_exporter": "python",
   "pygments_lexer": "ipython2",
   "version": "2.7.6"
  }
 },
 "nbformat": 4,
 "nbformat_minor": 0
}