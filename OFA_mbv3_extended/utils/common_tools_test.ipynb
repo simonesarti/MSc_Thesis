{
 "cells": [
  {
   "cell_type": "code",
   "execution_count": 1,
   "outputs": [],
   "source": [
    "from OFA_mbv3_extended.utils.common_tools import *\n",
    "import torch"
   ],
   "metadata": {
    "collapsed": false,
    "pycharm": {
     "name": "#%%\n"
    }
   }
  },
  {
   "cell_type": "code",
   "execution_count": 2,
   "metadata": {
    "collapsed": true,
    "pycharm": {
     "name": "#%%\n"
    }
   },
   "outputs": [],
   "source": [
    "check_value_allowed(3,[3,4,5])"
   ]
  },
  {
   "cell_type": "code",
   "execution_count": 3,
   "outputs": [
    {
     "ename": "ValueError",
     "evalue": "3 not in allowed values [2, 4, 5]",
     "output_type": "error",
     "traceback": [
      "\u001B[1;31m---------------------------------------------------------------------------\u001B[0m",
      "\u001B[1;31mValueError\u001B[0m                                Traceback (most recent call last)",
      "\u001B[1;32m<ipython-input-3-7af9b6948be8>\u001B[0m in \u001B[0;36m<module>\u001B[1;34m\u001B[0m\n\u001B[1;32m----> 1\u001B[1;33m \u001B[0mcheck_value_allowed\u001B[0m\u001B[1;33m(\u001B[0m\u001B[1;36m3\u001B[0m\u001B[1;33m,\u001B[0m\u001B[1;33m[\u001B[0m\u001B[1;36m2\u001B[0m\u001B[1;33m,\u001B[0m\u001B[1;36m4\u001B[0m\u001B[1;33m,\u001B[0m\u001B[1;36m5\u001B[0m\u001B[1;33m]\u001B[0m\u001B[1;33m)\u001B[0m\u001B[1;33m\u001B[0m\u001B[1;33m\u001B[0m\u001B[0m\n\u001B[0m",
      "\u001B[1;32m~\\PycharmProjects\\thesis\\OFA_mbv3_extended\\utils\\common_tools.py\u001B[0m in \u001B[0;36mcheck_value_allowed\u001B[1;34m(value, allowed_values)\u001B[0m\n\u001B[0;32m     43\u001B[0m \u001B[1;32mdef\u001B[0m \u001B[0mcheck_value_allowed\u001B[0m\u001B[1;33m(\u001B[0m\u001B[0mvalue\u001B[0m\u001B[1;33m,\u001B[0m \u001B[0mallowed_values\u001B[0m\u001B[1;33m)\u001B[0m\u001B[1;33m:\u001B[0m\u001B[1;33m\u001B[0m\u001B[1;33m\u001B[0m\u001B[0m\n\u001B[0;32m     44\u001B[0m     \u001B[1;32mif\u001B[0m \u001B[0mvalue\u001B[0m \u001B[1;32mnot\u001B[0m \u001B[1;32min\u001B[0m \u001B[0mallowed_values\u001B[0m\u001B[1;33m:\u001B[0m\u001B[1;33m\u001B[0m\u001B[1;33m\u001B[0m\u001B[0m\n\u001B[1;32m---> 45\u001B[1;33m         \u001B[1;32mraise\u001B[0m \u001B[0mValueError\u001B[0m\u001B[1;33m(\u001B[0m\u001B[1;34mf\"{value} not in allowed values {allowed_values}\"\u001B[0m\u001B[1;33m)\u001B[0m\u001B[1;33m\u001B[0m\u001B[1;33m\u001B[0m\u001B[0m\n\u001B[0m\u001B[0;32m     46\u001B[0m \u001B[1;33m\u001B[0m\u001B[0m\n\u001B[0;32m     47\u001B[0m \u001B[1;33m\u001B[0m\u001B[0m\n",
      "\u001B[1;31mValueError\u001B[0m: 3 not in allowed values [2, 4, 5]"
     ]
    }
   ],
   "source": [
    "check_value_allowed(3,[2,4,5])"
   ],
   "metadata": {
    "collapsed": false,
    "pycharm": {
     "name": "#%%\n"
    }
   }
  },
  {
   "cell_type": "code",
   "execution_count": 4,
   "outputs": [],
   "source": [
    "l = [2,4,3,5,5,4,2,2,5,7,9,7,3,2,4,6,8,8]"
   ],
   "metadata": {
    "collapsed": false,
    "pycharm": {
     "name": "#%%\n"
    }
   }
  },
  {
   "cell_type": "code",
   "execution_count": 5,
   "outputs": [
    {
     "name": "stdout",
     "output_type": "stream",
     "text": [
      "[[2, 4, 3, 5, 5, 4, 2, 2, 5, 7, 9, 7, 3, 2, 4, 6, 8, 8]]\n",
      "[[2, 4, 3, 5, 5, 4, 2, 2, 5], [7, 9, 7, 3, 2, 4, 6, 8, 8]]\n",
      "[[2, 4, 3, 5, 5, 4], [2, 2, 5, 7, 9, 7], [3, 2, 4, 6, 8, 8]]\n",
      "[[2, 4, 3, 5, 5], [4, 2, 2, 5, 7], [9, 7, 3, 2], [4, 6, 8, 8]]\n",
      "[[2, 4, 3, 5], [5, 4, 2, 2], [5, 7, 9, 7], [3, 2, 4], [6, 8, 8]]\n",
      "[[2, 4, 3], [5, 5, 4], [2, 2, 5], [7, 9, 7], [3, 2, 4], [6, 8, 8]]\n",
      "[[2, 4, 3], [5, 5, 4], [2, 2, 5], [7, 9, 7], [3, 2], [4, 6], [8, 8]]\n",
      "[[2, 4, 3], [5, 5, 4], [2, 2], [5, 7], [9, 7], [3, 2], [4, 6], [8, 8]]\n",
      "[[2, 4], [3, 5], [5, 4], [2, 2], [5, 7], [9, 7], [3, 2], [4, 6], [8, 8]]\n",
      "[[2, 4], [3, 5], [5, 4], [2, 2], [5, 7], [9, 7], [3, 2], [4, 6], [8], [8]]\n"
     ]
    }
   ],
   "source": [
    "for i in range(1,11):\n",
    "    print(partition_list(l,i))"
   ],
   "metadata": {
    "collapsed": false,
    "pycharm": {
     "name": "#%%\n"
    }
   }
  },
  {
   "cell_type": "code",
   "execution_count": 6,
   "outputs": [
    {
     "data": {
      "text/plain": "int"
     },
     "execution_count": 6,
     "metadata": {},
     "output_type": "execute_result"
    }
   ],
   "source": [
    "pl = partition_list(l,4)\n",
    "type(pl[0][0])"
   ],
   "metadata": {
    "collapsed": false,
    "pycharm": {
     "name": "#%%\n"
    }
   }
  },
  {
   "cell_type": "code",
   "execution_count": 7,
   "outputs": [
    {
     "data": {
      "text/plain": "tensor([[204, 306, 408],\n        [510, 408, 714]])"
     },
     "execution_count": 7,
     "metadata": {},
     "output_type": "execute_result"
    }
   ],
   "source": [
    "def forward(x):\n",
    "\n",
    "    depth = 4\n",
    "    y = [x]\n",
    "    for d in range(depth):\n",
    "        input_tensor = get_input_tensor(d, y)\n",
    "        y.append(3*input_tensor)\n",
    "\n",
    "    return y[-1]\n",
    "\n",
    "x = torch.tensor([[2,3,4],[5,4,7]])\n",
    "forward(x)"
   ],
   "metadata": {
    "collapsed": false,
    "pycharm": {
     "name": "#%%\n"
    }
   }
  },
  {
   "cell_type": "code",
   "execution_count": 5,
   "outputs": [],
   "source": [],
   "metadata": {
    "collapsed": false,
    "pycharm": {
     "name": "#%%\n"
    }
   }
  },
  {
   "cell_type": "code",
   "execution_count": null,
   "outputs": [],
   "source": [],
   "metadata": {
    "collapsed": false,
    "pycharm": {
     "name": "#%%\n"
    }
   }
  }
 ],
 "metadata": {
  "kernelspec": {
   "display_name": "Python 3",
   "language": "python",
   "name": "python3"
  },
  "language_info": {
   "codemirror_mode": {
    "name": "ipython",
    "version": 2
   },
   "file_extension": ".py",
   "mimetype": "text/x-python",
   "name": "python",
   "nbconvert_exporter": "python",
   "pygments_lexer": "ipython2",
   "version": "2.7.6"
  }
 },
 "nbformat": 4,
 "nbformat_minor": 0
}