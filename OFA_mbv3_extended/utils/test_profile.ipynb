{
 "cells": [
  {
   "cell_type": "code",
   "execution_count": 2,
   "metadata": {
    "collapsed": true,
    "pycharm": {
     "name": "#%%\n"
    }
   },
   "outputs": [],
   "source": [
    "from OFA_mbv3_extended.utils.flops_counter import profile\n",
    "from torch import nn\n",
    "from torch.nn import functional as F\n",
    "from ofa.utils.layers import ResidualBlock, IdentityLayer"
   ]
  },
  {
   "cell_type": "code",
   "execution_count": 3,
   "outputs": [],
   "source": [
    "input_size = (2,5,5)"
   ],
   "metadata": {
    "collapsed": false,
    "pycharm": {
     "name": "#%%\n"
    }
   }
  },
  {
   "cell_type": "code",
   "execution_count": 4,
   "outputs": [],
   "source": [
    "class MyNet(nn.Module):\n",
    "\n",
    "    def __init__(self):\n",
    "\n",
    "        super(MyNet,self).__init__()\n",
    "        self.conv1 = nn.Conv2d(in_channels=2,out_channels=3,kernel_size=3,stride=1,padding=\"same\")\n",
    "        self.conv2 = nn.Conv2d(in_channels=3,out_channels=3,kernel_size=1,stride=1,padding=\"same\")\n",
    "        self.conv3 = nn.Conv2d(in_channels=3,out_channels=3,kernel_size=1,stride=1,padding=\"same\")\n",
    "\n",
    "    def forward(self,x):\n",
    "\n",
    "        x = F.relu(self.conv1(x))\n",
    "        x = F.relu(self.conv2(x))\n",
    "        x = F.relu(self.conv3(x))\n",
    "        return x"
   ],
   "metadata": {
    "collapsed": false,
    "pycharm": {
     "name": "#%%\n"
    }
   }
  },
  {
   "cell_type": "code",
   "execution_count": 5,
   "outputs": [],
   "source": [
    "class MyNetDense(nn.Module):\n",
    "\n",
    "    def __init__(self):\n",
    "\n",
    "        super(MyNetDense,self).__init__()\n",
    "        self.conv1 = nn.Conv2d(in_channels=2,out_channels=3,kernel_size=3,stride=1,padding=\"same\")\n",
    "        self.conv2 = nn.Conv2d(in_channels=3,out_channels=3,kernel_size=1,stride=1,padding=\"same\")\n",
    "        self.conv3 = nn.Conv2d(in_channels=3,out_channels=3,kernel_size=1,stride=1,padding=\"same\")\n",
    "\n",
    "\n",
    "\n",
    "    def forward(self,x):\n",
    "\n",
    "        x = F.relu(self.conv1(x))\n",
    "        out1=x\n",
    "        x = F.relu(self.conv2(x)+out1)\n",
    "        out2=x\n",
    "        x = F.relu(self.conv3(x)+out1+out2)\n",
    "        return x\n"
   ],
   "metadata": {
    "collapsed": false,
    "pycharm": {
     "name": "#%%\n"
    }
   }
  },
  {
   "cell_type": "code",
   "execution_count": 6,
   "outputs": [],
   "source": [
    "base_net = MyNet()"
   ],
   "metadata": {
    "collapsed": false,
    "pycharm": {
     "name": "#%%\n"
    }
   }
  },
  {
   "cell_type": "code",
   "execution_count": 7,
   "outputs": [
    {
     "name": "stdout",
     "output_type": "stream",
     "text": [
      "(1800.0, 81.0)\n"
     ]
    }
   ],
   "source": [
    "print(profile(base_net,input_size))"
   ],
   "metadata": {
    "collapsed": false,
    "pycharm": {
     "name": "#%%\n"
    }
   }
  },
  {
   "cell_type": "code",
   "execution_count": 8,
   "outputs": [],
   "source": [
    "dense_net = MyNetDense()"
   ],
   "metadata": {
    "collapsed": false,
    "pycharm": {
     "name": "#%%\n"
    }
   }
  },
  {
   "cell_type": "code",
   "execution_count": 9,
   "outputs": [
    {
     "name": "stdout",
     "output_type": "stream",
     "text": [
      "(1800.0, 81.0)\n"
     ]
    }
   ],
   "source": [
    "print(profile(dense_net,input_size))"
   ],
   "metadata": {
    "collapsed": false,
    "pycharm": {
     "name": "#%%\n"
    }
   }
  },
  {
   "cell_type": "code",
   "execution_count": 10,
   "outputs": [],
   "source": [
    "class SimilOFA(nn.Module):\n",
    "\n",
    "    def __init__(self):\n",
    "\n",
    "        super(SimilOFA,self).__init__()\n",
    "        conv1 = nn.Conv2d(in_channels=2,out_channels=3,kernel_size=3,stride=1,padding=\"same\")\n",
    "        conv2 = nn.Conv2d(in_channels=3,out_channels=3,kernel_size=1,stride=1,padding=\"same\")\n",
    "        conv3 = nn.Conv2d(in_channels=3,out_channels=3,kernel_size=1,stride=1,padding=\"same\")\n",
    "        i2=IdentityLayer(conv2.in_channels,conv2.out_channels)\n",
    "        i3=IdentityLayer(conv3.in_channels,conv3.out_channels)\n",
    "        self.r1=ResidualBlock(conv1,None)\n",
    "        self.r2=ResidualBlock(conv2,i2)\n",
    "        self.r3=ResidualBlock(conv3,i3)\n",
    "\n",
    "\n",
    "    def forward(self,x):\n",
    "\n",
    "        x = F.relu(self.r1(x))\n",
    "        x = F.relu(self.r2(x))\n",
    "        x = F.relu(self.r3(x))\n",
    "        return x"
   ],
   "metadata": {
    "collapsed": false,
    "pycharm": {
     "name": "#%%\n"
    }
   }
  },
  {
   "cell_type": "code",
   "execution_count": 11,
   "outputs": [],
   "source": [
    "simil=SimilOFA()"
   ],
   "metadata": {
    "collapsed": false,
    "pycharm": {
     "name": "#%%\n"
    }
   }
  },
  {
   "cell_type": "code",
   "execution_count": 12,
   "outputs": [
    {
     "name": "stdout",
     "output_type": "stream",
     "text": [
      "(1800.0, 81.0)\n"
     ]
    }
   ],
   "source": [
    "print(profile(simil,input_size))"
   ],
   "metadata": {
    "collapsed": false,
    "pycharm": {
     "name": "#%%\n"
    }
   }
  },
  {
   "cell_type": "code",
   "execution_count": 13,
   "outputs": [],
   "source": [
    "class MyNetSeq(nn.Module):\n",
    "\n",
    "    def __init__(self):\n",
    "\n",
    "        super(MyNetSeq,self).__init__()\n",
    "        self.s1 = nn.Sequential(\n",
    "            nn.Conv2d(in_channels=2,out_channels=3,kernel_size=3,stride=1,padding=\"same\"),\n",
    "            nn.ReLU(inplace=True))\n",
    "        self.s2 = nn.Sequential(\n",
    "            nn.Conv2d(in_channels=3,out_channels=3,kernel_size=1,stride=1,padding=\"same\"),\n",
    "            nn.ReLU(inplace=True))\n",
    "        self.s3 = nn.Sequential(\n",
    "            nn.Conv2d(in_channels=3,out_channels=3,kernel_size=1,stride=1,padding=\"same\"),\n",
    "            nn.ReLU(inplace=True))\n",
    "\n",
    "    def forward(self,x):\n",
    "\n",
    "        x = self.s1(x)\n",
    "        x = self.s2(x)\n",
    "        x = self.s3(x)\n",
    "        return x"
   ],
   "metadata": {
    "collapsed": false,
    "pycharm": {
     "name": "#%%\n"
    }
   }
  },
  {
   "cell_type": "code",
   "execution_count": 14,
   "outputs": [],
   "source": [
    "net_seq= MyNetSeq()"
   ],
   "metadata": {
    "collapsed": false,
    "pycharm": {
     "name": "#%%\n"
    }
   }
  },
  {
   "cell_type": "code",
   "execution_count": 15,
   "outputs": [
    {
     "name": "stdout",
     "output_type": "stream",
     "text": [
      "(1800.0, 81.0)\n"
     ]
    }
   ],
   "source": [
    "print(profile(simil,input_size))"
   ],
   "metadata": {
    "collapsed": false,
    "pycharm": {
     "name": "#%%\n"
    }
   }
  },
  {
   "cell_type": "code",
   "execution_count": 17,
   "outputs": [
    {
     "name": "stdout",
     "output_type": "stream",
     "text": [
      "MyNetSeq(\n",
      "  (s1): Sequential(\n",
      "    (0): Conv2d(2, 3, kernel_size=(3, 3), stride=(1, 1), padding=same)\n",
      "    (1): ReLU(inplace=True)\n",
      "  )\n",
      "  (s2): Sequential(\n",
      "    (0): Conv2d(3, 3, kernel_size=(1, 1), stride=(1, 1), padding=same)\n",
      "    (1): ReLU(inplace=True)\n",
      "  )\n",
      "  (s3): Sequential(\n",
      "    (0): Conv2d(3, 3, kernel_size=(1, 1), stride=(1, 1), padding=same)\n",
      "    (1): ReLU(inplace=True)\n",
      "  )\n",
      ")\n",
      "Sequential(\n",
      "  (0): Conv2d(2, 3, kernel_size=(3, 3), stride=(1, 1), padding=same)\n",
      "  (1): ReLU(inplace=True)\n",
      ")\n",
      "Conv2d(2, 3, kernel_size=(3, 3), stride=(1, 1), padding=same)\n",
      "ReLU(inplace=True)\n",
      "Sequential(\n",
      "  (0): Conv2d(3, 3, kernel_size=(1, 1), stride=(1, 1), padding=same)\n",
      "  (1): ReLU(inplace=True)\n",
      ")\n",
      "Conv2d(3, 3, kernel_size=(1, 1), stride=(1, 1), padding=same)\n",
      "ReLU(inplace=True)\n",
      "Sequential(\n",
      "  (0): Conv2d(3, 3, kernel_size=(1, 1), stride=(1, 1), padding=same)\n",
      "  (1): ReLU(inplace=True)\n",
      ")\n",
      "Conv2d(3, 3, kernel_size=(1, 1), stride=(1, 1), padding=same)\n",
      "ReLU(inplace=True)\n"
     ]
    }
   ],
   "source": [
    "for m in net_seq.modules():\n",
    "    print(m)"
   ],
   "metadata": {
    "collapsed": false,
    "pycharm": {
     "name": "#%%\n"
    }
   }
  },
  {
   "cell_type": "code",
   "execution_count": null,
   "outputs": [],
   "source": [],
   "metadata": {
    "collapsed": false,
    "pycharm": {
     "name": "#%%\n"
    }
   }
  }
 ],
 "metadata": {
  "kernelspec": {
   "display_name": "Python 3",
   "language": "python",
   "name": "python3"
  },
  "language_info": {
   "codemirror_mode": {
    "name": "ipython",
    "version": 2
   },
   "file_extension": ".py",
   "mimetype": "text/x-python",
   "name": "python",
   "nbconvert_exporter": "python",
   "pygments_lexer": "ipython2",
   "version": "2.7.6"
  }
 },
 "nbformat": 4,
 "nbformat_minor": 0
}