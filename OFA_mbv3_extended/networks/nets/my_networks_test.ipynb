{
 "cells": [
  {
   "cell_type": "code",
   "execution_count": 1,
   "metadata": {
    "collapsed": true,
    "pycharm": {
     "name": "#%%\n"
    }
   },
   "outputs": [],
   "source": [
    "from ofa.imagenet_classification.elastic_nn.networks import OFAMobileNetV3\n",
    "from ofa.imagenet_classification.networks import MobileNetV3Large\n",
    "\n",
    "from OFA_mbv3_extended.networks.nets.my_networks import get_net_by_name,get_teacher_by_name\n",
    "from OFA_mbv3_extended.networks.nets.static_nets.single_exit_mobilenet_v3 import *\n",
    "from OFA_mbv3_extended.networks.nets.static_nets.early_exit_mobilenet_v3 import *\n",
    "from OFA_mbv3_extended.networks.nets.dynamic_nets.single_exit_ofa_mbv3 import *\n",
    "from OFA_mbv3_extended.networks.nets.dynamic_nets.early_exit_ofa_mbv3 import *\n"
   ]
  },
  {
   "cell_type": "markdown",
   "source": [
    "#### get_net_by_name"
   ],
   "metadata": {
    "collapsed": false,
    "pycharm": {
     "name": "#%% md\n"
    }
   }
  },
  {
   "cell_type": "code",
   "execution_count": 2,
   "outputs": [],
   "source": [
    "names = [\n",
    "    \"OFAMobileNetV3\",\n",
    "    \"MobileNetV3Large\",\n",
    "    \"Single_Exit_MobileNetV3\",\n",
    "    \"SE_B_MobileNetV3\",\n",
    "    \"SE_D_MobileNetV3\",\n",
    "    \"SE_P_MobileNetV3\",\n",
    "    \"SE_DP_MobileNetV3\",\n",
    "    \"Early_Exit_MobileNetV3\",\n",
    "    \"EE_B_MobileNetV3\",\n",
    "    \"EE_D_MobileNetV3\",\n",
    "    \"EE_P_MobileNetV3\",\n",
    "    \"EE_DP_MobileNetV3\",\n",
    "    \"Single_Exit_OFAMobileNetV3\",\n",
    "    \"SE_narrow_OFAMobileNetV3\",\n",
    "    \"SE_wide_OFAMobileNetV3\",\n",
    "    \"SE_B_OFAMobileNetV3\",\n",
    "    \"SE_D_OFAMobileNetV3\",\n",
    "    \"SE_P_OFAMobileNetV3\",\n",
    "    \"SE_DP_OFAMobileNetV3\",\n",
    "    \"Early_Exit_OFAMobileNetV3\",\n",
    "    \"EE_narrow_OFAMobileNetV3\",\n",
    "    \"EE_wide_OFAMobileNetV3\",\n",
    "    \"EE_B_OFAMobileNetV3\",\n",
    "    \"EE_D_OFAMobileNetV3\",\n",
    "    \"EE_P_OFAMobileNetV3\",\n",
    "    \"EE_DP_OFAMobileNetV3\",\n",
    "]\n",
    "\n",
    "correct_class=[\n",
    "    OFAMobileNetV3,\n",
    "    MobileNetV3Large,\n",
    "    Single_Exit_MobileNetV3,\n",
    "    SE_B_MobileNetV3,\n",
    "    SE_D_MobileNetV3,\n",
    "    SE_P_MobileNetV3,\n",
    "    SE_DP_MobileNetV3,\n",
    "    Early_Exit_MobileNetV3,\n",
    "    EE_B_MobileNetV3,\n",
    "    EE_D_MobileNetV3,\n",
    "    EE_P_MobileNetV3,\n",
    "    EE_DP_MobileNetV3,\n",
    "    Single_Exit_OFAMobileNetV3,\n",
    "    SE_narrow_OFAMobileNetV3,\n",
    "    SE_wide_OFAMobileNetV3,\n",
    "    SE_B_OFAMobileNetV3,\n",
    "    SE_D_OFAMobileNetV3,\n",
    "    SE_P_OFAMobileNetV3,\n",
    "    SE_DP_OFAMobileNetV3,\n",
    "    Early_Exit_OFAMobileNetV3,\n",
    "    EE_narrow_OFAMobileNetV3,\n",
    "    EE_wide_OFAMobileNetV3,\n",
    "    EE_B_OFAMobileNetV3,\n",
    "    EE_D_OFAMobileNetV3,\n",
    "    EE_P_OFAMobileNetV3,\n",
    "    EE_DP_OFAMobileNetV3,\n",
    "]"
   ],
   "metadata": {
    "collapsed": false,
    "pycharm": {
     "name": "#%%\n"
    }
   }
  },
  {
   "cell_type": "code",
   "execution_count": 3,
   "outputs": [
    {
     "name": "stdout",
     "output_type": "stream",
     "text": [
      "<class 'ofa.imagenet_classification.elastic_nn.networks.ofa_mbv3.OFAMobileNetV3'>\n",
      "<class 'ofa.imagenet_classification.elastic_nn.networks.ofa_mbv3.OFAMobileNetV3'>\n",
      "\n",
      "\n",
      "<class 'ofa.imagenet_classification.networks.mobilenet_v3.MobileNetV3Large'>\n",
      "<class 'ofa.imagenet_classification.networks.mobilenet_v3.MobileNetV3Large'>\n",
      "\n",
      "\n",
      "<class 'OFA_mbv3_extended.networks.nets.static_nets.single_exit_mobilenet_v3.Single_Exit_MobileNetV3'>\n",
      "<class 'OFA_mbv3_extended.networks.nets.static_nets.single_exit_mobilenet_v3.Single_Exit_MobileNetV3'>\n",
      "\n",
      "\n",
      "<class 'OFA_mbv3_extended.networks.nets.static_nets.single_exit_mobilenet_v3.SE_B_MobileNetV3'>\n",
      "<class 'OFA_mbv3_extended.networks.nets.static_nets.single_exit_mobilenet_v3.SE_B_MobileNetV3'>\n",
      "\n",
      "\n",
      "<class 'OFA_mbv3_extended.networks.nets.static_nets.single_exit_mobilenet_v3.SE_D_MobileNetV3'>\n",
      "<class 'OFA_mbv3_extended.networks.nets.static_nets.single_exit_mobilenet_v3.SE_D_MobileNetV3'>\n",
      "\n",
      "\n",
      "<class 'OFA_mbv3_extended.networks.nets.static_nets.single_exit_mobilenet_v3.SE_P_MobileNetV3'>\n",
      "<class 'OFA_mbv3_extended.networks.nets.static_nets.single_exit_mobilenet_v3.SE_P_MobileNetV3'>\n",
      "\n",
      "\n",
      "<class 'OFA_mbv3_extended.networks.nets.static_nets.single_exit_mobilenet_v3.SE_DP_MobileNetV3'>\n",
      "<class 'OFA_mbv3_extended.networks.nets.static_nets.single_exit_mobilenet_v3.SE_DP_MobileNetV3'>\n",
      "\n",
      "\n",
      "<class 'OFA_mbv3_extended.networks.nets.static_nets.early_exit_mobilenet_v3.Early_Exit_MobileNetV3'>\n",
      "<class 'OFA_mbv3_extended.networks.nets.static_nets.early_exit_mobilenet_v3.Early_Exit_MobileNetV3'>\n",
      "\n",
      "\n",
      "<class 'OFA_mbv3_extended.networks.nets.static_nets.early_exit_mobilenet_v3.EE_B_MobileNetV3'>\n",
      "<class 'OFA_mbv3_extended.networks.nets.static_nets.early_exit_mobilenet_v3.EE_B_MobileNetV3'>\n",
      "\n",
      "\n",
      "<class 'OFA_mbv3_extended.networks.nets.static_nets.early_exit_mobilenet_v3.EE_D_MobileNetV3'>\n",
      "<class 'OFA_mbv3_extended.networks.nets.static_nets.early_exit_mobilenet_v3.EE_D_MobileNetV3'>\n",
      "\n",
      "\n",
      "<class 'OFA_mbv3_extended.networks.nets.static_nets.early_exit_mobilenet_v3.EE_P_MobileNetV3'>\n",
      "<class 'OFA_mbv3_extended.networks.nets.static_nets.early_exit_mobilenet_v3.EE_P_MobileNetV3'>\n",
      "\n",
      "\n",
      "<class 'OFA_mbv3_extended.networks.nets.static_nets.early_exit_mobilenet_v3.EE_DP_MobileNetV3'>\n",
      "<class 'OFA_mbv3_extended.networks.nets.static_nets.early_exit_mobilenet_v3.EE_DP_MobileNetV3'>\n",
      "\n",
      "\n",
      "<class 'OFA_mbv3_extended.networks.nets.dynamic_nets.single_exit_ofa_mbv3.Single_Exit_OFAMobileNetV3'>\n",
      "<class 'OFA_mbv3_extended.networks.nets.dynamic_nets.single_exit_ofa_mbv3.Single_Exit_OFAMobileNetV3'>\n",
      "\n",
      "\n",
      "<class 'OFA_mbv3_extended.networks.nets.dynamic_nets.single_exit_ofa_mbv3.SE_narrow_OFAMobileNetV3'>\n",
      "<class 'OFA_mbv3_extended.networks.nets.dynamic_nets.single_exit_ofa_mbv3.SE_narrow_OFAMobileNetV3'>\n",
      "\n",
      "\n",
      "<class 'OFA_mbv3_extended.networks.nets.dynamic_nets.single_exit_ofa_mbv3.SE_wide_OFAMobileNetV3'>\n",
      "<class 'OFA_mbv3_extended.networks.nets.dynamic_nets.single_exit_ofa_mbv3.SE_wide_OFAMobileNetV3'>\n",
      "\n",
      "\n",
      "<class 'OFA_mbv3_extended.networks.nets.dynamic_nets.single_exit_ofa_mbv3.SE_B_OFAMobileNetV3'>\n",
      "<class 'OFA_mbv3_extended.networks.nets.dynamic_nets.single_exit_ofa_mbv3.SE_B_OFAMobileNetV3'>\n",
      "\n",
      "\n",
      "<class 'OFA_mbv3_extended.networks.nets.dynamic_nets.single_exit_ofa_mbv3.SE_D_OFAMobileNetV3'>\n",
      "<class 'OFA_mbv3_extended.networks.nets.dynamic_nets.single_exit_ofa_mbv3.SE_D_OFAMobileNetV3'>\n",
      "\n",
      "\n",
      "<class 'OFA_mbv3_extended.networks.nets.dynamic_nets.single_exit_ofa_mbv3.SE_P_OFAMobileNetV3'>\n",
      "<class 'OFA_mbv3_extended.networks.nets.dynamic_nets.single_exit_ofa_mbv3.SE_P_OFAMobileNetV3'>\n",
      "\n",
      "\n",
      "<class 'OFA_mbv3_extended.networks.nets.dynamic_nets.single_exit_ofa_mbv3.SE_DP_OFAMobileNetV3'>\n",
      "<class 'OFA_mbv3_extended.networks.nets.dynamic_nets.single_exit_ofa_mbv3.SE_DP_OFAMobileNetV3'>\n",
      "\n",
      "\n",
      "<class 'OFA_mbv3_extended.networks.nets.dynamic_nets.early_exit_ofa_mbv3.Early_Exit_OFAMobileNetV3'>\n",
      "<class 'OFA_mbv3_extended.networks.nets.dynamic_nets.early_exit_ofa_mbv3.Early_Exit_OFAMobileNetV3'>\n",
      "\n",
      "\n",
      "<class 'OFA_mbv3_extended.networks.nets.dynamic_nets.early_exit_ofa_mbv3.EE_narrow_OFAMobileNetV3'>\n",
      "<class 'OFA_mbv3_extended.networks.nets.dynamic_nets.early_exit_ofa_mbv3.EE_narrow_OFAMobileNetV3'>\n",
      "\n",
      "\n",
      "<class 'OFA_mbv3_extended.networks.nets.dynamic_nets.early_exit_ofa_mbv3.EE_wide_OFAMobileNetV3'>\n",
      "<class 'OFA_mbv3_extended.networks.nets.dynamic_nets.early_exit_ofa_mbv3.EE_wide_OFAMobileNetV3'>\n",
      "\n",
      "\n",
      "<class 'OFA_mbv3_extended.networks.nets.dynamic_nets.early_exit_ofa_mbv3.EE_B_OFAMobileNetV3'>\n",
      "<class 'OFA_mbv3_extended.networks.nets.dynamic_nets.early_exit_ofa_mbv3.EE_B_OFAMobileNetV3'>\n",
      "\n",
      "\n",
      "<class 'OFA_mbv3_extended.networks.nets.dynamic_nets.early_exit_ofa_mbv3.EE_D_OFAMobileNetV3'>\n",
      "<class 'OFA_mbv3_extended.networks.nets.dynamic_nets.early_exit_ofa_mbv3.EE_D_OFAMobileNetV3'>\n",
      "\n",
      "\n",
      "<class 'OFA_mbv3_extended.networks.nets.dynamic_nets.early_exit_ofa_mbv3.EE_P_OFAMobileNetV3'>\n",
      "<class 'OFA_mbv3_extended.networks.nets.dynamic_nets.early_exit_ofa_mbv3.EE_P_OFAMobileNetV3'>\n",
      "\n",
      "\n",
      "<class 'OFA_mbv3_extended.networks.nets.dynamic_nets.early_exit_ofa_mbv3.EE_DP_OFAMobileNetV3'>\n",
      "<class 'OFA_mbv3_extended.networks.nets.dynamic_nets.early_exit_ofa_mbv3.EE_DP_OFAMobileNetV3'>\n",
      "\n",
      "\n"
     ]
    }
   ],
   "source": [
    "for name,correct_name in zip(names,correct_class):\n",
    "    got = get_net_by_name(name)\n",
    "    assert(get_net_by_name(name) == correct_name)\n",
    "    print(got)\n",
    "    print(correct_name)\n",
    "    print(\"\\n\")"
   ],
   "metadata": {
    "collapsed": false,
    "pycharm": {
     "name": "#%%\n"
    }
   }
  },
  {
   "cell_type": "markdown",
   "source": [
    "#### get_teacher_by_name"
   ],
   "metadata": {
    "collapsed": false,
    "pycharm": {
     "name": "#%% md\n"
    }
   }
  },
  {
   "cell_type": "code",
   "execution_count": 4,
   "outputs": [],
   "source": [
    "names=[\n",
    "    \"OFAMobileNetV3\",\n",
    "\n",
    "    \"SE_B_OFAMobileNetV3\",\n",
    "    \"SE_D_OFAMobileNetV3\",\n",
    "    \"SE_P_OFAMobileNetV3\",\n",
    "    \"SE_DP_OFAMobileNetV3\",\n",
    "\n",
    "    \"EE_B_OFAMobileNetV3\",\n",
    "    \"EE_D_OFAMobileNetV3\",\n",
    "    \"EE_P_OFAMobileNetV3\",\n",
    "    \"EE_DP_OFAMobileNetV3\",\n",
    "]\n",
    "\n",
    "\n",
    "expected_teachers=[\n",
    "    MobileNetV3Large,\n",
    "\n",
    "    SE_B_MobileNetV3_builder,\n",
    "    SE_D_MobileNetV3_builder,\n",
    "    SE_P_MobileNetV3_builder,\n",
    "    SE_DP_MobileNetV3_builder,\n",
    "\n",
    "    EE_B_MobileNetV3_builder,\n",
    "    EE_D_MobileNetV3_builder,\n",
    "    EE_P_MobileNetV3_builder,\n",
    "    EE_DP_MobileNetV3_builder,\n",
    "]"
   ],
   "metadata": {
    "collapsed": false,
    "pycharm": {
     "name": "#%%\n"
    }
   }
  },
  {
   "cell_type": "code",
   "execution_count": 5,
   "outputs": [
    {
     "name": "stdout",
     "output_type": "stream",
     "text": [
      "OFAMobileNetV3\n",
      "<class 'ofa.imagenet_classification.networks.mobilenet_v3.MobileNetV3Large'>\n",
      "<class 'ofa.imagenet_classification.networks.mobilenet_v3.MobileNetV3Large'>\n",
      "\n",
      "\n",
      "SE_B_OFAMobileNetV3\n",
      "<function SE_B_MobileNetV3_builder at 0x000001654C223C10>\n",
      "<function SE_B_MobileNetV3_builder at 0x000001654C223C10>\n",
      "\n",
      "\n",
      "SE_D_OFAMobileNetV3\n",
      "<function SE_D_MobileNetV3_builder at 0x000001654C2BF550>\n",
      "<function SE_D_MobileNetV3_builder at 0x000001654C2BF550>\n",
      "\n",
      "\n",
      "SE_P_OFAMobileNetV3\n",
      "<function SE_P_MobileNetV3_builder at 0x000001654C2BF790>\n",
      "<function SE_P_MobileNetV3_builder at 0x000001654C2BF790>\n",
      "\n",
      "\n",
      "SE_DP_OFAMobileNetV3\n",
      "<function SE_DP_MobileNetV3_builder at 0x000001654C2BF9D0>\n",
      "<function SE_DP_MobileNetV3_builder at 0x000001654C2BF9D0>\n",
      "\n",
      "\n",
      "EE_B_OFAMobileNetV3\n",
      "<function EE_B_MobileNetV3_builder at 0x000001654C2BFE50>\n",
      "<function EE_B_MobileNetV3_builder at 0x000001654C2BFE50>\n",
      "\n",
      "\n",
      "EE_D_OFAMobileNetV3\n",
      "<function EE_D_MobileNetV3_builder at 0x000001654C2B4310>\n",
      "<function EE_D_MobileNetV3_builder at 0x000001654C2B4310>\n",
      "\n",
      "\n",
      "EE_P_OFAMobileNetV3\n",
      "<function EE_P_MobileNetV3_builder at 0x000001654C2B4550>\n",
      "<function EE_P_MobileNetV3_builder at 0x000001654C2B4550>\n",
      "\n",
      "\n",
      "EE_DP_OFAMobileNetV3\n",
      "<function EE_DP_MobileNetV3_builder at 0x000001654C2B4790>\n",
      "<function EE_DP_MobileNetV3_builder at 0x000001654C2B4790>\n",
      "\n",
      "\n"
     ]
    }
   ],
   "source": [
    "for name,teacher in zip(names,expected_teachers):\n",
    "    got = get_teacher_by_name(name)\n",
    "    assert( got == teacher)\n",
    "    print(name)\n",
    "    print(got)\n",
    "    print(teacher)\n",
    "    print(\"\\n\")"
   ],
   "metadata": {
    "collapsed": false,
    "pycharm": {
     "name": "#%%\n"
    }
   }
  },
  {
   "cell_type": "code",
   "execution_count": 1,
   "outputs": [],
   "source": [
    "from OFA_mbv3_extended.networks.nets.my_networks import get_valid_nw_keys"
   ],
   "metadata": {
    "collapsed": false,
    "pycharm": {
     "name": "#%%\n"
    }
   }
  },
  {
   "cell_type": "code",
   "execution_count": 2,
   "outputs": [
    {
     "data": {
      "text/plain": "[1, 2, 4, 3, 5, 6, 7]"
     },
     "execution_count": 2,
     "metadata": {},
     "output_type": "execute_result"
    }
   ],
   "source": [
    "nw = [1,2,3]\n",
    "get_valid_nw_keys(nw)"
   ],
   "metadata": {
    "collapsed": false,
    "pycharm": {
     "name": "#%%\n"
    }
   }
  },
  {
   "cell_type": "code",
   "execution_count": 3,
   "outputs": [
    {
     "data": {
      "text/plain": "[7]"
     },
     "execution_count": 3,
     "metadata": {},
     "output_type": "execute_result"
    }
   ],
   "source": [
    "nw = [3]\n",
    "get_valid_nw_keys(nw)"
   ],
   "metadata": {
    "collapsed": false,
    "pycharm": {
     "name": "#%%\n"
    }
   }
  },
  {
   "cell_type": "code",
   "execution_count": 4,
   "outputs": [
    {
     "data": {
      "text/plain": "[3, 5, 6]"
     },
     "execution_count": 4,
     "metadata": {},
     "output_type": "execute_result"
    }
   ],
   "source": [
    "nw = [2]\n",
    "get_valid_nw_keys(nw)"
   ],
   "metadata": {
    "collapsed": false,
    "pycharm": {
     "name": "#%%\n"
    }
   }
  },
  {
   "cell_type": "code",
   "execution_count": 5,
   "outputs": [
    {
     "data": {
      "text/plain": "[1, 2, 4]"
     },
     "execution_count": 5,
     "metadata": {},
     "output_type": "execute_result"
    }
   ],
   "source": [
    "nw = [1]\n",
    "get_valid_nw_keys(nw)"
   ],
   "metadata": {
    "collapsed": false,
    "pycharm": {
     "name": "#%%\n"
    }
   }
  },
  {
   "cell_type": "code",
   "execution_count": 6,
   "outputs": [
    {
     "data": {
      "text/plain": "[3, 5, 6, 7]"
     },
     "execution_count": 6,
     "metadata": {},
     "output_type": "execute_result"
    }
   ],
   "source": [
    "nw = [2,3]\n",
    "get_valid_nw_keys(nw)"
   ],
   "metadata": {
    "collapsed": false,
    "pycharm": {
     "name": "#%%\n"
    }
   }
  },
  {
   "cell_type": "code",
   "execution_count": 7,
   "outputs": [
    {
     "data": {
      "text/plain": "[1, 2, 4, 7]"
     },
     "execution_count": 7,
     "metadata": {},
     "output_type": "execute_result"
    }
   ],
   "source": [
    "nw = [1,3]\n",
    "get_valid_nw_keys(nw)"
   ],
   "metadata": {
    "collapsed": false,
    "pycharm": {
     "name": "#%%\n"
    }
   }
  },
  {
   "cell_type": "code",
   "execution_count": 8,
   "outputs": [
    {
     "data": {
      "text/plain": "[1, 2, 4, 3, 5, 6]"
     },
     "execution_count": 8,
     "metadata": {},
     "output_type": "execute_result"
    }
   ],
   "source": [
    "nw = [1,2]\n",
    "get_valid_nw_keys(nw)"
   ],
   "metadata": {
    "collapsed": false,
    "pycharm": {
     "name": "#%%\n"
    }
   }
  },
  {
   "cell_type": "code",
   "execution_count": null,
   "outputs": [],
   "source": [],
   "metadata": {
    "collapsed": false,
    "pycharm": {
     "name": "#%%\n"
    }
   }
  }
 ],
 "metadata": {
  "kernelspec": {
   "display_name": "Python 3",
   "language": "python",
   "name": "python3"
  },
  "language_info": {
   "codemirror_mode": {
    "name": "ipython",
    "version": 2
   },
   "file_extension": ".py",
   "mimetype": "text/x-python",
   "name": "python",
   "nbconvert_exporter": "python",
   "pygments_lexer": "ipython2",
   "version": "2.7.6"
  }
 },
 "nbformat": 4,
 "nbformat_minor": 0
}