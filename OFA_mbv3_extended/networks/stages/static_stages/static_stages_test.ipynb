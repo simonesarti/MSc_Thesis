{
 "cells": [
  {
   "cell_type": "code",
   "execution_count": 92,
   "metadata": {
    "collapsed": true,
    "pycharm": {
     "name": "#%%\n"
    }
   },
   "outputs": [],
   "source": [
    "from OFA_mbv3_extended.networks.stages.static_stages.stat_layers_builders import *\n",
    "from OFA_mbv3_extended.networks.stages.static_stages.stat_stages_builders import *\n",
    "from OFA_mbv3_extended.networks.stages.static_stages.stat_stages import *\n",
    "from OFA_mbv3_extended.networks.nets.my_networks import NetworksParameters\n",
    "import pprint\n"
   ]
  },
  {
   "cell_type": "code",
   "execution_count": 2,
   "outputs": [],
   "source": [
    "width_mult=1.0\n",
    "values = NetworksParameters(width_mult).get_layers_values()"
   ],
   "metadata": {
    "collapsed": false,
    "pycharm": {
     "name": "#%%\n"
    }
   }
  },
  {
   "cell_type": "markdown",
   "source": [
    "## static_head_stage_layers_builder TEST"
   ],
   "metadata": {
    "collapsed": false,
    "pycharm": {
     "name": "#%% md\n"
    }
   }
  },
  {
   "cell_type": "code",
   "execution_count": 3,
   "outputs": [],
   "source": [
    "first_conv, first_layer = static_head_stage_layers_builder(\n",
    "            channels=values[\"head_stage_channels\"],\n",
    "            kernel_sizes=values[\"head_stage_ks\"],\n",
    "            expand_ratio=values[\"head_stage_expand_ratio\"],\n",
    "            strides=values[\"head_stage_strides\"],\n",
    "            act=values[\"head_stage_act\"],\n",
    "            use_se=values[\"head_stage_use_se\"])"
   ],
   "metadata": {
    "collapsed": false,
    "pycharm": {
     "name": "#%%\n"
    }
   }
  },
  {
   "cell_type": "code",
   "execution_count": 4,
   "outputs": [
    {
     "name": "stdout",
     "output_type": "stream",
     "text": [
      "ConvLayer(\n",
      "  (conv): Conv2d(3, 16, kernel_size=(3, 3), stride=(2, 2), padding=(1, 1), bias=False)\n",
      "  (bn): BatchNorm2d(16, eps=1e-05, momentum=0.1, affine=True, track_running_stats=True)\n",
      "  (act): Hswish()\n",
      ")\n"
     ]
    }
   ],
   "source": [
    "print(first_conv)"
   ],
   "metadata": {
    "collapsed": false,
    "pycharm": {
     "name": "#%%\n"
    }
   }
  },
  {
   "cell_type": "code",
   "execution_count": 5,
   "outputs": [
    {
     "name": "stdout",
     "output_type": "stream",
     "text": [
      "3x3_Conv_O16_H_SWISH_BN\n"
     ]
    }
   ],
   "source": [
    "print(first_conv.module_str)"
   ],
   "metadata": {
    "collapsed": false,
    "pycharm": {
     "name": "#%%\n"
    }
   }
  },
  {
   "cell_type": "code",
   "execution_count": 6,
   "outputs": [
    {
     "name": "stdout",
     "output_type": "stream",
     "text": [
      "{'name': 'ConvLayer', 'kernel_size': 3, 'stride': 2, 'dilation': 1, 'groups': 1, 'bias': False, 'has_shuffle': False, 'use_se': False, 'in_channels': 3, 'out_channels': 16, 'use_bn': True, 'act_func': 'h_swish', 'dropout_rate': 0, 'ops_order': 'weight_bn_act'}\n"
     ]
    }
   ],
   "source": [
    "print(first_conv.config)"
   ],
   "metadata": {
    "collapsed": false,
    "pycharm": {
     "name": "#%%\n"
    }
   }
  },
  {
   "cell_type": "code",
   "execution_count": 7,
   "outputs": [
    {
     "name": "stdout",
     "output_type": "stream",
     "text": [
      "ResidualBlock(\n",
      "  (conv): MBConvLayer(\n",
      "    (depth_conv): Sequential(\n",
      "      (conv): Conv2d(16, 16, kernel_size=(3, 3), stride=(1, 1), padding=(1, 1), groups=16, bias=False)\n",
      "      (bn): BatchNorm2d(16, eps=1e-05, momentum=0.1, affine=True, track_running_stats=True)\n",
      "      (act): ReLU(inplace=True)\n",
      "    )\n",
      "    (point_linear): Sequential(\n",
      "      (conv): Conv2d(16, 16, kernel_size=(1, 1), stride=(1, 1), bias=False)\n",
      "      (bn): BatchNorm2d(16, eps=1e-05, momentum=0.1, affine=True, track_running_stats=True)\n",
      "    )\n",
      "  )\n",
      "  (shortcut): IdentityLayer()\n",
      ")\n"
     ]
    }
   ],
   "source": [
    "print(first_layer)"
   ],
   "metadata": {
    "collapsed": false,
    "pycharm": {
     "name": "#%%\n"
    }
   }
  },
  {
   "cell_type": "code",
   "execution_count": 8,
   "outputs": [
    {
     "name": "stdout",
     "output_type": "stream",
     "text": [
      "(3x3_MBConv1_RELU_O16_BN, Identity)\n"
     ]
    }
   ],
   "source": [
    "print(first_layer.module_str)"
   ],
   "metadata": {
    "collapsed": false,
    "pycharm": {
     "name": "#%%\n"
    }
   }
  },
  {
   "cell_type": "code",
   "execution_count": 9,
   "outputs": [
    {
     "name": "stdout",
     "output_type": "stream",
     "text": [
      "{'name': 'ResidualBlock', 'conv': {'name': 'MBConvLayer', 'in_channels': 16, 'out_channels': 16, 'kernel_size': 3, 'stride': 1, 'expand_ratio': 1, 'mid_channels': None, 'act_func': 'relu', 'use_se': False, 'groups': None}, 'shortcut': {'name': 'IdentityLayer', 'in_channels': 16, 'out_channels': 16, 'use_bn': False, 'act_func': None, 'dropout_rate': 0, 'ops_order': 'weight_bn_act'}}\n"
     ]
    }
   ],
   "source": [
    "print(first_layer.config)"
   ],
   "metadata": {
    "collapsed": false,
    "pycharm": {
     "name": "#%%\n"
    }
   }
  },
  {
   "cell_type": "markdown",
   "source": [
    "### static_head_stage_builder TEST"
   ],
   "metadata": {
    "collapsed": false,
    "pycharm": {
     "name": "#%% md\n"
    }
   }
  },
  {
   "cell_type": "code",
   "execution_count": 10,
   "outputs": [],
   "source": [
    "head_stage = static_head_stage_builder(width_mult=1.0)"
   ],
   "metadata": {
    "collapsed": false,
    "pycharm": {
     "name": "#%%\n"
    }
   }
  },
  {
   "cell_type": "code",
   "execution_count": 11,
   "outputs": [
    {
     "name": "stdout",
     "output_type": "stream",
     "text": [
      "StaticHeadStage(\n",
      "  (first_conv): ConvLayer(\n",
      "    (conv): Conv2d(3, 16, kernel_size=(3, 3), stride=(2, 2), padding=(1, 1), bias=False)\n",
      "    (bn): BatchNorm2d(16, eps=1e-05, momentum=0.1, affine=True, track_running_stats=True)\n",
      "    (act): Hswish()\n",
      "  )\n",
      "  (first_layer): ResidualBlock(\n",
      "    (conv): MBConvLayer(\n",
      "      (depth_conv): Sequential(\n",
      "        (conv): Conv2d(16, 16, kernel_size=(3, 3), stride=(1, 1), padding=(1, 1), groups=16, bias=False)\n",
      "        (bn): BatchNorm2d(16, eps=1e-05, momentum=0.1, affine=True, track_running_stats=True)\n",
      "        (act): ReLU(inplace=True)\n",
      "      )\n",
      "      (point_linear): Sequential(\n",
      "        (conv): Conv2d(16, 16, kernel_size=(1, 1), stride=(1, 1), bias=False)\n",
      "        (bn): BatchNorm2d(16, eps=1e-05, momentum=0.1, affine=True, track_running_stats=True)\n",
      "      )\n",
      "    )\n",
      "    (shortcut): IdentityLayer()\n",
      "  )\n",
      ")\n"
     ]
    }
   ],
   "source": [
    "print(head_stage)"
   ],
   "metadata": {
    "collapsed": false,
    "pycharm": {
     "name": "#%%\n"
    }
   }
  },
  {
   "cell_type": "code",
   "execution_count": 12,
   "outputs": [
    {
     "name": "stdout",
     "output_type": "stream",
     "text": [
      "3x3_Conv_O16_H_SWISH_BN\n",
      "(3x3_MBConv1_RELU_O16_BN, Identity)\n"
     ]
    }
   ],
   "source": [
    "print(head_stage.module_str)"
   ],
   "metadata": {
    "collapsed": false,
    "pycharm": {
     "name": "#%%\n"
    }
   }
  },
  {
   "cell_type": "markdown",
   "source": [
    "# StaticHeadStage TEST"
   ],
   "metadata": {
    "collapsed": false,
    "pycharm": {
     "name": "#%% md\n"
    }
   }
  },
  {
   "cell_type": "code",
   "execution_count": 13,
   "outputs": [],
   "source": [
    "head_stage = StaticHeadStage(first_conv, first_layer)"
   ],
   "metadata": {
    "collapsed": false,
    "pycharm": {
     "name": "#%%\n"
    }
   }
  },
  {
   "cell_type": "code",
   "execution_count": 14,
   "outputs": [
    {
     "name": "stdout",
     "output_type": "stream",
     "text": [
      "StaticHeadStage(\n",
      "  (first_conv): ConvLayer(\n",
      "    (conv): Conv2d(3, 16, kernel_size=(3, 3), stride=(2, 2), padding=(1, 1), bias=False)\n",
      "    (bn): BatchNorm2d(16, eps=1e-05, momentum=0.1, affine=True, track_running_stats=True)\n",
      "    (act): Hswish()\n",
      "  )\n",
      "  (first_layer): ResidualBlock(\n",
      "    (conv): MBConvLayer(\n",
      "      (depth_conv): Sequential(\n",
      "        (conv): Conv2d(16, 16, kernel_size=(3, 3), stride=(1, 1), padding=(1, 1), groups=16, bias=False)\n",
      "        (bn): BatchNorm2d(16, eps=1e-05, momentum=0.1, affine=True, track_running_stats=True)\n",
      "        (act): ReLU(inplace=True)\n",
      "      )\n",
      "      (point_linear): Sequential(\n",
      "        (conv): Conv2d(16, 16, kernel_size=(1, 1), stride=(1, 1), bias=False)\n",
      "        (bn): BatchNorm2d(16, eps=1e-05, momentum=0.1, affine=True, track_running_stats=True)\n",
      "      )\n",
      "    )\n",
      "    (shortcut): IdentityLayer()\n",
      "  )\n",
      ")\n"
     ]
    }
   ],
   "source": [
    "print(head_stage)"
   ],
   "metadata": {
    "collapsed": false,
    "pycharm": {
     "name": "#%%\n"
    }
   }
  },
  {
   "cell_type": "code",
   "execution_count": 15,
   "outputs": [
    {
     "name": "stdout",
     "output_type": "stream",
     "text": [
      "3x3_Conv_O16_H_SWISH_BN\n",
      "(3x3_MBConv1_RELU_O16_BN, Identity)\n"
     ]
    }
   ],
   "source": [
    "print(head_stage.module_str)"
   ],
   "metadata": {
    "collapsed": false,
    "pycharm": {
     "name": "#%%\n"
    }
   }
  },
  {
   "cell_type": "code",
   "execution_count": 16,
   "outputs": [
    {
     "name": "stdout",
     "output_type": "stream",
     "text": [
      "{'name': 'StaticHeadStage', 'first_conv': {'name': 'ConvLayer', 'kernel_size': 3, 'stride': 2, 'dilation': 1, 'groups': 1, 'bias': False, 'has_shuffle': False, 'use_se': False, 'in_channels': 3, 'out_channels': 16, 'use_bn': True, 'act_func': 'h_swish', 'dropout_rate': 0, 'ops_order': 'weight_bn_act'}, 'first_layer': {'name': 'ResidualBlock', 'conv': {'name': 'MBConvLayer', 'in_channels': 16, 'out_channels': 16, 'kernel_size': 3, 'stride': 1, 'expand_ratio': 1, 'mid_channels': None, 'act_func': 'relu', 'use_se': False, 'groups': None}, 'shortcut': {'name': 'IdentityLayer', 'in_channels': 16, 'out_channels': 16, 'use_bn': False, 'act_func': None, 'dropout_rate': 0, 'ops_order': 'weight_bn_act'}}}\n"
     ]
    }
   ],
   "source": [
    "head_config=head_stage.config\n",
    "print(head_config)"
   ],
   "metadata": {
    "collapsed": false,
    "pycharm": {
     "name": "#%%\n"
    }
   }
  },
  {
   "cell_type": "code",
   "execution_count": 17,
   "outputs": [],
   "source": [
    "built_head=head_stage.build_from_config(head_config)"
   ],
   "metadata": {
    "collapsed": false,
    "pycharm": {
     "name": "#%%\n"
    }
   }
  },
  {
   "cell_type": "code",
   "execution_count": 18,
   "outputs": [
    {
     "name": "stdout",
     "output_type": "stream",
     "text": [
      "StaticHeadStage(\n",
      "  (first_conv): ConvLayer(\n",
      "    (conv): Conv2d(3, 16, kernel_size=(3, 3), stride=(2, 2), padding=(1, 1), bias=False)\n",
      "    (bn): BatchNorm2d(16, eps=1e-05, momentum=0.1, affine=True, track_running_stats=True)\n",
      "    (act): Hswish()\n",
      "  )\n",
      "  (first_layer): ResidualBlock(\n",
      "    (conv): MBConvLayer(\n",
      "      (depth_conv): Sequential(\n",
      "        (conv): Conv2d(16, 16, kernel_size=(3, 3), stride=(1, 1), padding=(1, 1), groups=16, bias=False)\n",
      "        (bn): BatchNorm2d(16, eps=1e-05, momentum=0.1, affine=True, track_running_stats=True)\n",
      "        (act): ReLU(inplace=True)\n",
      "      )\n",
      "      (point_linear): Sequential(\n",
      "        (conv): Conv2d(16, 16, kernel_size=(1, 1), stride=(1, 1), bias=False)\n",
      "        (bn): BatchNorm2d(16, eps=1e-05, momentum=0.1, affine=True, track_running_stats=True)\n",
      "      )\n",
      "    )\n",
      "    (shortcut): IdentityLayer()\n",
      "  )\n",
      ")\n"
     ]
    }
   ],
   "source": [
    "print(built_head)"
   ],
   "metadata": {
    "collapsed": false,
    "pycharm": {
     "name": "#%%\n"
    }
   }
  },
  {
   "cell_type": "code",
   "execution_count": 19,
   "outputs": [
    {
     "name": "stdout",
     "output_type": "stream",
     "text": [
      "3x3_Conv_O16_H_SWISH_BN\n",
      "(3x3_MBConv1_RELU_O16_BN, Identity)\n"
     ]
    }
   ],
   "source": [
    "print(built_head.module_str)"
   ],
   "metadata": {
    "collapsed": false,
    "pycharm": {
     "name": "#%%\n"
    }
   }
  },
  {
   "cell_type": "code",
   "execution_count": 20,
   "outputs": [
    {
     "name": "stdout",
     "output_type": "stream",
     "text": [
      "{'name': 'StaticHeadStage', 'first_conv': {'name': 'ConvLayer', 'kernel_size': 3, 'stride': 2, 'dilation': 1, 'groups': 1, 'bias': False, 'has_shuffle': False, 'use_se': False, 'in_channels': 3, 'out_channels': 16, 'use_bn': True, 'act_func': 'h_swish', 'dropout_rate': 0, 'ops_order': 'weight_bn_act'}, 'first_layer': {'name': 'ResidualBlock', 'conv': {'name': 'MBConvLayer', 'in_channels': 16, 'out_channels': 16, 'kernel_size': 3, 'stride': 1, 'expand_ratio': 1, 'mid_channels': None, 'act_func': 'relu', 'use_se': False, 'groups': None}, 'shortcut': {'name': 'IdentityLayer', 'in_channels': 16, 'out_channels': 16, 'use_bn': False, 'act_func': None, 'dropout_rate': 0, 'ops_order': 'weight_bn_act'}}}\n"
     ]
    }
   ],
   "source": [
    "print(built_head.config)"
   ],
   "metadata": {
    "collapsed": false,
    "pycharm": {
     "name": "#%%\n"
    }
   }
  },
  {
   "cell_type": "code",
   "execution_count": 21,
   "outputs": [
    {
     "name": "stdout",
     "output_type": "stream",
     "text": [
      "StaticHeadStage(\n",
      "  (first_conv): ConvLayer(\n",
      "    (conv): Conv2d(3, 16, kernel_size=(3, 3), stride=(2, 2), padding=(1, 1), bias=False)\n",
      "    (bn): BatchNorm2d(16, eps=1e-05, momentum=0.1, affine=True, track_running_stats=True)\n",
      "    (act): Hswish()\n",
      "  )\n",
      "  (first_layer): ResidualBlock(\n",
      "    (conv): MBConvLayer(\n",
      "      (depth_conv): Sequential(\n",
      "        (conv): Conv2d(16, 16, kernel_size=(3, 3), stride=(1, 1), padding=(1, 1), groups=16, bias=False)\n",
      "        (bn): BatchNorm2d(16, eps=1e-05, momentum=0.1, affine=True, track_running_stats=True)\n",
      "        (act): ReLU(inplace=True)\n",
      "      )\n",
      "      (point_linear): Sequential(\n",
      "        (conv): Conv2d(16, 16, kernel_size=(1, 1), stride=(1, 1), bias=False)\n",
      "        (bn): BatchNorm2d(16, eps=1e-05, momentum=0.1, affine=True, track_running_stats=True)\n",
      "      )\n",
      "    )\n",
      "    (shortcut): IdentityLayer()\n",
      "  )\n",
      ")\n"
     ]
    }
   ],
   "source": [
    "print(built_head)"
   ],
   "metadata": {
    "collapsed": false,
    "pycharm": {
     "name": "#%%\n"
    }
   }
  },
  {
   "cell_type": "markdown",
   "source": [
    "## static_body_stage_layers_builder TEST"
   ],
   "metadata": {
    "collapsed": false,
    "pycharm": {
     "name": "#%% md\n"
    }
   }
  },
  {
   "cell_type": "code",
   "execution_count": 22,
   "outputs": [],
   "source": [
    "ks=7\n",
    "expand_ratio=6\n",
    "depth=4"
   ],
   "metadata": {
    "collapsed": false,
    "pycharm": {
     "name": "#%%\n"
    }
   }
  },
  {
   "cell_type": "code",
   "execution_count": 23,
   "outputs": [],
   "source": [
    "i=0\n",
    "\n",
    "layers1 = static_body_stage_layers_builder(\n",
    "                depth=depth,\n",
    "                in_channels=values[\"head_stage_channels\"][-1] if i == 0 else values[\"body_stages_channels\"][i - 1],\n",
    "                out_channels=values[\"body_stages_channels\"][i],\n",
    "                kernel_size=ks,\n",
    "                expand_ratio=expand_ratio,\n",
    "                stride=values[\"body_stages_strides\"][i],\n",
    "                act=values[\"body_stages_act\"][i],\n",
    "                use_se=values[\"body_stages_use_se\"][i]\n",
    "            )"
   ],
   "metadata": {
    "collapsed": false,
    "pycharm": {
     "name": "#%%\n"
    }
   }
  },
  {
   "cell_type": "code",
   "execution_count": 24,
   "outputs": [
    {
     "name": "stdout",
     "output_type": "stream",
     "text": [
      "[ResidualBlock(\n",
      "  (conv): MBConvLayer(\n",
      "    (inverted_bottleneck): Sequential(\n",
      "      (conv): Conv2d(16, 96, kernel_size=(1, 1), stride=(1, 1), bias=False)\n",
      "      (bn): BatchNorm2d(96, eps=1e-05, momentum=0.1, affine=True, track_running_stats=True)\n",
      "      (act): ReLU(inplace=True)\n",
      "    )\n",
      "    (depth_conv): Sequential(\n",
      "      (conv): Conv2d(96, 96, kernel_size=(7, 7), stride=(2, 2), padding=(3, 3), groups=96, bias=False)\n",
      "      (bn): BatchNorm2d(96, eps=1e-05, momentum=0.1, affine=True, track_running_stats=True)\n",
      "      (act): ReLU(inplace=True)\n",
      "    )\n",
      "    (point_linear): Sequential(\n",
      "      (conv): Conv2d(96, 24, kernel_size=(1, 1), stride=(1, 1), bias=False)\n",
      "      (bn): BatchNorm2d(24, eps=1e-05, momentum=0.1, affine=True, track_running_stats=True)\n",
      "    )\n",
      "  )\n",
      "), ResidualBlock(\n",
      "  (conv): MBConvLayer(\n",
      "    (inverted_bottleneck): Sequential(\n",
      "      (conv): Conv2d(24, 144, kernel_size=(1, 1), stride=(1, 1), bias=False)\n",
      "      (bn): BatchNorm2d(144, eps=1e-05, momentum=0.1, affine=True, track_running_stats=True)\n",
      "      (act): ReLU(inplace=True)\n",
      "    )\n",
      "    (depth_conv): Sequential(\n",
      "      (conv): Conv2d(144, 144, kernel_size=(7, 7), stride=(1, 1), padding=(3, 3), groups=144, bias=False)\n",
      "      (bn): BatchNorm2d(144, eps=1e-05, momentum=0.1, affine=True, track_running_stats=True)\n",
      "      (act): ReLU(inplace=True)\n",
      "    )\n",
      "    (point_linear): Sequential(\n",
      "      (conv): Conv2d(144, 24, kernel_size=(1, 1), stride=(1, 1), bias=False)\n",
      "      (bn): BatchNorm2d(24, eps=1e-05, momentum=0.1, affine=True, track_running_stats=True)\n",
      "    )\n",
      "  )\n",
      "  (shortcut): IdentityLayer()\n",
      "), ResidualBlock(\n",
      "  (conv): MBConvLayer(\n",
      "    (inverted_bottleneck): Sequential(\n",
      "      (conv): Conv2d(24, 144, kernel_size=(1, 1), stride=(1, 1), bias=False)\n",
      "      (bn): BatchNorm2d(144, eps=1e-05, momentum=0.1, affine=True, track_running_stats=True)\n",
      "      (act): ReLU(inplace=True)\n",
      "    )\n",
      "    (depth_conv): Sequential(\n",
      "      (conv): Conv2d(144, 144, kernel_size=(7, 7), stride=(1, 1), padding=(3, 3), groups=144, bias=False)\n",
      "      (bn): BatchNorm2d(144, eps=1e-05, momentum=0.1, affine=True, track_running_stats=True)\n",
      "      (act): ReLU(inplace=True)\n",
      "    )\n",
      "    (point_linear): Sequential(\n",
      "      (conv): Conv2d(144, 24, kernel_size=(1, 1), stride=(1, 1), bias=False)\n",
      "      (bn): BatchNorm2d(24, eps=1e-05, momentum=0.1, affine=True, track_running_stats=True)\n",
      "    )\n",
      "  )\n",
      "  (shortcut): IdentityLayer()\n",
      "), ResidualBlock(\n",
      "  (conv): MBConvLayer(\n",
      "    (inverted_bottleneck): Sequential(\n",
      "      (conv): Conv2d(24, 144, kernel_size=(1, 1), stride=(1, 1), bias=False)\n",
      "      (bn): BatchNorm2d(144, eps=1e-05, momentum=0.1, affine=True, track_running_stats=True)\n",
      "      (act): ReLU(inplace=True)\n",
      "    )\n",
      "    (depth_conv): Sequential(\n",
      "      (conv): Conv2d(144, 144, kernel_size=(7, 7), stride=(1, 1), padding=(3, 3), groups=144, bias=False)\n",
      "      (bn): BatchNorm2d(144, eps=1e-05, momentum=0.1, affine=True, track_running_stats=True)\n",
      "      (act): ReLU(inplace=True)\n",
      "    )\n",
      "    (point_linear): Sequential(\n",
      "      (conv): Conv2d(144, 24, kernel_size=(1, 1), stride=(1, 1), bias=False)\n",
      "      (bn): BatchNorm2d(24, eps=1e-05, momentum=0.1, affine=True, track_running_stats=True)\n",
      "    )\n",
      "  )\n",
      "  (shortcut): IdentityLayer()\n",
      ")]\n"
     ]
    }
   ],
   "source": [
    "print(layers1)"
   ],
   "metadata": {
    "collapsed": false,
    "pycharm": {
     "name": "#%%\n"
    }
   }
  },
  {
   "cell_type": "code",
   "execution_count": 25,
   "outputs": [
    {
     "name": "stdout",
     "output_type": "stream",
     "text": [
      "(7x7_MBConv6_RELU_O24_BN, None)\n"
     ]
    }
   ],
   "source": [
    "print(layers1[0].module_str)"
   ],
   "metadata": {
    "collapsed": false,
    "pycharm": {
     "name": "#%%\n"
    }
   }
  },
  {
   "cell_type": "code",
   "execution_count": 26,
   "outputs": [
    {
     "name": "stdout",
     "output_type": "stream",
     "text": [
      "{'name': 'ResidualBlock', 'conv': {'name': 'MBConvLayer', 'in_channels': 16, 'out_channels': 24, 'kernel_size': 7, 'stride': 2, 'expand_ratio': 6, 'mid_channels': None, 'act_func': 'relu', 'use_se': False, 'groups': None}, 'shortcut': None}\n"
     ]
    }
   ],
   "source": [
    "print(layers1[0].config)"
   ],
   "metadata": {
    "collapsed": false,
    "pycharm": {
     "name": "#%%\n"
    }
   }
  },
  {
   "cell_type": "code",
   "execution_count": 27,
   "outputs": [
    {
     "name": "stdout",
     "output_type": "stream",
     "text": [
      "(7x7_MBConv6_RELU_O24_BN, Identity)\n"
     ]
    }
   ],
   "source": [
    "print(layers1[1].module_str)"
   ],
   "metadata": {
    "collapsed": false,
    "pycharm": {
     "name": "#%%\n"
    }
   }
  },
  {
   "cell_type": "code",
   "execution_count": 28,
   "outputs": [
    {
     "name": "stdout",
     "output_type": "stream",
     "text": [
      "{'name': 'ResidualBlock', 'conv': {'name': 'MBConvLayer', 'in_channels': 24, 'out_channels': 24, 'kernel_size': 7, 'stride': 1, 'expand_ratio': 6, 'mid_channels': None, 'act_func': 'relu', 'use_se': False, 'groups': None}, 'shortcut': {'name': 'IdentityLayer', 'in_channels': 24, 'out_channels': 24, 'use_bn': False, 'act_func': None, 'dropout_rate': 0, 'ops_order': 'weight_bn_act'}}\n"
     ]
    }
   ],
   "source": [
    "print(layers1[1].config)"
   ],
   "metadata": {
    "collapsed": false,
    "pycharm": {
     "name": "#%%\n"
    }
   }
  },
  {
   "cell_type": "code",
   "execution_count": 29,
   "outputs": [],
   "source": [
    "i=1\n",
    "\n",
    "layers2 = static_body_stage_layers_builder(\n",
    "                depth=depth,\n",
    "                in_channels=values[\"head_stage_channels\"][-1] if i == 0 else values[\"body_stages_channels\"][i - 1],\n",
    "                out_channels=values[\"body_stages_channels\"][i],\n",
    "                kernel_size=ks,\n",
    "                expand_ratio=expand_ratio,\n",
    "                stride=values[\"body_stages_strides\"][i],\n",
    "                act=values[\"body_stages_act\"][i],\n",
    "                use_se=values[\"body_stages_use_se\"][i]\n",
    "            )"
   ],
   "metadata": {
    "collapsed": false,
    "pycharm": {
     "name": "#%%\n"
    }
   }
  },
  {
   "cell_type": "code",
   "execution_count": 30,
   "outputs": [
    {
     "name": "stdout",
     "output_type": "stream",
     "text": [
      "[ResidualBlock(\n",
      "  (conv): MBConvLayer(\n",
      "    (inverted_bottleneck): Sequential(\n",
      "      (conv): Conv2d(24, 144, kernel_size=(1, 1), stride=(1, 1), bias=False)\n",
      "      (bn): BatchNorm2d(144, eps=1e-05, momentum=0.1, affine=True, track_running_stats=True)\n",
      "      (act): ReLU(inplace=True)\n",
      "    )\n",
      "    (depth_conv): Sequential(\n",
      "      (conv): Conv2d(144, 144, kernel_size=(7, 7), stride=(2, 2), padding=(3, 3), groups=144, bias=False)\n",
      "      (bn): BatchNorm2d(144, eps=1e-05, momentum=0.1, affine=True, track_running_stats=True)\n",
      "      (act): ReLU(inplace=True)\n",
      "      (se): SE(channel=144, reduction=4)\n",
      "    )\n",
      "    (point_linear): Sequential(\n",
      "      (conv): Conv2d(144, 40, kernel_size=(1, 1), stride=(1, 1), bias=False)\n",
      "      (bn): BatchNorm2d(40, eps=1e-05, momentum=0.1, affine=True, track_running_stats=True)\n",
      "    )\n",
      "  )\n",
      "), ResidualBlock(\n",
      "  (conv): MBConvLayer(\n",
      "    (inverted_bottleneck): Sequential(\n",
      "      (conv): Conv2d(40, 240, kernel_size=(1, 1), stride=(1, 1), bias=False)\n",
      "      (bn): BatchNorm2d(240, eps=1e-05, momentum=0.1, affine=True, track_running_stats=True)\n",
      "      (act): ReLU(inplace=True)\n",
      "    )\n",
      "    (depth_conv): Sequential(\n",
      "      (conv): Conv2d(240, 240, kernel_size=(7, 7), stride=(1, 1), padding=(3, 3), groups=240, bias=False)\n",
      "      (bn): BatchNorm2d(240, eps=1e-05, momentum=0.1, affine=True, track_running_stats=True)\n",
      "      (act): ReLU(inplace=True)\n",
      "      (se): SE(channel=240, reduction=4)\n",
      "    )\n",
      "    (point_linear): Sequential(\n",
      "      (conv): Conv2d(240, 40, kernel_size=(1, 1), stride=(1, 1), bias=False)\n",
      "      (bn): BatchNorm2d(40, eps=1e-05, momentum=0.1, affine=True, track_running_stats=True)\n",
      "    )\n",
      "  )\n",
      "  (shortcut): IdentityLayer()\n",
      "), ResidualBlock(\n",
      "  (conv): MBConvLayer(\n",
      "    (inverted_bottleneck): Sequential(\n",
      "      (conv): Conv2d(40, 240, kernel_size=(1, 1), stride=(1, 1), bias=False)\n",
      "      (bn): BatchNorm2d(240, eps=1e-05, momentum=0.1, affine=True, track_running_stats=True)\n",
      "      (act): ReLU(inplace=True)\n",
      "    )\n",
      "    (depth_conv): Sequential(\n",
      "      (conv): Conv2d(240, 240, kernel_size=(7, 7), stride=(1, 1), padding=(3, 3), groups=240, bias=False)\n",
      "      (bn): BatchNorm2d(240, eps=1e-05, momentum=0.1, affine=True, track_running_stats=True)\n",
      "      (act): ReLU(inplace=True)\n",
      "      (se): SE(channel=240, reduction=4)\n",
      "    )\n",
      "    (point_linear): Sequential(\n",
      "      (conv): Conv2d(240, 40, kernel_size=(1, 1), stride=(1, 1), bias=False)\n",
      "      (bn): BatchNorm2d(40, eps=1e-05, momentum=0.1, affine=True, track_running_stats=True)\n",
      "    )\n",
      "  )\n",
      "  (shortcut): IdentityLayer()\n",
      "), ResidualBlock(\n",
      "  (conv): MBConvLayer(\n",
      "    (inverted_bottleneck): Sequential(\n",
      "      (conv): Conv2d(40, 240, kernel_size=(1, 1), stride=(1, 1), bias=False)\n",
      "      (bn): BatchNorm2d(240, eps=1e-05, momentum=0.1, affine=True, track_running_stats=True)\n",
      "      (act): ReLU(inplace=True)\n",
      "    )\n",
      "    (depth_conv): Sequential(\n",
      "      (conv): Conv2d(240, 240, kernel_size=(7, 7), stride=(1, 1), padding=(3, 3), groups=240, bias=False)\n",
      "      (bn): BatchNorm2d(240, eps=1e-05, momentum=0.1, affine=True, track_running_stats=True)\n",
      "      (act): ReLU(inplace=True)\n",
      "      (se): SE(channel=240, reduction=4)\n",
      "    )\n",
      "    (point_linear): Sequential(\n",
      "      (conv): Conv2d(240, 40, kernel_size=(1, 1), stride=(1, 1), bias=False)\n",
      "      (bn): BatchNorm2d(40, eps=1e-05, momentum=0.1, affine=True, track_running_stats=True)\n",
      "    )\n",
      "  )\n",
      "  (shortcut): IdentityLayer()\n",
      ")]\n"
     ]
    }
   ],
   "source": [
    "print(layers2)"
   ],
   "metadata": {
    "collapsed": false,
    "pycharm": {
     "name": "#%%\n"
    }
   }
  },
  {
   "cell_type": "code",
   "execution_count": 31,
   "outputs": [
    {
     "name": "stdout",
     "output_type": "stream",
     "text": [
      "(SE_7x7_MBConv6_RELU_O40_BN, None)\n"
     ]
    }
   ],
   "source": [
    "print(layers2[0].module_str)"
   ],
   "metadata": {
    "collapsed": false,
    "pycharm": {
     "name": "#%%\n"
    }
   }
  },
  {
   "cell_type": "code",
   "execution_count": 32,
   "outputs": [
    {
     "name": "stdout",
     "output_type": "stream",
     "text": [
      "{'name': 'ResidualBlock', 'conv': {'name': 'MBConvLayer', 'in_channels': 24, 'out_channels': 40, 'kernel_size': 7, 'stride': 2, 'expand_ratio': 6, 'mid_channels': None, 'act_func': 'relu', 'use_se': True, 'groups': None}, 'shortcut': None}\n"
     ]
    }
   ],
   "source": [
    "print(layers2[0].config)"
   ],
   "metadata": {
    "collapsed": false,
    "pycharm": {
     "name": "#%%\n"
    }
   }
  },
  {
   "cell_type": "code",
   "execution_count": 33,
   "outputs": [
    {
     "name": "stdout",
     "output_type": "stream",
     "text": [
      "(SE_7x7_MBConv6_RELU_O40_BN, Identity)\n"
     ]
    }
   ],
   "source": [
    "print(layers2[1].module_str)"
   ],
   "metadata": {
    "collapsed": false,
    "pycharm": {
     "name": "#%%\n"
    }
   }
  },
  {
   "cell_type": "code",
   "execution_count": 34,
   "outputs": [
    {
     "name": "stdout",
     "output_type": "stream",
     "text": [
      "{'name': 'ResidualBlock', 'conv': {'name': 'MBConvLayer', 'in_channels': 40, 'out_channels': 40, 'kernel_size': 7, 'stride': 1, 'expand_ratio': 6, 'mid_channels': None, 'act_func': 'relu', 'use_se': True, 'groups': None}, 'shortcut': {'name': 'IdentityLayer', 'in_channels': 40, 'out_channels': 40, 'use_bn': False, 'act_func': None, 'dropout_rate': 0, 'ops_order': 'weight_bn_act'}}\n"
     ]
    }
   ],
   "source": [
    "print(layers2[1].config)"
   ],
   "metadata": {
    "collapsed": false,
    "pycharm": {
     "name": "#%%\n"
    }
   }
  },
  {
   "cell_type": "markdown",
   "source": [
    "# StaticBodyStage TEST"
   ],
   "metadata": {
    "collapsed": false,
    "pycharm": {
     "name": "#%% md\n"
    }
   }
  },
  {
   "cell_type": "code",
   "execution_count": 35,
   "outputs": [],
   "source": [
    "body=StaticBodyStage(layers1)"
   ],
   "metadata": {
    "collapsed": false,
    "pycharm": {
     "name": "#%%\n"
    }
   }
  },
  {
   "cell_type": "code",
   "execution_count": 36,
   "outputs": [
    {
     "name": "stdout",
     "output_type": "stream",
     "text": [
      "StaticBodyStage(\n",
      "  (layers): ModuleList(\n",
      "    (0): ResidualBlock(\n",
      "      (conv): MBConvLayer(\n",
      "        (inverted_bottleneck): Sequential(\n",
      "          (conv): Conv2d(16, 96, kernel_size=(1, 1), stride=(1, 1), bias=False)\n",
      "          (bn): BatchNorm2d(96, eps=1e-05, momentum=0.1, affine=True, track_running_stats=True)\n",
      "          (act): ReLU(inplace=True)\n",
      "        )\n",
      "        (depth_conv): Sequential(\n",
      "          (conv): Conv2d(96, 96, kernel_size=(7, 7), stride=(2, 2), padding=(3, 3), groups=96, bias=False)\n",
      "          (bn): BatchNorm2d(96, eps=1e-05, momentum=0.1, affine=True, track_running_stats=True)\n",
      "          (act): ReLU(inplace=True)\n",
      "        )\n",
      "        (point_linear): Sequential(\n",
      "          (conv): Conv2d(96, 24, kernel_size=(1, 1), stride=(1, 1), bias=False)\n",
      "          (bn): BatchNorm2d(24, eps=1e-05, momentum=0.1, affine=True, track_running_stats=True)\n",
      "        )\n",
      "      )\n",
      "    )\n",
      "    (1): ResidualBlock(\n",
      "      (conv): MBConvLayer(\n",
      "        (inverted_bottleneck): Sequential(\n",
      "          (conv): Conv2d(24, 144, kernel_size=(1, 1), stride=(1, 1), bias=False)\n",
      "          (bn): BatchNorm2d(144, eps=1e-05, momentum=0.1, affine=True, track_running_stats=True)\n",
      "          (act): ReLU(inplace=True)\n",
      "        )\n",
      "        (depth_conv): Sequential(\n",
      "          (conv): Conv2d(144, 144, kernel_size=(7, 7), stride=(1, 1), padding=(3, 3), groups=144, bias=False)\n",
      "          (bn): BatchNorm2d(144, eps=1e-05, momentum=0.1, affine=True, track_running_stats=True)\n",
      "          (act): ReLU(inplace=True)\n",
      "        )\n",
      "        (point_linear): Sequential(\n",
      "          (conv): Conv2d(144, 24, kernel_size=(1, 1), stride=(1, 1), bias=False)\n",
      "          (bn): BatchNorm2d(24, eps=1e-05, momentum=0.1, affine=True, track_running_stats=True)\n",
      "        )\n",
      "      )\n",
      "      (shortcut): IdentityLayer()\n",
      "    )\n",
      "    (2): ResidualBlock(\n",
      "      (conv): MBConvLayer(\n",
      "        (inverted_bottleneck): Sequential(\n",
      "          (conv): Conv2d(24, 144, kernel_size=(1, 1), stride=(1, 1), bias=False)\n",
      "          (bn): BatchNorm2d(144, eps=1e-05, momentum=0.1, affine=True, track_running_stats=True)\n",
      "          (act): ReLU(inplace=True)\n",
      "        )\n",
      "        (depth_conv): Sequential(\n",
      "          (conv): Conv2d(144, 144, kernel_size=(7, 7), stride=(1, 1), padding=(3, 3), groups=144, bias=False)\n",
      "          (bn): BatchNorm2d(144, eps=1e-05, momentum=0.1, affine=True, track_running_stats=True)\n",
      "          (act): ReLU(inplace=True)\n",
      "        )\n",
      "        (point_linear): Sequential(\n",
      "          (conv): Conv2d(144, 24, kernel_size=(1, 1), stride=(1, 1), bias=False)\n",
      "          (bn): BatchNorm2d(24, eps=1e-05, momentum=0.1, affine=True, track_running_stats=True)\n",
      "        )\n",
      "      )\n",
      "      (shortcut): IdentityLayer()\n",
      "    )\n",
      "    (3): ResidualBlock(\n",
      "      (conv): MBConvLayer(\n",
      "        (inverted_bottleneck): Sequential(\n",
      "          (conv): Conv2d(24, 144, kernel_size=(1, 1), stride=(1, 1), bias=False)\n",
      "          (bn): BatchNorm2d(144, eps=1e-05, momentum=0.1, affine=True, track_running_stats=True)\n",
      "          (act): ReLU(inplace=True)\n",
      "        )\n",
      "        (depth_conv): Sequential(\n",
      "          (conv): Conv2d(144, 144, kernel_size=(7, 7), stride=(1, 1), padding=(3, 3), groups=144, bias=False)\n",
      "          (bn): BatchNorm2d(144, eps=1e-05, momentum=0.1, affine=True, track_running_stats=True)\n",
      "          (act): ReLU(inplace=True)\n",
      "        )\n",
      "        (point_linear): Sequential(\n",
      "          (conv): Conv2d(144, 24, kernel_size=(1, 1), stride=(1, 1), bias=False)\n",
      "          (bn): BatchNorm2d(24, eps=1e-05, momentum=0.1, affine=True, track_running_stats=True)\n",
      "        )\n",
      "      )\n",
      "      (shortcut): IdentityLayer()\n",
      "    )\n",
      "  )\n",
      ")\n"
     ]
    }
   ],
   "source": [
    "print(body)"
   ],
   "metadata": {
    "collapsed": false,
    "pycharm": {
     "name": "#%%\n"
    }
   }
  },
  {
   "cell_type": "code",
   "execution_count": 37,
   "outputs": [
    {
     "name": "stdout",
     "output_type": "stream",
     "text": [
      "(7x7_MBConv6_RELU_O24_BN, None)\n",
      "(7x7_MBConv6_RELU_O24_BN, Identity)\n",
      "(7x7_MBConv6_RELU_O24_BN, Identity)\n",
      "(7x7_MBConv6_RELU_O24_BN, Identity)\n",
      "\n"
     ]
    }
   ],
   "source": [
    "print(body.module_str)"
   ],
   "metadata": {
    "collapsed": false,
    "pycharm": {
     "name": "#%%\n"
    }
   }
  },
  {
   "cell_type": "code",
   "execution_count": 38,
   "outputs": [
    {
     "name": "stdout",
     "output_type": "stream",
     "text": [
      "{'name': 'StaticBodyStage', 'layers': [{'name': 'ResidualBlock', 'conv': {'name': 'MBConvLayer', 'in_channels': 16, 'out_channels': 24, 'kernel_size': 7, 'stride': 2, 'expand_ratio': 6, 'mid_channels': None, 'act_func': 'relu', 'use_se': False, 'groups': None}, 'shortcut': None}, {'name': 'ResidualBlock', 'conv': {'name': 'MBConvLayer', 'in_channels': 24, 'out_channels': 24, 'kernel_size': 7, 'stride': 1, 'expand_ratio': 6, 'mid_channels': None, 'act_func': 'relu', 'use_se': False, 'groups': None}, 'shortcut': {'name': 'IdentityLayer', 'in_channels': 24, 'out_channels': 24, 'use_bn': False, 'act_func': None, 'dropout_rate': 0, 'ops_order': 'weight_bn_act'}}, {'name': 'ResidualBlock', 'conv': {'name': 'MBConvLayer', 'in_channels': 24, 'out_channels': 24, 'kernel_size': 7, 'stride': 1, 'expand_ratio': 6, 'mid_channels': None, 'act_func': 'relu', 'use_se': False, 'groups': None}, 'shortcut': {'name': 'IdentityLayer', 'in_channels': 24, 'out_channels': 24, 'use_bn': False, 'act_func': None, 'dropout_rate': 0, 'ops_order': 'weight_bn_act'}}, {'name': 'ResidualBlock', 'conv': {'name': 'MBConvLayer', 'in_channels': 24, 'out_channels': 24, 'kernel_size': 7, 'stride': 1, 'expand_ratio': 6, 'mid_channels': None, 'act_func': 'relu', 'use_se': False, 'groups': None}, 'shortcut': {'name': 'IdentityLayer', 'in_channels': 24, 'out_channels': 24, 'use_bn': False, 'act_func': None, 'dropout_rate': 0, 'ops_order': 'weight_bn_act'}}]}\n"
     ]
    }
   ],
   "source": [
    "print(body.config)"
   ],
   "metadata": {
    "collapsed": false,
    "pycharm": {
     "name": "#%%\n"
    }
   }
  },
  {
   "cell_type": "code",
   "execution_count": 39,
   "outputs": [],
   "source": [
    "body_config=body.config\n",
    "built_body=body.build_from_config(body_config)"
   ],
   "metadata": {
    "collapsed": false,
    "pycharm": {
     "name": "#%%\n"
    }
   }
  },
  {
   "cell_type": "code",
   "execution_count": 40,
   "outputs": [
    {
     "name": "stdout",
     "output_type": "stream",
     "text": [
      "StaticBodyStage(\n",
      "  (layers): ModuleList(\n",
      "    (0): ResidualBlock(\n",
      "      (conv): MBConvLayer(\n",
      "        (inverted_bottleneck): Sequential(\n",
      "          (conv): Conv2d(16, 96, kernel_size=(1, 1), stride=(1, 1), bias=False)\n",
      "          (bn): BatchNorm2d(96, eps=1e-05, momentum=0.1, affine=True, track_running_stats=True)\n",
      "          (act): ReLU(inplace=True)\n",
      "        )\n",
      "        (depth_conv): Sequential(\n",
      "          (conv): Conv2d(96, 96, kernel_size=(7, 7), stride=(2, 2), padding=(3, 3), groups=96, bias=False)\n",
      "          (bn): BatchNorm2d(96, eps=1e-05, momentum=0.1, affine=True, track_running_stats=True)\n",
      "          (act): ReLU(inplace=True)\n",
      "        )\n",
      "        (point_linear): Sequential(\n",
      "          (conv): Conv2d(96, 24, kernel_size=(1, 1), stride=(1, 1), bias=False)\n",
      "          (bn): BatchNorm2d(24, eps=1e-05, momentum=0.1, affine=True, track_running_stats=True)\n",
      "        )\n",
      "      )\n",
      "    )\n",
      "    (1): ResidualBlock(\n",
      "      (conv): MBConvLayer(\n",
      "        (inverted_bottleneck): Sequential(\n",
      "          (conv): Conv2d(24, 144, kernel_size=(1, 1), stride=(1, 1), bias=False)\n",
      "          (bn): BatchNorm2d(144, eps=1e-05, momentum=0.1, affine=True, track_running_stats=True)\n",
      "          (act): ReLU(inplace=True)\n",
      "        )\n",
      "        (depth_conv): Sequential(\n",
      "          (conv): Conv2d(144, 144, kernel_size=(7, 7), stride=(1, 1), padding=(3, 3), groups=144, bias=False)\n",
      "          (bn): BatchNorm2d(144, eps=1e-05, momentum=0.1, affine=True, track_running_stats=True)\n",
      "          (act): ReLU(inplace=True)\n",
      "        )\n",
      "        (point_linear): Sequential(\n",
      "          (conv): Conv2d(144, 24, kernel_size=(1, 1), stride=(1, 1), bias=False)\n",
      "          (bn): BatchNorm2d(24, eps=1e-05, momentum=0.1, affine=True, track_running_stats=True)\n",
      "        )\n",
      "      )\n",
      "      (shortcut): IdentityLayer()\n",
      "    )\n",
      "    (2): ResidualBlock(\n",
      "      (conv): MBConvLayer(\n",
      "        (inverted_bottleneck): Sequential(\n",
      "          (conv): Conv2d(24, 144, kernel_size=(1, 1), stride=(1, 1), bias=False)\n",
      "          (bn): BatchNorm2d(144, eps=1e-05, momentum=0.1, affine=True, track_running_stats=True)\n",
      "          (act): ReLU(inplace=True)\n",
      "        )\n",
      "        (depth_conv): Sequential(\n",
      "          (conv): Conv2d(144, 144, kernel_size=(7, 7), stride=(1, 1), padding=(3, 3), groups=144, bias=False)\n",
      "          (bn): BatchNorm2d(144, eps=1e-05, momentum=0.1, affine=True, track_running_stats=True)\n",
      "          (act): ReLU(inplace=True)\n",
      "        )\n",
      "        (point_linear): Sequential(\n",
      "          (conv): Conv2d(144, 24, kernel_size=(1, 1), stride=(1, 1), bias=False)\n",
      "          (bn): BatchNorm2d(24, eps=1e-05, momentum=0.1, affine=True, track_running_stats=True)\n",
      "        )\n",
      "      )\n",
      "      (shortcut): IdentityLayer()\n",
      "    )\n",
      "    (3): ResidualBlock(\n",
      "      (conv): MBConvLayer(\n",
      "        (inverted_bottleneck): Sequential(\n",
      "          (conv): Conv2d(24, 144, kernel_size=(1, 1), stride=(1, 1), bias=False)\n",
      "          (bn): BatchNorm2d(144, eps=1e-05, momentum=0.1, affine=True, track_running_stats=True)\n",
      "          (act): ReLU(inplace=True)\n",
      "        )\n",
      "        (depth_conv): Sequential(\n",
      "          (conv): Conv2d(144, 144, kernel_size=(7, 7), stride=(1, 1), padding=(3, 3), groups=144, bias=False)\n",
      "          (bn): BatchNorm2d(144, eps=1e-05, momentum=0.1, affine=True, track_running_stats=True)\n",
      "          (act): ReLU(inplace=True)\n",
      "        )\n",
      "        (point_linear): Sequential(\n",
      "          (conv): Conv2d(144, 24, kernel_size=(1, 1), stride=(1, 1), bias=False)\n",
      "          (bn): BatchNorm2d(24, eps=1e-05, momentum=0.1, affine=True, track_running_stats=True)\n",
      "        )\n",
      "      )\n",
      "      (shortcut): IdentityLayer()\n",
      "    )\n",
      "  )\n",
      ")\n"
     ]
    }
   ],
   "source": [
    "print(built_body)"
   ],
   "metadata": {
    "collapsed": false,
    "pycharm": {
     "name": "#%%\n"
    }
   }
  },
  {
   "cell_type": "code",
   "execution_count": 41,
   "outputs": [
    {
     "name": "stdout",
     "output_type": "stream",
     "text": [
      "(7x7_MBConv6_RELU_O24_BN, None)\n",
      "(7x7_MBConv6_RELU_O24_BN, Identity)\n",
      "(7x7_MBConv6_RELU_O24_BN, Identity)\n",
      "(7x7_MBConv6_RELU_O24_BN, Identity)\n",
      "\n"
     ]
    }
   ],
   "source": [
    "print(built_body.module_str)"
   ],
   "metadata": {
    "collapsed": false,
    "pycharm": {
     "name": "#%%\n"
    }
   }
  },
  {
   "cell_type": "code",
   "execution_count": 42,
   "outputs": [
    {
     "name": "stdout",
     "output_type": "stream",
     "text": [
      "{'name': 'StaticBodyStage', 'layers': [{'name': 'ResidualBlock', 'conv': {'name': 'MBConvLayer', 'in_channels': 16, 'out_channels': 24, 'kernel_size': 7, 'stride': 2, 'expand_ratio': 6, 'mid_channels': None, 'act_func': 'relu', 'use_se': False, 'groups': None}, 'shortcut': None}, {'name': 'ResidualBlock', 'conv': {'name': 'MBConvLayer', 'in_channels': 24, 'out_channels': 24, 'kernel_size': 7, 'stride': 1, 'expand_ratio': 6, 'mid_channels': None, 'act_func': 'relu', 'use_se': False, 'groups': None}, 'shortcut': {'name': 'IdentityLayer', 'in_channels': 24, 'out_channels': 24, 'use_bn': False, 'act_func': None, 'dropout_rate': 0, 'ops_order': 'weight_bn_act'}}, {'name': 'ResidualBlock', 'conv': {'name': 'MBConvLayer', 'in_channels': 24, 'out_channels': 24, 'kernel_size': 7, 'stride': 1, 'expand_ratio': 6, 'mid_channels': None, 'act_func': 'relu', 'use_se': False, 'groups': None}, 'shortcut': {'name': 'IdentityLayer', 'in_channels': 24, 'out_channels': 24, 'use_bn': False, 'act_func': None, 'dropout_rate': 0, 'ops_order': 'weight_bn_act'}}, {'name': 'ResidualBlock', 'conv': {'name': 'MBConvLayer', 'in_channels': 24, 'out_channels': 24, 'kernel_size': 7, 'stride': 1, 'expand_ratio': 6, 'mid_channels': None, 'act_func': 'relu', 'use_se': False, 'groups': None}, 'shortcut': {'name': 'IdentityLayer', 'in_channels': 24, 'out_channels': 24, 'use_bn': False, 'act_func': None, 'dropout_rate': 0, 'ops_order': 'weight_bn_act'}}]}\n"
     ]
    }
   ],
   "source": [
    "print(built_body.config)"
   ],
   "metadata": {
    "collapsed": false,
    "pycharm": {
     "name": "#%%\n"
    }
   }
  },
  {
   "cell_type": "markdown",
   "source": [
    "### static_body_stages_builder"
   ],
   "metadata": {
    "collapsed": false,
    "pycharm": {
     "name": "#%% md\n"
    }
   }
  },
  {
   "cell_type": "code",
   "execution_count": 43,
   "outputs": [],
   "source": [
    "body_stages = static_body_stages_builder(width_mult, ks, expand_ratio,depth)"
   ],
   "metadata": {
    "collapsed": false,
    "pycharm": {
     "name": "#%%\n"
    }
   }
  },
  {
   "cell_type": "code",
   "execution_count": 44,
   "outputs": [
    {
     "name": "stdout",
     "output_type": "stream",
     "text": [
      "[StaticBodyStage(\n",
      "  (layers): ModuleList(\n",
      "    (0): ResidualBlock(\n",
      "      (conv): MBConvLayer(\n",
      "        (inverted_bottleneck): Sequential(\n",
      "          (conv): Conv2d(16, 96, kernel_size=(1, 1), stride=(1, 1), bias=False)\n",
      "          (bn): BatchNorm2d(96, eps=1e-05, momentum=0.1, affine=True, track_running_stats=True)\n",
      "          (act): ReLU(inplace=True)\n",
      "        )\n",
      "        (depth_conv): Sequential(\n",
      "          (conv): Conv2d(96, 96, kernel_size=(7, 7), stride=(2, 2), padding=(3, 3), groups=96, bias=False)\n",
      "          (bn): BatchNorm2d(96, eps=1e-05, momentum=0.1, affine=True, track_running_stats=True)\n",
      "          (act): ReLU(inplace=True)\n",
      "        )\n",
      "        (point_linear): Sequential(\n",
      "          (conv): Conv2d(96, 24, kernel_size=(1, 1), stride=(1, 1), bias=False)\n",
      "          (bn): BatchNorm2d(24, eps=1e-05, momentum=0.1, affine=True, track_running_stats=True)\n",
      "        )\n",
      "      )\n",
      "    )\n",
      "    (1): ResidualBlock(\n",
      "      (conv): MBConvLayer(\n",
      "        (inverted_bottleneck): Sequential(\n",
      "          (conv): Conv2d(24, 144, kernel_size=(1, 1), stride=(1, 1), bias=False)\n",
      "          (bn): BatchNorm2d(144, eps=1e-05, momentum=0.1, affine=True, track_running_stats=True)\n",
      "          (act): ReLU(inplace=True)\n",
      "        )\n",
      "        (depth_conv): Sequential(\n",
      "          (conv): Conv2d(144, 144, kernel_size=(7, 7), stride=(1, 1), padding=(3, 3), groups=144, bias=False)\n",
      "          (bn): BatchNorm2d(144, eps=1e-05, momentum=0.1, affine=True, track_running_stats=True)\n",
      "          (act): ReLU(inplace=True)\n",
      "        )\n",
      "        (point_linear): Sequential(\n",
      "          (conv): Conv2d(144, 24, kernel_size=(1, 1), stride=(1, 1), bias=False)\n",
      "          (bn): BatchNorm2d(24, eps=1e-05, momentum=0.1, affine=True, track_running_stats=True)\n",
      "        )\n",
      "      )\n",
      "      (shortcut): IdentityLayer()\n",
      "    )\n",
      "    (2): ResidualBlock(\n",
      "      (conv): MBConvLayer(\n",
      "        (inverted_bottleneck): Sequential(\n",
      "          (conv): Conv2d(24, 144, kernel_size=(1, 1), stride=(1, 1), bias=False)\n",
      "          (bn): BatchNorm2d(144, eps=1e-05, momentum=0.1, affine=True, track_running_stats=True)\n",
      "          (act): ReLU(inplace=True)\n",
      "        )\n",
      "        (depth_conv): Sequential(\n",
      "          (conv): Conv2d(144, 144, kernel_size=(7, 7), stride=(1, 1), padding=(3, 3), groups=144, bias=False)\n",
      "          (bn): BatchNorm2d(144, eps=1e-05, momentum=0.1, affine=True, track_running_stats=True)\n",
      "          (act): ReLU(inplace=True)\n",
      "        )\n",
      "        (point_linear): Sequential(\n",
      "          (conv): Conv2d(144, 24, kernel_size=(1, 1), stride=(1, 1), bias=False)\n",
      "          (bn): BatchNorm2d(24, eps=1e-05, momentum=0.1, affine=True, track_running_stats=True)\n",
      "        )\n",
      "      )\n",
      "      (shortcut): IdentityLayer()\n",
      "    )\n",
      "    (3): ResidualBlock(\n",
      "      (conv): MBConvLayer(\n",
      "        (inverted_bottleneck): Sequential(\n",
      "          (conv): Conv2d(24, 144, kernel_size=(1, 1), stride=(1, 1), bias=False)\n",
      "          (bn): BatchNorm2d(144, eps=1e-05, momentum=0.1, affine=True, track_running_stats=True)\n",
      "          (act): ReLU(inplace=True)\n",
      "        )\n",
      "        (depth_conv): Sequential(\n",
      "          (conv): Conv2d(144, 144, kernel_size=(7, 7), stride=(1, 1), padding=(3, 3), groups=144, bias=False)\n",
      "          (bn): BatchNorm2d(144, eps=1e-05, momentum=0.1, affine=True, track_running_stats=True)\n",
      "          (act): ReLU(inplace=True)\n",
      "        )\n",
      "        (point_linear): Sequential(\n",
      "          (conv): Conv2d(144, 24, kernel_size=(1, 1), stride=(1, 1), bias=False)\n",
      "          (bn): BatchNorm2d(24, eps=1e-05, momentum=0.1, affine=True, track_running_stats=True)\n",
      "        )\n",
      "      )\n",
      "      (shortcut): IdentityLayer()\n",
      "    )\n",
      "  )\n",
      "), StaticBodyStage(\n",
      "  (layers): ModuleList(\n",
      "    (0): ResidualBlock(\n",
      "      (conv): MBConvLayer(\n",
      "        (inverted_bottleneck): Sequential(\n",
      "          (conv): Conv2d(24, 144, kernel_size=(1, 1), stride=(1, 1), bias=False)\n",
      "          (bn): BatchNorm2d(144, eps=1e-05, momentum=0.1, affine=True, track_running_stats=True)\n",
      "          (act): ReLU(inplace=True)\n",
      "        )\n",
      "        (depth_conv): Sequential(\n",
      "          (conv): Conv2d(144, 144, kernel_size=(7, 7), stride=(2, 2), padding=(3, 3), groups=144, bias=False)\n",
      "          (bn): BatchNorm2d(144, eps=1e-05, momentum=0.1, affine=True, track_running_stats=True)\n",
      "          (act): ReLU(inplace=True)\n",
      "          (se): SE(channel=144, reduction=4)\n",
      "        )\n",
      "        (point_linear): Sequential(\n",
      "          (conv): Conv2d(144, 40, kernel_size=(1, 1), stride=(1, 1), bias=False)\n",
      "          (bn): BatchNorm2d(40, eps=1e-05, momentum=0.1, affine=True, track_running_stats=True)\n",
      "        )\n",
      "      )\n",
      "    )\n",
      "    (1): ResidualBlock(\n",
      "      (conv): MBConvLayer(\n",
      "        (inverted_bottleneck): Sequential(\n",
      "          (conv): Conv2d(40, 240, kernel_size=(1, 1), stride=(1, 1), bias=False)\n",
      "          (bn): BatchNorm2d(240, eps=1e-05, momentum=0.1, affine=True, track_running_stats=True)\n",
      "          (act): ReLU(inplace=True)\n",
      "        )\n",
      "        (depth_conv): Sequential(\n",
      "          (conv): Conv2d(240, 240, kernel_size=(7, 7), stride=(1, 1), padding=(3, 3), groups=240, bias=False)\n",
      "          (bn): BatchNorm2d(240, eps=1e-05, momentum=0.1, affine=True, track_running_stats=True)\n",
      "          (act): ReLU(inplace=True)\n",
      "          (se): SE(channel=240, reduction=4)\n",
      "        )\n",
      "        (point_linear): Sequential(\n",
      "          (conv): Conv2d(240, 40, kernel_size=(1, 1), stride=(1, 1), bias=False)\n",
      "          (bn): BatchNorm2d(40, eps=1e-05, momentum=0.1, affine=True, track_running_stats=True)\n",
      "        )\n",
      "      )\n",
      "      (shortcut): IdentityLayer()\n",
      "    )\n",
      "    (2): ResidualBlock(\n",
      "      (conv): MBConvLayer(\n",
      "        (inverted_bottleneck): Sequential(\n",
      "          (conv): Conv2d(40, 240, kernel_size=(1, 1), stride=(1, 1), bias=False)\n",
      "          (bn): BatchNorm2d(240, eps=1e-05, momentum=0.1, affine=True, track_running_stats=True)\n",
      "          (act): ReLU(inplace=True)\n",
      "        )\n",
      "        (depth_conv): Sequential(\n",
      "          (conv): Conv2d(240, 240, kernel_size=(7, 7), stride=(1, 1), padding=(3, 3), groups=240, bias=False)\n",
      "          (bn): BatchNorm2d(240, eps=1e-05, momentum=0.1, affine=True, track_running_stats=True)\n",
      "          (act): ReLU(inplace=True)\n",
      "          (se): SE(channel=240, reduction=4)\n",
      "        )\n",
      "        (point_linear): Sequential(\n",
      "          (conv): Conv2d(240, 40, kernel_size=(1, 1), stride=(1, 1), bias=False)\n",
      "          (bn): BatchNorm2d(40, eps=1e-05, momentum=0.1, affine=True, track_running_stats=True)\n",
      "        )\n",
      "      )\n",
      "      (shortcut): IdentityLayer()\n",
      "    )\n",
      "    (3): ResidualBlock(\n",
      "      (conv): MBConvLayer(\n",
      "        (inverted_bottleneck): Sequential(\n",
      "          (conv): Conv2d(40, 240, kernel_size=(1, 1), stride=(1, 1), bias=False)\n",
      "          (bn): BatchNorm2d(240, eps=1e-05, momentum=0.1, affine=True, track_running_stats=True)\n",
      "          (act): ReLU(inplace=True)\n",
      "        )\n",
      "        (depth_conv): Sequential(\n",
      "          (conv): Conv2d(240, 240, kernel_size=(7, 7), stride=(1, 1), padding=(3, 3), groups=240, bias=False)\n",
      "          (bn): BatchNorm2d(240, eps=1e-05, momentum=0.1, affine=True, track_running_stats=True)\n",
      "          (act): ReLU(inplace=True)\n",
      "          (se): SE(channel=240, reduction=4)\n",
      "        )\n",
      "        (point_linear): Sequential(\n",
      "          (conv): Conv2d(240, 40, kernel_size=(1, 1), stride=(1, 1), bias=False)\n",
      "          (bn): BatchNorm2d(40, eps=1e-05, momentum=0.1, affine=True, track_running_stats=True)\n",
      "        )\n",
      "      )\n",
      "      (shortcut): IdentityLayer()\n",
      "    )\n",
      "  )\n",
      "), StaticBodyStage(\n",
      "  (layers): ModuleList(\n",
      "    (0): ResidualBlock(\n",
      "      (conv): MBConvLayer(\n",
      "        (inverted_bottleneck): Sequential(\n",
      "          (conv): Conv2d(40, 240, kernel_size=(1, 1), stride=(1, 1), bias=False)\n",
      "          (bn): BatchNorm2d(240, eps=1e-05, momentum=0.1, affine=True, track_running_stats=True)\n",
      "          (act): Hswish()\n",
      "        )\n",
      "        (depth_conv): Sequential(\n",
      "          (conv): Conv2d(240, 240, kernel_size=(7, 7), stride=(2, 2), padding=(3, 3), groups=240, bias=False)\n",
      "          (bn): BatchNorm2d(240, eps=1e-05, momentum=0.1, affine=True, track_running_stats=True)\n",
      "          (act): Hswish()\n",
      "        )\n",
      "        (point_linear): Sequential(\n",
      "          (conv): Conv2d(240, 80, kernel_size=(1, 1), stride=(1, 1), bias=False)\n",
      "          (bn): BatchNorm2d(80, eps=1e-05, momentum=0.1, affine=True, track_running_stats=True)\n",
      "        )\n",
      "      )\n",
      "    )\n",
      "    (1): ResidualBlock(\n",
      "      (conv): MBConvLayer(\n",
      "        (inverted_bottleneck): Sequential(\n",
      "          (conv): Conv2d(80, 480, kernel_size=(1, 1), stride=(1, 1), bias=False)\n",
      "          (bn): BatchNorm2d(480, eps=1e-05, momentum=0.1, affine=True, track_running_stats=True)\n",
      "          (act): Hswish()\n",
      "        )\n",
      "        (depth_conv): Sequential(\n",
      "          (conv): Conv2d(480, 480, kernel_size=(7, 7), stride=(1, 1), padding=(3, 3), groups=480, bias=False)\n",
      "          (bn): BatchNorm2d(480, eps=1e-05, momentum=0.1, affine=True, track_running_stats=True)\n",
      "          (act): Hswish()\n",
      "        )\n",
      "        (point_linear): Sequential(\n",
      "          (conv): Conv2d(480, 80, kernel_size=(1, 1), stride=(1, 1), bias=False)\n",
      "          (bn): BatchNorm2d(80, eps=1e-05, momentum=0.1, affine=True, track_running_stats=True)\n",
      "        )\n",
      "      )\n",
      "      (shortcut): IdentityLayer()\n",
      "    )\n",
      "    (2): ResidualBlock(\n",
      "      (conv): MBConvLayer(\n",
      "        (inverted_bottleneck): Sequential(\n",
      "          (conv): Conv2d(80, 480, kernel_size=(1, 1), stride=(1, 1), bias=False)\n",
      "          (bn): BatchNorm2d(480, eps=1e-05, momentum=0.1, affine=True, track_running_stats=True)\n",
      "          (act): Hswish()\n",
      "        )\n",
      "        (depth_conv): Sequential(\n",
      "          (conv): Conv2d(480, 480, kernel_size=(7, 7), stride=(1, 1), padding=(3, 3), groups=480, bias=False)\n",
      "          (bn): BatchNorm2d(480, eps=1e-05, momentum=0.1, affine=True, track_running_stats=True)\n",
      "          (act): Hswish()\n",
      "        )\n",
      "        (point_linear): Sequential(\n",
      "          (conv): Conv2d(480, 80, kernel_size=(1, 1), stride=(1, 1), bias=False)\n",
      "          (bn): BatchNorm2d(80, eps=1e-05, momentum=0.1, affine=True, track_running_stats=True)\n",
      "        )\n",
      "      )\n",
      "      (shortcut): IdentityLayer()\n",
      "    )\n",
      "    (3): ResidualBlock(\n",
      "      (conv): MBConvLayer(\n",
      "        (inverted_bottleneck): Sequential(\n",
      "          (conv): Conv2d(80, 480, kernel_size=(1, 1), stride=(1, 1), bias=False)\n",
      "          (bn): BatchNorm2d(480, eps=1e-05, momentum=0.1, affine=True, track_running_stats=True)\n",
      "          (act): Hswish()\n",
      "        )\n",
      "        (depth_conv): Sequential(\n",
      "          (conv): Conv2d(480, 480, kernel_size=(7, 7), stride=(1, 1), padding=(3, 3), groups=480, bias=False)\n",
      "          (bn): BatchNorm2d(480, eps=1e-05, momentum=0.1, affine=True, track_running_stats=True)\n",
      "          (act): Hswish()\n",
      "        )\n",
      "        (point_linear): Sequential(\n",
      "          (conv): Conv2d(480, 80, kernel_size=(1, 1), stride=(1, 1), bias=False)\n",
      "          (bn): BatchNorm2d(80, eps=1e-05, momentum=0.1, affine=True, track_running_stats=True)\n",
      "        )\n",
      "      )\n",
      "      (shortcut): IdentityLayer()\n",
      "    )\n",
      "  )\n",
      "), StaticBodyStage(\n",
      "  (layers): ModuleList(\n",
      "    (0): ResidualBlock(\n",
      "      (conv): MBConvLayer(\n",
      "        (inverted_bottleneck): Sequential(\n",
      "          (conv): Conv2d(80, 480, kernel_size=(1, 1), stride=(1, 1), bias=False)\n",
      "          (bn): BatchNorm2d(480, eps=1e-05, momentum=0.1, affine=True, track_running_stats=True)\n",
      "          (act): Hswish()\n",
      "        )\n",
      "        (depth_conv): Sequential(\n",
      "          (conv): Conv2d(480, 480, kernel_size=(7, 7), stride=(1, 1), padding=(3, 3), groups=480, bias=False)\n",
      "          (bn): BatchNorm2d(480, eps=1e-05, momentum=0.1, affine=True, track_running_stats=True)\n",
      "          (act): Hswish()\n",
      "          (se): SE(channel=480, reduction=4)\n",
      "        )\n",
      "        (point_linear): Sequential(\n",
      "          (conv): Conv2d(480, 112, kernel_size=(1, 1), stride=(1, 1), bias=False)\n",
      "          (bn): BatchNorm2d(112, eps=1e-05, momentum=0.1, affine=True, track_running_stats=True)\n",
      "        )\n",
      "      )\n",
      "    )\n",
      "    (1): ResidualBlock(\n",
      "      (conv): MBConvLayer(\n",
      "        (inverted_bottleneck): Sequential(\n",
      "          (conv): Conv2d(112, 672, kernel_size=(1, 1), stride=(1, 1), bias=False)\n",
      "          (bn): BatchNorm2d(672, eps=1e-05, momentum=0.1, affine=True, track_running_stats=True)\n",
      "          (act): Hswish()\n",
      "        )\n",
      "        (depth_conv): Sequential(\n",
      "          (conv): Conv2d(672, 672, kernel_size=(7, 7), stride=(1, 1), padding=(3, 3), groups=672, bias=False)\n",
      "          (bn): BatchNorm2d(672, eps=1e-05, momentum=0.1, affine=True, track_running_stats=True)\n",
      "          (act): Hswish()\n",
      "          (se): SE(channel=672, reduction=4)\n",
      "        )\n",
      "        (point_linear): Sequential(\n",
      "          (conv): Conv2d(672, 112, kernel_size=(1, 1), stride=(1, 1), bias=False)\n",
      "          (bn): BatchNorm2d(112, eps=1e-05, momentum=0.1, affine=True, track_running_stats=True)\n",
      "        )\n",
      "      )\n",
      "      (shortcut): IdentityLayer()\n",
      "    )\n",
      "    (2): ResidualBlock(\n",
      "      (conv): MBConvLayer(\n",
      "        (inverted_bottleneck): Sequential(\n",
      "          (conv): Conv2d(112, 672, kernel_size=(1, 1), stride=(1, 1), bias=False)\n",
      "          (bn): BatchNorm2d(672, eps=1e-05, momentum=0.1, affine=True, track_running_stats=True)\n",
      "          (act): Hswish()\n",
      "        )\n",
      "        (depth_conv): Sequential(\n",
      "          (conv): Conv2d(672, 672, kernel_size=(7, 7), stride=(1, 1), padding=(3, 3), groups=672, bias=False)\n",
      "          (bn): BatchNorm2d(672, eps=1e-05, momentum=0.1, affine=True, track_running_stats=True)\n",
      "          (act): Hswish()\n",
      "          (se): SE(channel=672, reduction=4)\n",
      "        )\n",
      "        (point_linear): Sequential(\n",
      "          (conv): Conv2d(672, 112, kernel_size=(1, 1), stride=(1, 1), bias=False)\n",
      "          (bn): BatchNorm2d(112, eps=1e-05, momentum=0.1, affine=True, track_running_stats=True)\n",
      "        )\n",
      "      )\n",
      "      (shortcut): IdentityLayer()\n",
      "    )\n",
      "    (3): ResidualBlock(\n",
      "      (conv): MBConvLayer(\n",
      "        (inverted_bottleneck): Sequential(\n",
      "          (conv): Conv2d(112, 672, kernel_size=(1, 1), stride=(1, 1), bias=False)\n",
      "          (bn): BatchNorm2d(672, eps=1e-05, momentum=0.1, affine=True, track_running_stats=True)\n",
      "          (act): Hswish()\n",
      "        )\n",
      "        (depth_conv): Sequential(\n",
      "          (conv): Conv2d(672, 672, kernel_size=(7, 7), stride=(1, 1), padding=(3, 3), groups=672, bias=False)\n",
      "          (bn): BatchNorm2d(672, eps=1e-05, momentum=0.1, affine=True, track_running_stats=True)\n",
      "          (act): Hswish()\n",
      "          (se): SE(channel=672, reduction=4)\n",
      "        )\n",
      "        (point_linear): Sequential(\n",
      "          (conv): Conv2d(672, 112, kernel_size=(1, 1), stride=(1, 1), bias=False)\n",
      "          (bn): BatchNorm2d(112, eps=1e-05, momentum=0.1, affine=True, track_running_stats=True)\n",
      "        )\n",
      "      )\n",
      "      (shortcut): IdentityLayer()\n",
      "    )\n",
      "  )\n",
      "), StaticBodyStage(\n",
      "  (layers): ModuleList(\n",
      "    (0): ResidualBlock(\n",
      "      (conv): MBConvLayer(\n",
      "        (inverted_bottleneck): Sequential(\n",
      "          (conv): Conv2d(112, 672, kernel_size=(1, 1), stride=(1, 1), bias=False)\n",
      "          (bn): BatchNorm2d(672, eps=1e-05, momentum=0.1, affine=True, track_running_stats=True)\n",
      "          (act): Hswish()\n",
      "        )\n",
      "        (depth_conv): Sequential(\n",
      "          (conv): Conv2d(672, 672, kernel_size=(7, 7), stride=(2, 2), padding=(3, 3), groups=672, bias=False)\n",
      "          (bn): BatchNorm2d(672, eps=1e-05, momentum=0.1, affine=True, track_running_stats=True)\n",
      "          (act): Hswish()\n",
      "          (se): SE(channel=672, reduction=4)\n",
      "        )\n",
      "        (point_linear): Sequential(\n",
      "          (conv): Conv2d(672, 160, kernel_size=(1, 1), stride=(1, 1), bias=False)\n",
      "          (bn): BatchNorm2d(160, eps=1e-05, momentum=0.1, affine=True, track_running_stats=True)\n",
      "        )\n",
      "      )\n",
      "    )\n",
      "    (1): ResidualBlock(\n",
      "      (conv): MBConvLayer(\n",
      "        (inverted_bottleneck): Sequential(\n",
      "          (conv): Conv2d(160, 960, kernel_size=(1, 1), stride=(1, 1), bias=False)\n",
      "          (bn): BatchNorm2d(960, eps=1e-05, momentum=0.1, affine=True, track_running_stats=True)\n",
      "          (act): Hswish()\n",
      "        )\n",
      "        (depth_conv): Sequential(\n",
      "          (conv): Conv2d(960, 960, kernel_size=(7, 7), stride=(1, 1), padding=(3, 3), groups=960, bias=False)\n",
      "          (bn): BatchNorm2d(960, eps=1e-05, momentum=0.1, affine=True, track_running_stats=True)\n",
      "          (act): Hswish()\n",
      "          (se): SE(channel=960, reduction=4)\n",
      "        )\n",
      "        (point_linear): Sequential(\n",
      "          (conv): Conv2d(960, 160, kernel_size=(1, 1), stride=(1, 1), bias=False)\n",
      "          (bn): BatchNorm2d(160, eps=1e-05, momentum=0.1, affine=True, track_running_stats=True)\n",
      "        )\n",
      "      )\n",
      "      (shortcut): IdentityLayer()\n",
      "    )\n",
      "    (2): ResidualBlock(\n",
      "      (conv): MBConvLayer(\n",
      "        (inverted_bottleneck): Sequential(\n",
      "          (conv): Conv2d(160, 960, kernel_size=(1, 1), stride=(1, 1), bias=False)\n",
      "          (bn): BatchNorm2d(960, eps=1e-05, momentum=0.1, affine=True, track_running_stats=True)\n",
      "          (act): Hswish()\n",
      "        )\n",
      "        (depth_conv): Sequential(\n",
      "          (conv): Conv2d(960, 960, kernel_size=(7, 7), stride=(1, 1), padding=(3, 3), groups=960, bias=False)\n",
      "          (bn): BatchNorm2d(960, eps=1e-05, momentum=0.1, affine=True, track_running_stats=True)\n",
      "          (act): Hswish()\n",
      "          (se): SE(channel=960, reduction=4)\n",
      "        )\n",
      "        (point_linear): Sequential(\n",
      "          (conv): Conv2d(960, 160, kernel_size=(1, 1), stride=(1, 1), bias=False)\n",
      "          (bn): BatchNorm2d(160, eps=1e-05, momentum=0.1, affine=True, track_running_stats=True)\n",
      "        )\n",
      "      )\n",
      "      (shortcut): IdentityLayer()\n",
      "    )\n",
      "    (3): ResidualBlock(\n",
      "      (conv): MBConvLayer(\n",
      "        (inverted_bottleneck): Sequential(\n",
      "          (conv): Conv2d(160, 960, kernel_size=(1, 1), stride=(1, 1), bias=False)\n",
      "          (bn): BatchNorm2d(960, eps=1e-05, momentum=0.1, affine=True, track_running_stats=True)\n",
      "          (act): Hswish()\n",
      "        )\n",
      "        (depth_conv): Sequential(\n",
      "          (conv): Conv2d(960, 960, kernel_size=(7, 7), stride=(1, 1), padding=(3, 3), groups=960, bias=False)\n",
      "          (bn): BatchNorm2d(960, eps=1e-05, momentum=0.1, affine=True, track_running_stats=True)\n",
      "          (act): Hswish()\n",
      "          (se): SE(channel=960, reduction=4)\n",
      "        )\n",
      "        (point_linear): Sequential(\n",
      "          (conv): Conv2d(960, 160, kernel_size=(1, 1), stride=(1, 1), bias=False)\n",
      "          (bn): BatchNorm2d(160, eps=1e-05, momentum=0.1, affine=True, track_running_stats=True)\n",
      "        )\n",
      "      )\n",
      "      (shortcut): IdentityLayer()\n",
      "    )\n",
      "  )\n",
      ")]\n"
     ]
    }
   ],
   "source": [
    "print(body_stages)"
   ],
   "metadata": {
    "collapsed": false,
    "pycharm": {
     "name": "#%%\n"
    }
   }
  },
  {
   "cell_type": "code",
   "execution_count": 45,
   "outputs": [
    {
     "name": "stdout",
     "output_type": "stream",
     "text": [
      "(7x7_MBConv6_RELU_O24_BN, None)\n",
      "(7x7_MBConv6_RELU_O24_BN, Identity)\n",
      "(7x7_MBConv6_RELU_O24_BN, Identity)\n",
      "(7x7_MBConv6_RELU_O24_BN, Identity)\n",
      "\n"
     ]
    }
   ],
   "source": [
    "print(body_stages[0].module_str)"
   ],
   "metadata": {
    "collapsed": false,
    "pycharm": {
     "name": "#%%\n"
    }
   }
  },
  {
   "cell_type": "code",
   "execution_count": 46,
   "outputs": [
    {
     "name": "stdout",
     "output_type": "stream",
     "text": [
      "{'name': 'StaticBodyStage', 'layers': [{'name': 'ResidualBlock', 'conv': {'name': 'MBConvLayer', 'in_channels': 16, 'out_channels': 24, 'kernel_size': 7, 'stride': 2, 'expand_ratio': 6, 'mid_channels': None, 'act_func': 'relu', 'use_se': False, 'groups': None}, 'shortcut': None}, {'name': 'ResidualBlock', 'conv': {'name': 'MBConvLayer', 'in_channels': 24, 'out_channels': 24, 'kernel_size': 7, 'stride': 1, 'expand_ratio': 6, 'mid_channels': None, 'act_func': 'relu', 'use_se': False, 'groups': None}, 'shortcut': {'name': 'IdentityLayer', 'in_channels': 24, 'out_channels': 24, 'use_bn': False, 'act_func': None, 'dropout_rate': 0, 'ops_order': 'weight_bn_act'}}, {'name': 'ResidualBlock', 'conv': {'name': 'MBConvLayer', 'in_channels': 24, 'out_channels': 24, 'kernel_size': 7, 'stride': 1, 'expand_ratio': 6, 'mid_channels': None, 'act_func': 'relu', 'use_se': False, 'groups': None}, 'shortcut': {'name': 'IdentityLayer', 'in_channels': 24, 'out_channels': 24, 'use_bn': False, 'act_func': None, 'dropout_rate': 0, 'ops_order': 'weight_bn_act'}}, {'name': 'ResidualBlock', 'conv': {'name': 'MBConvLayer', 'in_channels': 24, 'out_channels': 24, 'kernel_size': 7, 'stride': 1, 'expand_ratio': 6, 'mid_channels': None, 'act_func': 'relu', 'use_se': False, 'groups': None}, 'shortcut': {'name': 'IdentityLayer', 'in_channels': 24, 'out_channels': 24, 'use_bn': False, 'act_func': None, 'dropout_rate': 0, 'ops_order': 'weight_bn_act'}}]}\n"
     ]
    }
   ],
   "source": [
    "print(body_stages[0].config)"
   ],
   "metadata": {
    "collapsed": false,
    "pycharm": {
     "name": "#%%\n"
    }
   }
  },
  {
   "cell_type": "markdown",
   "source": [
    "## static_exit_stage_layers_builder TEST"
   ],
   "metadata": {
    "collapsed": false,
    "pycharm": {
     "name": "#%% md\n"
    }
   }
  },
  {
   "cell_type": "code",
   "execution_count": 47,
   "outputs": [],
   "source": [
    "dropout_rate=0.1\n",
    "n_classes=200"
   ],
   "metadata": {
    "collapsed": false,
    "pycharm": {
     "name": "#%%\n"
    }
   }
  },
  {
   "cell_type": "code",
   "execution_count": 48,
   "outputs": [],
   "source": [
    "final_expand_layer, feature_mix_layer, classifier = static_exit_stage_layers_builder(\n",
    "            in_channels=values[\"body_stages_channels\"][-1],\n",
    "            out_channels=values[\"exit5_stage_channels\"],\n",
    "            kernel_sizes=values[\"exit_stage_ks\"],\n",
    "            act=values[\"exit_stage_act\"],\n",
    "            dropout_rate=dropout_rate,\n",
    "            n_classes=n_classes\n",
    "        )"
   ],
   "metadata": {
    "collapsed": false,
    "pycharm": {
     "name": "#%%\n"
    }
   }
  },
  {
   "cell_type": "code",
   "execution_count": 49,
   "outputs": [
    {
     "name": "stdout",
     "output_type": "stream",
     "text": [
      "ConvLayer(\n",
      "  (conv): Conv2d(160, 960, kernel_size=(1, 1), stride=(1, 1), bias=False)\n",
      "  (bn): BatchNorm2d(960, eps=1e-05, momentum=0.1, affine=True, track_running_stats=True)\n",
      "  (act): Hswish()\n",
      ")\n"
     ]
    }
   ],
   "source": [
    "print(final_expand_layer)"
   ],
   "metadata": {
    "collapsed": false,
    "pycharm": {
     "name": "#%%\n"
    }
   }
  },
  {
   "cell_type": "code",
   "execution_count": 50,
   "outputs": [
    {
     "name": "stdout",
     "output_type": "stream",
     "text": [
      "1x1_Conv_O960_H_SWISH_BN\n"
     ]
    }
   ],
   "source": [
    "print(final_expand_layer.module_str)"
   ],
   "metadata": {
    "collapsed": false,
    "pycharm": {
     "name": "#%%\n"
    }
   }
  },
  {
   "cell_type": "code",
   "execution_count": 51,
   "outputs": [
    {
     "name": "stdout",
     "output_type": "stream",
     "text": [
      "{'name': 'ConvLayer', 'kernel_size': 1, 'stride': 1, 'dilation': 1, 'groups': 1, 'bias': False, 'has_shuffle': False, 'use_se': False, 'in_channels': 160, 'out_channels': 960, 'use_bn': True, 'act_func': 'h_swish', 'dropout_rate': 0, 'ops_order': 'weight_bn_act'}\n"
     ]
    }
   ],
   "source": [
    "print(final_expand_layer.config)"
   ],
   "metadata": {
    "collapsed": false,
    "pycharm": {
     "name": "#%%\n"
    }
   }
  },
  {
   "cell_type": "code",
   "execution_count": 52,
   "outputs": [
    {
     "name": "stdout",
     "output_type": "stream",
     "text": [
      "ConvLayer(\n",
      "  (conv): Conv2d(960, 1280, kernel_size=(1, 1), stride=(1, 1), bias=False)\n",
      "  (act): Hswish()\n",
      ")\n"
     ]
    }
   ],
   "source": [
    "print(feature_mix_layer)"
   ],
   "metadata": {
    "collapsed": false,
    "pycharm": {
     "name": "#%%\n"
    }
   }
  },
  {
   "cell_type": "code",
   "execution_count": 53,
   "outputs": [
    {
     "name": "stdout",
     "output_type": "stream",
     "text": [
      "1x1_Conv_O1280_H_SWISH\n"
     ]
    }
   ],
   "source": [
    "print(feature_mix_layer.module_str)"
   ],
   "metadata": {
    "collapsed": false,
    "pycharm": {
     "name": "#%%\n"
    }
   }
  },
  {
   "cell_type": "code",
   "execution_count": 54,
   "outputs": [
    {
     "name": "stdout",
     "output_type": "stream",
     "text": [
      "{'name': 'ConvLayer', 'kernel_size': 1, 'stride': 1, 'dilation': 1, 'groups': 1, 'bias': False, 'has_shuffle': False, 'use_se': False, 'in_channels': 960, 'out_channels': 1280, 'use_bn': False, 'act_func': 'h_swish', 'dropout_rate': 0, 'ops_order': 'weight_bn_act'}\n"
     ]
    }
   ],
   "source": [
    "print(feature_mix_layer.config)"
   ],
   "metadata": {
    "collapsed": false,
    "pycharm": {
     "name": "#%%\n"
    }
   }
  },
  {
   "cell_type": "code",
   "execution_count": 55,
   "outputs": [
    {
     "name": "stdout",
     "output_type": "stream",
     "text": [
      "LinearLayer(\n",
      "  (dropout): Dropout(p=0.1, inplace=True)\n",
      "  (linear): Linear(in_features=1280, out_features=200, bias=True)\n",
      ")\n"
     ]
    }
   ],
   "source": [
    "print(classifier)"
   ],
   "metadata": {
    "collapsed": false,
    "pycharm": {
     "name": "#%%\n"
    }
   }
  },
  {
   "cell_type": "code",
   "execution_count": 56,
   "outputs": [
    {
     "name": "stdout",
     "output_type": "stream",
     "text": [
      "1280x200_Linear\n"
     ]
    }
   ],
   "source": [
    "print(classifier.module_str)"
   ],
   "metadata": {
    "collapsed": false,
    "pycharm": {
     "name": "#%%\n"
    }
   }
  },
  {
   "cell_type": "code",
   "execution_count": 57,
   "outputs": [
    {
     "name": "stdout",
     "output_type": "stream",
     "text": [
      "{'name': 'LinearLayer', 'in_features': 1280, 'out_features': 200, 'bias': True, 'use_bn': False, 'act_func': None, 'dropout_rate': 0.1, 'ops_order': 'weight_bn_act'}\n"
     ]
    }
   ],
   "source": [
    "print(classifier.config)"
   ],
   "metadata": {
    "collapsed": false,
    "pycharm": {
     "name": "#%%\n"
    }
   }
  },
  {
   "cell_type": "markdown",
   "source": [
    "# StaticExitStage TEST"
   ],
   "metadata": {
    "collapsed": false,
    "pycharm": {
     "name": "#%% md\n"
    }
   }
  },
  {
   "cell_type": "code",
   "execution_count": 58,
   "outputs": [],
   "source": [
    "exit_stage = StaticExitStage(final_expand_layer, feature_mix_layer, classifier)"
   ],
   "metadata": {
    "collapsed": false,
    "pycharm": {
     "name": "#%%\n"
    }
   }
  },
  {
   "cell_type": "code",
   "execution_count": 59,
   "outputs": [
    {
     "name": "stdout",
     "output_type": "stream",
     "text": [
      "StaticExitStage(\n",
      "  (final_expand_layer): ConvLayer(\n",
      "    (conv): Conv2d(160, 960, kernel_size=(1, 1), stride=(1, 1), bias=False)\n",
      "    (bn): BatchNorm2d(960, eps=1e-05, momentum=0.1, affine=True, track_running_stats=True)\n",
      "    (act): Hswish()\n",
      "  )\n",
      "  (global_avg_pooling): MyGlobalAvgPool2d(keep_dim=True)\n",
      "  (feature_mix_layer): ConvLayer(\n",
      "    (conv): Conv2d(960, 1280, kernel_size=(1, 1), stride=(1, 1), bias=False)\n",
      "    (act): Hswish()\n",
      "  )\n",
      "  (classifier): LinearLayer(\n",
      "    (dropout): Dropout(p=0.1, inplace=True)\n",
      "    (linear): Linear(in_features=1280, out_features=200, bias=True)\n",
      "  )\n",
      ")\n"
     ]
    }
   ],
   "source": [
    "print(exit_stage)"
   ],
   "metadata": {
    "collapsed": false,
    "pycharm": {
     "name": "#%%\n"
    }
   }
  },
  {
   "cell_type": "code",
   "execution_count": 60,
   "outputs": [
    {
     "name": "stdout",
     "output_type": "stream",
     "text": [
      "1x1_Conv_O960_H_SWISH_BN\n",
      "MyGlobalAvgPool2d(keep_dim=True)\n",
      "1x1_Conv_O1280_H_SWISH\n",
      "1280x200_Linear\n"
     ]
    }
   ],
   "source": [
    "print(exit_stage.module_str)"
   ],
   "metadata": {
    "collapsed": false,
    "pycharm": {
     "name": "#%%\n"
    }
   }
  },
  {
   "cell_type": "code",
   "execution_count": 61,
   "outputs": [
    {
     "name": "stdout",
     "output_type": "stream",
     "text": [
      "{'name': 'StaticExitStage', 'final_expand_layer': {'name': 'ConvLayer', 'kernel_size': 1, 'stride': 1, 'dilation': 1, 'groups': 1, 'bias': False, 'has_shuffle': False, 'use_se': False, 'in_channels': 160, 'out_channels': 960, 'use_bn': True, 'act_func': 'h_swish', 'dropout_rate': 0, 'ops_order': 'weight_bn_act'}, 'feature_mix_layer': {'name': 'ConvLayer', 'kernel_size': 1, 'stride': 1, 'dilation': 1, 'groups': 1, 'bias': False, 'has_shuffle': False, 'use_se': False, 'in_channels': 960, 'out_channels': 1280, 'use_bn': False, 'act_func': 'h_swish', 'dropout_rate': 0, 'ops_order': 'weight_bn_act'}, 'classifier': {'name': 'LinearLayer', 'in_features': 1280, 'out_features': 200, 'bias': True, 'use_bn': False, 'act_func': None, 'dropout_rate': 0.1, 'ops_order': 'weight_bn_act'}}\n"
     ]
    }
   ],
   "source": [
    "print(exit_stage.config)"
   ],
   "metadata": {
    "collapsed": false,
    "pycharm": {
     "name": "#%%\n"
    }
   }
  },
  {
   "cell_type": "code",
   "execution_count": 62,
   "outputs": [],
   "source": [
    "exit_config=exit_stage.config\n",
    "built_exit=exit_stage.build_from_config(exit_config)"
   ],
   "metadata": {
    "collapsed": false,
    "pycharm": {
     "name": "#%%\n"
    }
   }
  },
  {
   "cell_type": "code",
   "execution_count": 63,
   "outputs": [
    {
     "name": "stdout",
     "output_type": "stream",
     "text": [
      "StaticExitStage(\n",
      "  (final_expand_layer): ConvLayer(\n",
      "    (conv): Conv2d(160, 960, kernel_size=(1, 1), stride=(1, 1), bias=False)\n",
      "    (bn): BatchNorm2d(960, eps=1e-05, momentum=0.1, affine=True, track_running_stats=True)\n",
      "    (act): Hswish()\n",
      "  )\n",
      "  (global_avg_pooling): MyGlobalAvgPool2d(keep_dim=True)\n",
      "  (feature_mix_layer): ConvLayer(\n",
      "    (conv): Conv2d(960, 1280, kernel_size=(1, 1), stride=(1, 1), bias=False)\n",
      "    (act): Hswish()\n",
      "  )\n",
      "  (classifier): LinearLayer(\n",
      "    (dropout): Dropout(p=0.1, inplace=True)\n",
      "    (linear): Linear(in_features=1280, out_features=200, bias=True)\n",
      "  )\n",
      ")\n"
     ]
    }
   ],
   "source": [
    "print(built_exit)"
   ],
   "metadata": {
    "collapsed": false,
    "pycharm": {
     "name": "#%%\n"
    }
   }
  },
  {
   "cell_type": "code",
   "execution_count": 64,
   "outputs": [
    {
     "name": "stdout",
     "output_type": "stream",
     "text": [
      "1x1_Conv_O960_H_SWISH_BN\n",
      "MyGlobalAvgPool2d(keep_dim=True)\n",
      "1x1_Conv_O1280_H_SWISH\n",
      "1280x200_Linear\n"
     ]
    }
   ],
   "source": [
    "print(built_exit.module_str)"
   ],
   "metadata": {
    "collapsed": false,
    "pycharm": {
     "name": "#%%\n"
    }
   }
  },
  {
   "cell_type": "code",
   "execution_count": 65,
   "outputs": [
    {
     "name": "stdout",
     "output_type": "stream",
     "text": [
      "{'name': 'StaticExitStage', 'final_expand_layer': {'name': 'ConvLayer', 'kernel_size': 1, 'stride': 1, 'dilation': 1, 'groups': 1, 'bias': False, 'has_shuffle': False, 'use_se': False, 'in_channels': 160, 'out_channels': 960, 'use_bn': True, 'act_func': 'h_swish', 'dropout_rate': 0, 'ops_order': 'weight_bn_act'}, 'feature_mix_layer': {'name': 'ConvLayer', 'kernel_size': 1, 'stride': 1, 'dilation': 1, 'groups': 1, 'bias': False, 'has_shuffle': False, 'use_se': False, 'in_channels': 960, 'out_channels': 1280, 'use_bn': False, 'act_func': 'h_swish', 'dropout_rate': 0, 'ops_order': 'weight_bn_act'}, 'classifier': {'name': 'LinearLayer', 'in_features': 1280, 'out_features': 200, 'bias': True, 'use_bn': False, 'act_func': None, 'dropout_rate': 0.1, 'ops_order': 'weight_bn_act'}}\n"
     ]
    }
   ],
   "source": [
    "print(built_exit.config)"
   ],
   "metadata": {
    "collapsed": false,
    "pycharm": {
     "name": "#%%\n"
    }
   }
  },
  {
   "cell_type": "code",
   "execution_count": 66,
   "outputs": [],
   "source": [
    "built_exit_2=StaticExitStage.build_from_config(built_exit.config)"
   ],
   "metadata": {
    "collapsed": false,
    "pycharm": {
     "name": "#%%\n"
    }
   }
  },
  {
   "cell_type": "code",
   "execution_count": 67,
   "outputs": [
    {
     "name": "stdout",
     "output_type": "stream",
     "text": [
      "StaticExitStage(\n",
      "  (final_expand_layer): ConvLayer(\n",
      "    (conv): Conv2d(160, 960, kernel_size=(1, 1), stride=(1, 1), bias=False)\n",
      "    (bn): BatchNorm2d(960, eps=1e-05, momentum=0.1, affine=True, track_running_stats=True)\n",
      "    (act): Hswish()\n",
      "  )\n",
      "  (global_avg_pooling): MyGlobalAvgPool2d(keep_dim=True)\n",
      "  (feature_mix_layer): ConvLayer(\n",
      "    (conv): Conv2d(960, 1280, kernel_size=(1, 1), stride=(1, 1), bias=False)\n",
      "    (act): Hswish()\n",
      "  )\n",
      "  (classifier): LinearLayer(\n",
      "    (dropout): Dropout(p=0.1, inplace=True)\n",
      "    (linear): Linear(in_features=1280, out_features=200, bias=True)\n",
      "  )\n",
      ")\n"
     ]
    }
   ],
   "source": [
    "print(built_exit_2)"
   ],
   "metadata": {
    "collapsed": false,
    "pycharm": {
     "name": "#%%\n"
    }
   }
  },
  {
   "cell_type": "markdown",
   "source": [
    "### static_last_exit_stage_builder"
   ],
   "metadata": {
    "collapsed": false,
    "pycharm": {
     "name": "#%% md\n"
    }
   }
  },
  {
   "cell_type": "code",
   "execution_count": 68,
   "outputs": [],
   "source": [
    "last_exit= static_last_exit_stage_builder(width_mult, dropout_rate, n_classes)"
   ],
   "metadata": {
    "collapsed": false,
    "pycharm": {
     "name": "#%%\n"
    }
   }
  },
  {
   "cell_type": "code",
   "execution_count": 69,
   "outputs": [
    {
     "name": "stdout",
     "output_type": "stream",
     "text": [
      "StaticExitStage(\n",
      "  (final_expand_layer): ConvLayer(\n",
      "    (conv): Conv2d(160, 960, kernel_size=(1, 1), stride=(1, 1), bias=False)\n",
      "    (bn): BatchNorm2d(960, eps=1e-05, momentum=0.1, affine=True, track_running_stats=True)\n",
      "    (act): Hswish()\n",
      "  )\n",
      "  (global_avg_pooling): MyGlobalAvgPool2d(keep_dim=True)\n",
      "  (feature_mix_layer): ConvLayer(\n",
      "    (conv): Conv2d(960, 1280, kernel_size=(1, 1), stride=(1, 1), bias=False)\n",
      "    (act): Hswish()\n",
      "  )\n",
      "  (classifier): LinearLayer(\n",
      "    (dropout): Dropout(p=0.1, inplace=True)\n",
      "    (linear): Linear(in_features=1280, out_features=200, bias=True)\n",
      "  )\n",
      ")\n"
     ]
    }
   ],
   "source": [
    "print(last_exit)"
   ],
   "metadata": {
    "collapsed": false,
    "pycharm": {
     "name": "#%%\n"
    }
   }
  },
  {
   "cell_type": "code",
   "execution_count": 70,
   "outputs": [
    {
     "name": "stdout",
     "output_type": "stream",
     "text": [
      "1x1_Conv_O960_H_SWISH_BN\n",
      "MyGlobalAvgPool2d(keep_dim=True)\n",
      "1x1_Conv_O1280_H_SWISH\n",
      "1280x200_Linear\n"
     ]
    }
   ],
   "source": [
    "print(last_exit.module_str)"
   ],
   "metadata": {
    "collapsed": false,
    "pycharm": {
     "name": "#%%\n"
    }
   }
  },
  {
   "cell_type": "code",
   "execution_count": 71,
   "outputs": [
    {
     "name": "stdout",
     "output_type": "stream",
     "text": [
      "{'name': 'StaticExitStage', 'final_expand_layer': {'name': 'ConvLayer', 'kernel_size': 1, 'stride': 1, 'dilation': 1, 'groups': 1, 'bias': False, 'has_shuffle': False, 'use_se': False, 'in_channels': 160, 'out_channels': 960, 'use_bn': True, 'act_func': 'h_swish', 'dropout_rate': 0, 'ops_order': 'weight_bn_act'}, 'feature_mix_layer': {'name': 'ConvLayer', 'kernel_size': 1, 'stride': 1, 'dilation': 1, 'groups': 1, 'bias': False, 'has_shuffle': False, 'use_se': False, 'in_channels': 960, 'out_channels': 1280, 'use_bn': False, 'act_func': 'h_swish', 'dropout_rate': 0, 'ops_order': 'weight_bn_act'}, 'classifier': {'name': 'LinearLayer', 'in_features': 1280, 'out_features': 200, 'bias': True, 'use_bn': False, 'act_func': None, 'dropout_rate': 0.1, 'ops_order': 'weight_bn_act'}}\n"
     ]
    }
   ],
   "source": [
    "print(last_exit.config)"
   ],
   "metadata": {
    "collapsed": false,
    "pycharm": {
     "name": "#%%\n"
    }
   }
  },
  {
   "cell_type": "markdown",
   "source": [
    "### static_all_exit_stages_builders"
   ],
   "metadata": {
    "collapsed": false,
    "pycharm": {
     "name": "#%% md\n"
    }
   }
  },
  {
   "cell_type": "code",
   "execution_count": 72,
   "outputs": [],
   "source": [
    "all_exits= static_all_exit_stages_builders(width_mult, dropout_rate, n_classes)"
   ],
   "metadata": {
    "collapsed": false,
    "pycharm": {
     "name": "#%%\n"
    }
   }
  },
  {
   "cell_type": "code",
   "execution_count": 73,
   "outputs": [
    {
     "name": "stdout",
     "output_type": "stream",
     "text": [
      "[StaticExitStage(\n",
      "  (final_expand_layer): ConvLayer(\n",
      "    (conv): Conv2d(24, 144, kernel_size=(1, 1), stride=(1, 1), bias=False)\n",
      "    (bn): BatchNorm2d(144, eps=1e-05, momentum=0.1, affine=True, track_running_stats=True)\n",
      "    (act): Hswish()\n",
      "  )\n",
      "  (global_avg_pooling): MyGlobalAvgPool2d(keep_dim=True)\n",
      "  (feature_mix_layer): ConvLayer(\n",
      "    (conv): Conv2d(144, 192, kernel_size=(1, 1), stride=(1, 1), bias=False)\n",
      "    (act): Hswish()\n",
      "  )\n",
      "  (classifier): LinearLayer(\n",
      "    (dropout): Dropout(p=0.1, inplace=True)\n",
      "    (linear): Linear(in_features=192, out_features=200, bias=True)\n",
      "  )\n",
      "), StaticExitStage(\n",
      "  (final_expand_layer): ConvLayer(\n",
      "    (conv): Conv2d(40, 240, kernel_size=(1, 1), stride=(1, 1), bias=False)\n",
      "    (bn): BatchNorm2d(240, eps=1e-05, momentum=0.1, affine=True, track_running_stats=True)\n",
      "    (act): Hswish()\n",
      "  )\n",
      "  (global_avg_pooling): MyGlobalAvgPool2d(keep_dim=True)\n",
      "  (feature_mix_layer): ConvLayer(\n",
      "    (conv): Conv2d(240, 320, kernel_size=(1, 1), stride=(1, 1), bias=False)\n",
      "    (act): Hswish()\n",
      "  )\n",
      "  (classifier): LinearLayer(\n",
      "    (dropout): Dropout(p=0.1, inplace=True)\n",
      "    (linear): Linear(in_features=320, out_features=200, bias=True)\n",
      "  )\n",
      "), StaticExitStage(\n",
      "  (final_expand_layer): ConvLayer(\n",
      "    (conv): Conv2d(80, 480, kernel_size=(1, 1), stride=(1, 1), bias=False)\n",
      "    (bn): BatchNorm2d(480, eps=1e-05, momentum=0.1, affine=True, track_running_stats=True)\n",
      "    (act): Hswish()\n",
      "  )\n",
      "  (global_avg_pooling): MyGlobalAvgPool2d(keep_dim=True)\n",
      "  (feature_mix_layer): ConvLayer(\n",
      "    (conv): Conv2d(480, 640, kernel_size=(1, 1), stride=(1, 1), bias=False)\n",
      "    (act): Hswish()\n",
      "  )\n",
      "  (classifier): LinearLayer(\n",
      "    (dropout): Dropout(p=0.1, inplace=True)\n",
      "    (linear): Linear(in_features=640, out_features=200, bias=True)\n",
      "  )\n",
      "), StaticExitStage(\n",
      "  (final_expand_layer): ConvLayer(\n",
      "    (conv): Conv2d(112, 672, kernel_size=(1, 1), stride=(1, 1), bias=False)\n",
      "    (bn): BatchNorm2d(672, eps=1e-05, momentum=0.1, affine=True, track_running_stats=True)\n",
      "    (act): Hswish()\n",
      "  )\n",
      "  (global_avg_pooling): MyGlobalAvgPool2d(keep_dim=True)\n",
      "  (feature_mix_layer): ConvLayer(\n",
      "    (conv): Conv2d(672, 896, kernel_size=(1, 1), stride=(1, 1), bias=False)\n",
      "    (act): Hswish()\n",
      "  )\n",
      "  (classifier): LinearLayer(\n",
      "    (dropout): Dropout(p=0.1, inplace=True)\n",
      "    (linear): Linear(in_features=896, out_features=200, bias=True)\n",
      "  )\n",
      "), StaticExitStage(\n",
      "  (final_expand_layer): ConvLayer(\n",
      "    (conv): Conv2d(160, 960, kernel_size=(1, 1), stride=(1, 1), bias=False)\n",
      "    (bn): BatchNorm2d(960, eps=1e-05, momentum=0.1, affine=True, track_running_stats=True)\n",
      "    (act): Hswish()\n",
      "  )\n",
      "  (global_avg_pooling): MyGlobalAvgPool2d(keep_dim=True)\n",
      "  (feature_mix_layer): ConvLayer(\n",
      "    (conv): Conv2d(960, 1280, kernel_size=(1, 1), stride=(1, 1), bias=False)\n",
      "    (act): Hswish()\n",
      "  )\n",
      "  (classifier): LinearLayer(\n",
      "    (dropout): Dropout(p=0.1, inplace=True)\n",
      "    (linear): Linear(in_features=1280, out_features=200, bias=True)\n",
      "  )\n",
      ")]\n"
     ]
    }
   ],
   "source": [
    "print(all_exits)"
   ],
   "metadata": {
    "collapsed": false,
    "pycharm": {
     "name": "#%%\n"
    }
   }
  },
  {
   "cell_type": "code",
   "execution_count": 74,
   "outputs": [
    {
     "name": "stdout",
     "output_type": "stream",
     "text": [
      "1x1_Conv_O144_H_SWISH_BN\n",
      "MyGlobalAvgPool2d(keep_dim=True)\n",
      "1x1_Conv_O192_H_SWISH\n",
      "192x200_Linear\n",
      "\n",
      "\n",
      "1x1_Conv_O240_H_SWISH_BN\n",
      "MyGlobalAvgPool2d(keep_dim=True)\n",
      "1x1_Conv_O320_H_SWISH\n",
      "320x200_Linear\n",
      "\n",
      "\n",
      "1x1_Conv_O480_H_SWISH_BN\n",
      "MyGlobalAvgPool2d(keep_dim=True)\n",
      "1x1_Conv_O640_H_SWISH\n",
      "640x200_Linear\n",
      "\n",
      "\n",
      "1x1_Conv_O672_H_SWISH_BN\n",
      "MyGlobalAvgPool2d(keep_dim=True)\n",
      "1x1_Conv_O896_H_SWISH\n",
      "896x200_Linear\n",
      "\n",
      "\n",
      "1x1_Conv_O960_H_SWISH_BN\n",
      "MyGlobalAvgPool2d(keep_dim=True)\n",
      "1x1_Conv_O1280_H_SWISH\n",
      "1280x200_Linear\n",
      "\n",
      "\n"
     ]
    }
   ],
   "source": [
    "for exit in all_exits:\n",
    "    print(exit.module_str)\n",
    "    print(\"\\n\")"
   ],
   "metadata": {
    "collapsed": false,
    "pycharm": {
     "name": "#%%\n"
    }
   }
  },
  {
   "cell_type": "markdown",
   "source": [
    "# StaticDenseBodyStage TEST"
   ],
   "metadata": {
    "collapsed": false,
    "pycharm": {
     "name": "#%% md\n"
    }
   }
  },
  {
   "cell_type": "code",
   "execution_count": 75,
   "outputs": [],
   "source": [
    "dense_body = StaticDenseBodyStage(layers1)"
   ],
   "metadata": {
    "collapsed": false,
    "pycharm": {
     "name": "#%%\n"
    }
   }
  },
  {
   "cell_type": "code",
   "execution_count": 76,
   "outputs": [
    {
     "name": "stdout",
     "output_type": "stream",
     "text": [
      "StaticDenseBodyStage(\n",
      "  (layers): ModuleList(\n",
      "    (0): ResidualBlock(\n",
      "      (conv): MBConvLayer(\n",
      "        (inverted_bottleneck): Sequential(\n",
      "          (conv): Conv2d(16, 96, kernel_size=(1, 1), stride=(1, 1), bias=False)\n",
      "          (bn): BatchNorm2d(96, eps=1e-05, momentum=0.1, affine=True, track_running_stats=True)\n",
      "          (act): ReLU(inplace=True)\n",
      "        )\n",
      "        (depth_conv): Sequential(\n",
      "          (conv): Conv2d(96, 96, kernel_size=(7, 7), stride=(2, 2), padding=(3, 3), groups=96, bias=False)\n",
      "          (bn): BatchNorm2d(96, eps=1e-05, momentum=0.1, affine=True, track_running_stats=True)\n",
      "          (act): ReLU(inplace=True)\n",
      "        )\n",
      "        (point_linear): Sequential(\n",
      "          (conv): Conv2d(96, 24, kernel_size=(1, 1), stride=(1, 1), bias=False)\n",
      "          (bn): BatchNorm2d(24, eps=1e-05, momentum=0.1, affine=True, track_running_stats=True)\n",
      "        )\n",
      "      )\n",
      "    )\n",
      "    (1): ResidualBlock(\n",
      "      (conv): MBConvLayer(\n",
      "        (inverted_bottleneck): Sequential(\n",
      "          (conv): Conv2d(24, 144, kernel_size=(1, 1), stride=(1, 1), bias=False)\n",
      "          (bn): BatchNorm2d(144, eps=1e-05, momentum=0.1, affine=True, track_running_stats=True)\n",
      "          (act): ReLU(inplace=True)\n",
      "        )\n",
      "        (depth_conv): Sequential(\n",
      "          (conv): Conv2d(144, 144, kernel_size=(7, 7), stride=(1, 1), padding=(3, 3), groups=144, bias=False)\n",
      "          (bn): BatchNorm2d(144, eps=1e-05, momentum=0.1, affine=True, track_running_stats=True)\n",
      "          (act): ReLU(inplace=True)\n",
      "        )\n",
      "        (point_linear): Sequential(\n",
      "          (conv): Conv2d(144, 24, kernel_size=(1, 1), stride=(1, 1), bias=False)\n",
      "          (bn): BatchNorm2d(24, eps=1e-05, momentum=0.1, affine=True, track_running_stats=True)\n",
      "        )\n",
      "      )\n",
      "      (shortcut): IdentityLayer()\n",
      "    )\n",
      "    (2): ResidualBlock(\n",
      "      (conv): MBConvLayer(\n",
      "        (inverted_bottleneck): Sequential(\n",
      "          (conv): Conv2d(24, 144, kernel_size=(1, 1), stride=(1, 1), bias=False)\n",
      "          (bn): BatchNorm2d(144, eps=1e-05, momentum=0.1, affine=True, track_running_stats=True)\n",
      "          (act): ReLU(inplace=True)\n",
      "        )\n",
      "        (depth_conv): Sequential(\n",
      "          (conv): Conv2d(144, 144, kernel_size=(7, 7), stride=(1, 1), padding=(3, 3), groups=144, bias=False)\n",
      "          (bn): BatchNorm2d(144, eps=1e-05, momentum=0.1, affine=True, track_running_stats=True)\n",
      "          (act): ReLU(inplace=True)\n",
      "        )\n",
      "        (point_linear): Sequential(\n",
      "          (conv): Conv2d(144, 24, kernel_size=(1, 1), stride=(1, 1), bias=False)\n",
      "          (bn): BatchNorm2d(24, eps=1e-05, momentum=0.1, affine=True, track_running_stats=True)\n",
      "        )\n",
      "      )\n",
      "      (shortcut): IdentityLayer()\n",
      "    )\n",
      "    (3): ResidualBlock(\n",
      "      (conv): MBConvLayer(\n",
      "        (inverted_bottleneck): Sequential(\n",
      "          (conv): Conv2d(24, 144, kernel_size=(1, 1), stride=(1, 1), bias=False)\n",
      "          (bn): BatchNorm2d(144, eps=1e-05, momentum=0.1, affine=True, track_running_stats=True)\n",
      "          (act): ReLU(inplace=True)\n",
      "        )\n",
      "        (depth_conv): Sequential(\n",
      "          (conv): Conv2d(144, 144, kernel_size=(7, 7), stride=(1, 1), padding=(3, 3), groups=144, bias=False)\n",
      "          (bn): BatchNorm2d(144, eps=1e-05, momentum=0.1, affine=True, track_running_stats=True)\n",
      "          (act): ReLU(inplace=True)\n",
      "        )\n",
      "        (point_linear): Sequential(\n",
      "          (conv): Conv2d(144, 24, kernel_size=(1, 1), stride=(1, 1), bias=False)\n",
      "          (bn): BatchNorm2d(24, eps=1e-05, momentum=0.1, affine=True, track_running_stats=True)\n",
      "        )\n",
      "      )\n",
      "      (shortcut): IdentityLayer()\n",
      "    )\n",
      "  )\n",
      ")\n"
     ]
    }
   ],
   "source": [
    "print(dense_body)"
   ],
   "metadata": {
    "collapsed": false,
    "pycharm": {
     "name": "#%%\n"
    }
   }
  },
  {
   "cell_type": "code",
   "execution_count": 77,
   "outputs": [
    {
     "name": "stdout",
     "output_type": "stream",
     "text": [
      "(7x7_MBConv6_RELU_O24_BN, None)\n",
      "(7x7_MBConv6_RELU_O24_BN, Identity)\n",
      "(7x7_MBConv6_RELU_O24_BN, Identity)\n",
      "(7x7_MBConv6_RELU_O24_BN, Identity)\n",
      "\n"
     ]
    }
   ],
   "source": [
    "print(dense_body.module_str)"
   ],
   "metadata": {
    "collapsed": false,
    "pycharm": {
     "name": "#%%\n"
    }
   }
  },
  {
   "cell_type": "code",
   "execution_count": 78,
   "outputs": [
    {
     "name": "stdout",
     "output_type": "stream",
     "text": [
      "{'name': 'StaticDenseBodyStage', 'layers': [{'name': 'ResidualBlock', 'conv': {'name': 'MBConvLayer', 'in_channels': 16, 'out_channels': 24, 'kernel_size': 7, 'stride': 2, 'expand_ratio': 6, 'mid_channels': None, 'act_func': 'relu', 'use_se': False, 'groups': None}, 'shortcut': None}, {'name': 'ResidualBlock', 'conv': {'name': 'MBConvLayer', 'in_channels': 24, 'out_channels': 24, 'kernel_size': 7, 'stride': 1, 'expand_ratio': 6, 'mid_channels': None, 'act_func': 'relu', 'use_se': False, 'groups': None}, 'shortcut': {'name': 'IdentityLayer', 'in_channels': 24, 'out_channels': 24, 'use_bn': False, 'act_func': None, 'dropout_rate': 0, 'ops_order': 'weight_bn_act'}}, {'name': 'ResidualBlock', 'conv': {'name': 'MBConvLayer', 'in_channels': 24, 'out_channels': 24, 'kernel_size': 7, 'stride': 1, 'expand_ratio': 6, 'mid_channels': None, 'act_func': 'relu', 'use_se': False, 'groups': None}, 'shortcut': {'name': 'IdentityLayer', 'in_channels': 24, 'out_channels': 24, 'use_bn': False, 'act_func': None, 'dropout_rate': 0, 'ops_order': 'weight_bn_act'}}, {'name': 'ResidualBlock', 'conv': {'name': 'MBConvLayer', 'in_channels': 24, 'out_channels': 24, 'kernel_size': 7, 'stride': 1, 'expand_ratio': 6, 'mid_channels': None, 'act_func': 'relu', 'use_se': False, 'groups': None}, 'shortcut': {'name': 'IdentityLayer', 'in_channels': 24, 'out_channels': 24, 'use_bn': False, 'act_func': None, 'dropout_rate': 0, 'ops_order': 'weight_bn_act'}}]}\n"
     ]
    }
   ],
   "source": [
    "dense_config=dense_body.config\n",
    "print(dense_config)"
   ],
   "metadata": {
    "collapsed": false,
    "pycharm": {
     "name": "#%%\n"
    }
   }
  },
  {
   "cell_type": "code",
   "execution_count": 79,
   "outputs": [],
   "source": [
    "new_dense=StaticDenseBodyStage.build_from_config(dense_config)"
   ],
   "metadata": {
    "collapsed": false,
    "pycharm": {
     "name": "#%%\n"
    }
   }
  },
  {
   "cell_type": "code",
   "execution_count": 80,
   "outputs": [
    {
     "name": "stdout",
     "output_type": "stream",
     "text": [
      "(7x7_MBConv6_RELU_O24_BN, None)\n",
      "(7x7_MBConv6_RELU_O24_BN, Identity)\n",
      "(7x7_MBConv6_RELU_O24_BN, Identity)\n",
      "(7x7_MBConv6_RELU_O24_BN, Identity)\n",
      "\n"
     ]
    }
   ],
   "source": [
    "print(new_dense.module_str)"
   ],
   "metadata": {
    "collapsed": false,
    "pycharm": {
     "name": "#%%\n"
    }
   }
  },
  {
   "cell_type": "code",
   "execution_count": 81,
   "outputs": [
    {
     "name": "stdout",
     "output_type": "stream",
     "text": [
      "{'name': 'StaticDenseBodyStage', 'layers': [{'name': 'ResidualBlock', 'conv': {'name': 'MBConvLayer', 'in_channels': 16, 'out_channels': 24, 'kernel_size': 7, 'stride': 2, 'expand_ratio': 6, 'mid_channels': None, 'act_func': 'relu', 'use_se': False, 'groups': None}, 'shortcut': None}, {'name': 'ResidualBlock', 'conv': {'name': 'MBConvLayer', 'in_channels': 24, 'out_channels': 24, 'kernel_size': 7, 'stride': 1, 'expand_ratio': 6, 'mid_channels': None, 'act_func': 'relu', 'use_se': False, 'groups': None}, 'shortcut': {'name': 'IdentityLayer', 'in_channels': 24, 'out_channels': 24, 'use_bn': False, 'act_func': None, 'dropout_rate': 0, 'ops_order': 'weight_bn_act'}}, {'name': 'ResidualBlock', 'conv': {'name': 'MBConvLayer', 'in_channels': 24, 'out_channels': 24, 'kernel_size': 7, 'stride': 1, 'expand_ratio': 6, 'mid_channels': None, 'act_func': 'relu', 'use_se': False, 'groups': None}, 'shortcut': {'name': 'IdentityLayer', 'in_channels': 24, 'out_channels': 24, 'use_bn': False, 'act_func': None, 'dropout_rate': 0, 'ops_order': 'weight_bn_act'}}, {'name': 'ResidualBlock', 'conv': {'name': 'MBConvLayer', 'in_channels': 24, 'out_channels': 24, 'kernel_size': 7, 'stride': 1, 'expand_ratio': 6, 'mid_channels': None, 'act_func': 'relu', 'use_se': False, 'groups': None}, 'shortcut': {'name': 'IdentityLayer', 'in_channels': 24, 'out_channels': 24, 'use_bn': False, 'act_func': None, 'dropout_rate': 0, 'ops_order': 'weight_bn_act'}}]}\n"
     ]
    }
   ],
   "source": [
    "print(new_dense.config)"
   ],
   "metadata": {
    "collapsed": false,
    "pycharm": {
     "name": "#%%\n"
    }
   }
  },
  {
   "cell_type": "markdown",
   "source": [
    "## static_dense_body_Stages_builder TEST"
   ],
   "metadata": {
    "collapsed": false,
    "pycharm": {
     "name": "#%% md\n"
    }
   }
  },
  {
   "cell_type": "code",
   "execution_count": 82,
   "outputs": [],
   "source": [
    "dense_stages = static_dense_body_stages_builder(width_mult, ks, expand_ratio, depth)"
   ],
   "metadata": {
    "collapsed": false,
    "pycharm": {
     "name": "#%%\n"
    }
   }
  },
  {
   "cell_type": "code",
   "execution_count": 83,
   "outputs": [
    {
     "name": "stdout",
     "output_type": "stream",
     "text": [
      "[StaticDenseBodyStage(\n",
      "  (layers): ModuleList(\n",
      "    (0): ResidualBlock(\n",
      "      (conv): MBConvLayer(\n",
      "        (inverted_bottleneck): Sequential(\n",
      "          (conv): Conv2d(16, 96, kernel_size=(1, 1), stride=(1, 1), bias=False)\n",
      "          (bn): BatchNorm2d(96, eps=1e-05, momentum=0.1, affine=True, track_running_stats=True)\n",
      "          (act): ReLU(inplace=True)\n",
      "        )\n",
      "        (depth_conv): Sequential(\n",
      "          (conv): Conv2d(96, 96, kernel_size=(7, 7), stride=(2, 2), padding=(3, 3), groups=96, bias=False)\n",
      "          (bn): BatchNorm2d(96, eps=1e-05, momentum=0.1, affine=True, track_running_stats=True)\n",
      "          (act): ReLU(inplace=True)\n",
      "        )\n",
      "        (point_linear): Sequential(\n",
      "          (conv): Conv2d(96, 24, kernel_size=(1, 1), stride=(1, 1), bias=False)\n",
      "          (bn): BatchNorm2d(24, eps=1e-05, momentum=0.1, affine=True, track_running_stats=True)\n",
      "        )\n",
      "      )\n",
      "    )\n",
      "    (1): ResidualBlock(\n",
      "      (conv): MBConvLayer(\n",
      "        (inverted_bottleneck): Sequential(\n",
      "          (conv): Conv2d(24, 144, kernel_size=(1, 1), stride=(1, 1), bias=False)\n",
      "          (bn): BatchNorm2d(144, eps=1e-05, momentum=0.1, affine=True, track_running_stats=True)\n",
      "          (act): ReLU(inplace=True)\n",
      "        )\n",
      "        (depth_conv): Sequential(\n",
      "          (conv): Conv2d(144, 144, kernel_size=(7, 7), stride=(1, 1), padding=(3, 3), groups=144, bias=False)\n",
      "          (bn): BatchNorm2d(144, eps=1e-05, momentum=0.1, affine=True, track_running_stats=True)\n",
      "          (act): ReLU(inplace=True)\n",
      "        )\n",
      "        (point_linear): Sequential(\n",
      "          (conv): Conv2d(144, 24, kernel_size=(1, 1), stride=(1, 1), bias=False)\n",
      "          (bn): BatchNorm2d(24, eps=1e-05, momentum=0.1, affine=True, track_running_stats=True)\n",
      "        )\n",
      "      )\n",
      "      (shortcut): IdentityLayer()\n",
      "    )\n",
      "    (2): ResidualBlock(\n",
      "      (conv): MBConvLayer(\n",
      "        (inverted_bottleneck): Sequential(\n",
      "          (conv): Conv2d(24, 144, kernel_size=(1, 1), stride=(1, 1), bias=False)\n",
      "          (bn): BatchNorm2d(144, eps=1e-05, momentum=0.1, affine=True, track_running_stats=True)\n",
      "          (act): ReLU(inplace=True)\n",
      "        )\n",
      "        (depth_conv): Sequential(\n",
      "          (conv): Conv2d(144, 144, kernel_size=(7, 7), stride=(1, 1), padding=(3, 3), groups=144, bias=False)\n",
      "          (bn): BatchNorm2d(144, eps=1e-05, momentum=0.1, affine=True, track_running_stats=True)\n",
      "          (act): ReLU(inplace=True)\n",
      "        )\n",
      "        (point_linear): Sequential(\n",
      "          (conv): Conv2d(144, 24, kernel_size=(1, 1), stride=(1, 1), bias=False)\n",
      "          (bn): BatchNorm2d(24, eps=1e-05, momentum=0.1, affine=True, track_running_stats=True)\n",
      "        )\n",
      "      )\n",
      "      (shortcut): IdentityLayer()\n",
      "    )\n",
      "    (3): ResidualBlock(\n",
      "      (conv): MBConvLayer(\n",
      "        (inverted_bottleneck): Sequential(\n",
      "          (conv): Conv2d(24, 144, kernel_size=(1, 1), stride=(1, 1), bias=False)\n",
      "          (bn): BatchNorm2d(144, eps=1e-05, momentum=0.1, affine=True, track_running_stats=True)\n",
      "          (act): ReLU(inplace=True)\n",
      "        )\n",
      "        (depth_conv): Sequential(\n",
      "          (conv): Conv2d(144, 144, kernel_size=(7, 7), stride=(1, 1), padding=(3, 3), groups=144, bias=False)\n",
      "          (bn): BatchNorm2d(144, eps=1e-05, momentum=0.1, affine=True, track_running_stats=True)\n",
      "          (act): ReLU(inplace=True)\n",
      "        )\n",
      "        (point_linear): Sequential(\n",
      "          (conv): Conv2d(144, 24, kernel_size=(1, 1), stride=(1, 1), bias=False)\n",
      "          (bn): BatchNorm2d(24, eps=1e-05, momentum=0.1, affine=True, track_running_stats=True)\n",
      "        )\n",
      "      )\n",
      "      (shortcut): IdentityLayer()\n",
      "    )\n",
      "  )\n",
      "), StaticDenseBodyStage(\n",
      "  (layers): ModuleList(\n",
      "    (0): ResidualBlock(\n",
      "      (conv): MBConvLayer(\n",
      "        (inverted_bottleneck): Sequential(\n",
      "          (conv): Conv2d(24, 144, kernel_size=(1, 1), stride=(1, 1), bias=False)\n",
      "          (bn): BatchNorm2d(144, eps=1e-05, momentum=0.1, affine=True, track_running_stats=True)\n",
      "          (act): ReLU(inplace=True)\n",
      "        )\n",
      "        (depth_conv): Sequential(\n",
      "          (conv): Conv2d(144, 144, kernel_size=(7, 7), stride=(2, 2), padding=(3, 3), groups=144, bias=False)\n",
      "          (bn): BatchNorm2d(144, eps=1e-05, momentum=0.1, affine=True, track_running_stats=True)\n",
      "          (act): ReLU(inplace=True)\n",
      "          (se): SE(channel=144, reduction=4)\n",
      "        )\n",
      "        (point_linear): Sequential(\n",
      "          (conv): Conv2d(144, 40, kernel_size=(1, 1), stride=(1, 1), bias=False)\n",
      "          (bn): BatchNorm2d(40, eps=1e-05, momentum=0.1, affine=True, track_running_stats=True)\n",
      "        )\n",
      "      )\n",
      "    )\n",
      "    (1): ResidualBlock(\n",
      "      (conv): MBConvLayer(\n",
      "        (inverted_bottleneck): Sequential(\n",
      "          (conv): Conv2d(40, 240, kernel_size=(1, 1), stride=(1, 1), bias=False)\n",
      "          (bn): BatchNorm2d(240, eps=1e-05, momentum=0.1, affine=True, track_running_stats=True)\n",
      "          (act): ReLU(inplace=True)\n",
      "        )\n",
      "        (depth_conv): Sequential(\n",
      "          (conv): Conv2d(240, 240, kernel_size=(7, 7), stride=(1, 1), padding=(3, 3), groups=240, bias=False)\n",
      "          (bn): BatchNorm2d(240, eps=1e-05, momentum=0.1, affine=True, track_running_stats=True)\n",
      "          (act): ReLU(inplace=True)\n",
      "          (se): SE(channel=240, reduction=4)\n",
      "        )\n",
      "        (point_linear): Sequential(\n",
      "          (conv): Conv2d(240, 40, kernel_size=(1, 1), stride=(1, 1), bias=False)\n",
      "          (bn): BatchNorm2d(40, eps=1e-05, momentum=0.1, affine=True, track_running_stats=True)\n",
      "        )\n",
      "      )\n",
      "      (shortcut): IdentityLayer()\n",
      "    )\n",
      "    (2): ResidualBlock(\n",
      "      (conv): MBConvLayer(\n",
      "        (inverted_bottleneck): Sequential(\n",
      "          (conv): Conv2d(40, 240, kernel_size=(1, 1), stride=(1, 1), bias=False)\n",
      "          (bn): BatchNorm2d(240, eps=1e-05, momentum=0.1, affine=True, track_running_stats=True)\n",
      "          (act): ReLU(inplace=True)\n",
      "        )\n",
      "        (depth_conv): Sequential(\n",
      "          (conv): Conv2d(240, 240, kernel_size=(7, 7), stride=(1, 1), padding=(3, 3), groups=240, bias=False)\n",
      "          (bn): BatchNorm2d(240, eps=1e-05, momentum=0.1, affine=True, track_running_stats=True)\n",
      "          (act): ReLU(inplace=True)\n",
      "          (se): SE(channel=240, reduction=4)\n",
      "        )\n",
      "        (point_linear): Sequential(\n",
      "          (conv): Conv2d(240, 40, kernel_size=(1, 1), stride=(1, 1), bias=False)\n",
      "          (bn): BatchNorm2d(40, eps=1e-05, momentum=0.1, affine=True, track_running_stats=True)\n",
      "        )\n",
      "      )\n",
      "      (shortcut): IdentityLayer()\n",
      "    )\n",
      "    (3): ResidualBlock(\n",
      "      (conv): MBConvLayer(\n",
      "        (inverted_bottleneck): Sequential(\n",
      "          (conv): Conv2d(40, 240, kernel_size=(1, 1), stride=(1, 1), bias=False)\n",
      "          (bn): BatchNorm2d(240, eps=1e-05, momentum=0.1, affine=True, track_running_stats=True)\n",
      "          (act): ReLU(inplace=True)\n",
      "        )\n",
      "        (depth_conv): Sequential(\n",
      "          (conv): Conv2d(240, 240, kernel_size=(7, 7), stride=(1, 1), padding=(3, 3), groups=240, bias=False)\n",
      "          (bn): BatchNorm2d(240, eps=1e-05, momentum=0.1, affine=True, track_running_stats=True)\n",
      "          (act): ReLU(inplace=True)\n",
      "          (se): SE(channel=240, reduction=4)\n",
      "        )\n",
      "        (point_linear): Sequential(\n",
      "          (conv): Conv2d(240, 40, kernel_size=(1, 1), stride=(1, 1), bias=False)\n",
      "          (bn): BatchNorm2d(40, eps=1e-05, momentum=0.1, affine=True, track_running_stats=True)\n",
      "        )\n",
      "      )\n",
      "      (shortcut): IdentityLayer()\n",
      "    )\n",
      "  )\n",
      "), StaticDenseBodyStage(\n",
      "  (layers): ModuleList(\n",
      "    (0): ResidualBlock(\n",
      "      (conv): MBConvLayer(\n",
      "        (inverted_bottleneck): Sequential(\n",
      "          (conv): Conv2d(40, 240, kernel_size=(1, 1), stride=(1, 1), bias=False)\n",
      "          (bn): BatchNorm2d(240, eps=1e-05, momentum=0.1, affine=True, track_running_stats=True)\n",
      "          (act): Hswish()\n",
      "        )\n",
      "        (depth_conv): Sequential(\n",
      "          (conv): Conv2d(240, 240, kernel_size=(7, 7), stride=(2, 2), padding=(3, 3), groups=240, bias=False)\n",
      "          (bn): BatchNorm2d(240, eps=1e-05, momentum=0.1, affine=True, track_running_stats=True)\n",
      "          (act): Hswish()\n",
      "        )\n",
      "        (point_linear): Sequential(\n",
      "          (conv): Conv2d(240, 80, kernel_size=(1, 1), stride=(1, 1), bias=False)\n",
      "          (bn): BatchNorm2d(80, eps=1e-05, momentum=0.1, affine=True, track_running_stats=True)\n",
      "        )\n",
      "      )\n",
      "    )\n",
      "    (1): ResidualBlock(\n",
      "      (conv): MBConvLayer(\n",
      "        (inverted_bottleneck): Sequential(\n",
      "          (conv): Conv2d(80, 480, kernel_size=(1, 1), stride=(1, 1), bias=False)\n",
      "          (bn): BatchNorm2d(480, eps=1e-05, momentum=0.1, affine=True, track_running_stats=True)\n",
      "          (act): Hswish()\n",
      "        )\n",
      "        (depth_conv): Sequential(\n",
      "          (conv): Conv2d(480, 480, kernel_size=(7, 7), stride=(1, 1), padding=(3, 3), groups=480, bias=False)\n",
      "          (bn): BatchNorm2d(480, eps=1e-05, momentum=0.1, affine=True, track_running_stats=True)\n",
      "          (act): Hswish()\n",
      "        )\n",
      "        (point_linear): Sequential(\n",
      "          (conv): Conv2d(480, 80, kernel_size=(1, 1), stride=(1, 1), bias=False)\n",
      "          (bn): BatchNorm2d(80, eps=1e-05, momentum=0.1, affine=True, track_running_stats=True)\n",
      "        )\n",
      "      )\n",
      "      (shortcut): IdentityLayer()\n",
      "    )\n",
      "    (2): ResidualBlock(\n",
      "      (conv): MBConvLayer(\n",
      "        (inverted_bottleneck): Sequential(\n",
      "          (conv): Conv2d(80, 480, kernel_size=(1, 1), stride=(1, 1), bias=False)\n",
      "          (bn): BatchNorm2d(480, eps=1e-05, momentum=0.1, affine=True, track_running_stats=True)\n",
      "          (act): Hswish()\n",
      "        )\n",
      "        (depth_conv): Sequential(\n",
      "          (conv): Conv2d(480, 480, kernel_size=(7, 7), stride=(1, 1), padding=(3, 3), groups=480, bias=False)\n",
      "          (bn): BatchNorm2d(480, eps=1e-05, momentum=0.1, affine=True, track_running_stats=True)\n",
      "          (act): Hswish()\n",
      "        )\n",
      "        (point_linear): Sequential(\n",
      "          (conv): Conv2d(480, 80, kernel_size=(1, 1), stride=(1, 1), bias=False)\n",
      "          (bn): BatchNorm2d(80, eps=1e-05, momentum=0.1, affine=True, track_running_stats=True)\n",
      "        )\n",
      "      )\n",
      "      (shortcut): IdentityLayer()\n",
      "    )\n",
      "    (3): ResidualBlock(\n",
      "      (conv): MBConvLayer(\n",
      "        (inverted_bottleneck): Sequential(\n",
      "          (conv): Conv2d(80, 480, kernel_size=(1, 1), stride=(1, 1), bias=False)\n",
      "          (bn): BatchNorm2d(480, eps=1e-05, momentum=0.1, affine=True, track_running_stats=True)\n",
      "          (act): Hswish()\n",
      "        )\n",
      "        (depth_conv): Sequential(\n",
      "          (conv): Conv2d(480, 480, kernel_size=(7, 7), stride=(1, 1), padding=(3, 3), groups=480, bias=False)\n",
      "          (bn): BatchNorm2d(480, eps=1e-05, momentum=0.1, affine=True, track_running_stats=True)\n",
      "          (act): Hswish()\n",
      "        )\n",
      "        (point_linear): Sequential(\n",
      "          (conv): Conv2d(480, 80, kernel_size=(1, 1), stride=(1, 1), bias=False)\n",
      "          (bn): BatchNorm2d(80, eps=1e-05, momentum=0.1, affine=True, track_running_stats=True)\n",
      "        )\n",
      "      )\n",
      "      (shortcut): IdentityLayer()\n",
      "    )\n",
      "  )\n",
      "), StaticDenseBodyStage(\n",
      "  (layers): ModuleList(\n",
      "    (0): ResidualBlock(\n",
      "      (conv): MBConvLayer(\n",
      "        (inverted_bottleneck): Sequential(\n",
      "          (conv): Conv2d(80, 480, kernel_size=(1, 1), stride=(1, 1), bias=False)\n",
      "          (bn): BatchNorm2d(480, eps=1e-05, momentum=0.1, affine=True, track_running_stats=True)\n",
      "          (act): Hswish()\n",
      "        )\n",
      "        (depth_conv): Sequential(\n",
      "          (conv): Conv2d(480, 480, kernel_size=(7, 7), stride=(1, 1), padding=(3, 3), groups=480, bias=False)\n",
      "          (bn): BatchNorm2d(480, eps=1e-05, momentum=0.1, affine=True, track_running_stats=True)\n",
      "          (act): Hswish()\n",
      "          (se): SE(channel=480, reduction=4)\n",
      "        )\n",
      "        (point_linear): Sequential(\n",
      "          (conv): Conv2d(480, 112, kernel_size=(1, 1), stride=(1, 1), bias=False)\n",
      "          (bn): BatchNorm2d(112, eps=1e-05, momentum=0.1, affine=True, track_running_stats=True)\n",
      "        )\n",
      "      )\n",
      "    )\n",
      "    (1): ResidualBlock(\n",
      "      (conv): MBConvLayer(\n",
      "        (inverted_bottleneck): Sequential(\n",
      "          (conv): Conv2d(112, 672, kernel_size=(1, 1), stride=(1, 1), bias=False)\n",
      "          (bn): BatchNorm2d(672, eps=1e-05, momentum=0.1, affine=True, track_running_stats=True)\n",
      "          (act): Hswish()\n",
      "        )\n",
      "        (depth_conv): Sequential(\n",
      "          (conv): Conv2d(672, 672, kernel_size=(7, 7), stride=(1, 1), padding=(3, 3), groups=672, bias=False)\n",
      "          (bn): BatchNorm2d(672, eps=1e-05, momentum=0.1, affine=True, track_running_stats=True)\n",
      "          (act): Hswish()\n",
      "          (se): SE(channel=672, reduction=4)\n",
      "        )\n",
      "        (point_linear): Sequential(\n",
      "          (conv): Conv2d(672, 112, kernel_size=(1, 1), stride=(1, 1), bias=False)\n",
      "          (bn): BatchNorm2d(112, eps=1e-05, momentum=0.1, affine=True, track_running_stats=True)\n",
      "        )\n",
      "      )\n",
      "      (shortcut): IdentityLayer()\n",
      "    )\n",
      "    (2): ResidualBlock(\n",
      "      (conv): MBConvLayer(\n",
      "        (inverted_bottleneck): Sequential(\n",
      "          (conv): Conv2d(112, 672, kernel_size=(1, 1), stride=(1, 1), bias=False)\n",
      "          (bn): BatchNorm2d(672, eps=1e-05, momentum=0.1, affine=True, track_running_stats=True)\n",
      "          (act): Hswish()\n",
      "        )\n",
      "        (depth_conv): Sequential(\n",
      "          (conv): Conv2d(672, 672, kernel_size=(7, 7), stride=(1, 1), padding=(3, 3), groups=672, bias=False)\n",
      "          (bn): BatchNorm2d(672, eps=1e-05, momentum=0.1, affine=True, track_running_stats=True)\n",
      "          (act): Hswish()\n",
      "          (se): SE(channel=672, reduction=4)\n",
      "        )\n",
      "        (point_linear): Sequential(\n",
      "          (conv): Conv2d(672, 112, kernel_size=(1, 1), stride=(1, 1), bias=False)\n",
      "          (bn): BatchNorm2d(112, eps=1e-05, momentum=0.1, affine=True, track_running_stats=True)\n",
      "        )\n",
      "      )\n",
      "      (shortcut): IdentityLayer()\n",
      "    )\n",
      "    (3): ResidualBlock(\n",
      "      (conv): MBConvLayer(\n",
      "        (inverted_bottleneck): Sequential(\n",
      "          (conv): Conv2d(112, 672, kernel_size=(1, 1), stride=(1, 1), bias=False)\n",
      "          (bn): BatchNorm2d(672, eps=1e-05, momentum=0.1, affine=True, track_running_stats=True)\n",
      "          (act): Hswish()\n",
      "        )\n",
      "        (depth_conv): Sequential(\n",
      "          (conv): Conv2d(672, 672, kernel_size=(7, 7), stride=(1, 1), padding=(3, 3), groups=672, bias=False)\n",
      "          (bn): BatchNorm2d(672, eps=1e-05, momentum=0.1, affine=True, track_running_stats=True)\n",
      "          (act): Hswish()\n",
      "          (se): SE(channel=672, reduction=4)\n",
      "        )\n",
      "        (point_linear): Sequential(\n",
      "          (conv): Conv2d(672, 112, kernel_size=(1, 1), stride=(1, 1), bias=False)\n",
      "          (bn): BatchNorm2d(112, eps=1e-05, momentum=0.1, affine=True, track_running_stats=True)\n",
      "        )\n",
      "      )\n",
      "      (shortcut): IdentityLayer()\n",
      "    )\n",
      "  )\n",
      "), StaticDenseBodyStage(\n",
      "  (layers): ModuleList(\n",
      "    (0): ResidualBlock(\n",
      "      (conv): MBConvLayer(\n",
      "        (inverted_bottleneck): Sequential(\n",
      "          (conv): Conv2d(112, 672, kernel_size=(1, 1), stride=(1, 1), bias=False)\n",
      "          (bn): BatchNorm2d(672, eps=1e-05, momentum=0.1, affine=True, track_running_stats=True)\n",
      "          (act): Hswish()\n",
      "        )\n",
      "        (depth_conv): Sequential(\n",
      "          (conv): Conv2d(672, 672, kernel_size=(7, 7), stride=(2, 2), padding=(3, 3), groups=672, bias=False)\n",
      "          (bn): BatchNorm2d(672, eps=1e-05, momentum=0.1, affine=True, track_running_stats=True)\n",
      "          (act): Hswish()\n",
      "          (se): SE(channel=672, reduction=4)\n",
      "        )\n",
      "        (point_linear): Sequential(\n",
      "          (conv): Conv2d(672, 160, kernel_size=(1, 1), stride=(1, 1), bias=False)\n",
      "          (bn): BatchNorm2d(160, eps=1e-05, momentum=0.1, affine=True, track_running_stats=True)\n",
      "        )\n",
      "      )\n",
      "    )\n",
      "    (1): ResidualBlock(\n",
      "      (conv): MBConvLayer(\n",
      "        (inverted_bottleneck): Sequential(\n",
      "          (conv): Conv2d(160, 960, kernel_size=(1, 1), stride=(1, 1), bias=False)\n",
      "          (bn): BatchNorm2d(960, eps=1e-05, momentum=0.1, affine=True, track_running_stats=True)\n",
      "          (act): Hswish()\n",
      "        )\n",
      "        (depth_conv): Sequential(\n",
      "          (conv): Conv2d(960, 960, kernel_size=(7, 7), stride=(1, 1), padding=(3, 3), groups=960, bias=False)\n",
      "          (bn): BatchNorm2d(960, eps=1e-05, momentum=0.1, affine=True, track_running_stats=True)\n",
      "          (act): Hswish()\n",
      "          (se): SE(channel=960, reduction=4)\n",
      "        )\n",
      "        (point_linear): Sequential(\n",
      "          (conv): Conv2d(960, 160, kernel_size=(1, 1), stride=(1, 1), bias=False)\n",
      "          (bn): BatchNorm2d(160, eps=1e-05, momentum=0.1, affine=True, track_running_stats=True)\n",
      "        )\n",
      "      )\n",
      "      (shortcut): IdentityLayer()\n",
      "    )\n",
      "    (2): ResidualBlock(\n",
      "      (conv): MBConvLayer(\n",
      "        (inverted_bottleneck): Sequential(\n",
      "          (conv): Conv2d(160, 960, kernel_size=(1, 1), stride=(1, 1), bias=False)\n",
      "          (bn): BatchNorm2d(960, eps=1e-05, momentum=0.1, affine=True, track_running_stats=True)\n",
      "          (act): Hswish()\n",
      "        )\n",
      "        (depth_conv): Sequential(\n",
      "          (conv): Conv2d(960, 960, kernel_size=(7, 7), stride=(1, 1), padding=(3, 3), groups=960, bias=False)\n",
      "          (bn): BatchNorm2d(960, eps=1e-05, momentum=0.1, affine=True, track_running_stats=True)\n",
      "          (act): Hswish()\n",
      "          (se): SE(channel=960, reduction=4)\n",
      "        )\n",
      "        (point_linear): Sequential(\n",
      "          (conv): Conv2d(960, 160, kernel_size=(1, 1), stride=(1, 1), bias=False)\n",
      "          (bn): BatchNorm2d(160, eps=1e-05, momentum=0.1, affine=True, track_running_stats=True)\n",
      "        )\n",
      "      )\n",
      "      (shortcut): IdentityLayer()\n",
      "    )\n",
      "    (3): ResidualBlock(\n",
      "      (conv): MBConvLayer(\n",
      "        (inverted_bottleneck): Sequential(\n",
      "          (conv): Conv2d(160, 960, kernel_size=(1, 1), stride=(1, 1), bias=False)\n",
      "          (bn): BatchNorm2d(960, eps=1e-05, momentum=0.1, affine=True, track_running_stats=True)\n",
      "          (act): Hswish()\n",
      "        )\n",
      "        (depth_conv): Sequential(\n",
      "          (conv): Conv2d(960, 960, kernel_size=(7, 7), stride=(1, 1), padding=(3, 3), groups=960, bias=False)\n",
      "          (bn): BatchNorm2d(960, eps=1e-05, momentum=0.1, affine=True, track_running_stats=True)\n",
      "          (act): Hswish()\n",
      "          (se): SE(channel=960, reduction=4)\n",
      "        )\n",
      "        (point_linear): Sequential(\n",
      "          (conv): Conv2d(960, 160, kernel_size=(1, 1), stride=(1, 1), bias=False)\n",
      "          (bn): BatchNorm2d(160, eps=1e-05, momentum=0.1, affine=True, track_running_stats=True)\n",
      "        )\n",
      "      )\n",
      "      (shortcut): IdentityLayer()\n",
      "    )\n",
      "  )\n",
      ")]\n"
     ]
    }
   ],
   "source": [
    "print(dense_stages)"
   ],
   "metadata": {
    "collapsed": false,
    "pycharm": {
     "name": "#%%\n"
    }
   }
  },
  {
   "cell_type": "code",
   "execution_count": 84,
   "outputs": [
    {
     "name": "stdout",
     "output_type": "stream",
     "text": [
      "(7x7_MBConv6_RELU_O24_BN, None)\n",
      "(7x7_MBConv6_RELU_O24_BN, Identity)\n",
      "(7x7_MBConv6_RELU_O24_BN, Identity)\n",
      "(7x7_MBConv6_RELU_O24_BN, Identity)\n",
      "\n",
      "(SE_7x7_MBConv6_RELU_O40_BN, None)\n",
      "(SE_7x7_MBConv6_RELU_O40_BN, Identity)\n",
      "(SE_7x7_MBConv6_RELU_O40_BN, Identity)\n",
      "(SE_7x7_MBConv6_RELU_O40_BN, Identity)\n",
      "\n",
      "(7x7_MBConv6_H_SWISH_O80_BN, None)\n",
      "(7x7_MBConv6_H_SWISH_O80_BN, Identity)\n",
      "(7x7_MBConv6_H_SWISH_O80_BN, Identity)\n",
      "(7x7_MBConv6_H_SWISH_O80_BN, Identity)\n",
      "\n",
      "(SE_7x7_MBConv6_H_SWISH_O112_BN, None)\n",
      "(SE_7x7_MBConv6_H_SWISH_O112_BN, Identity)\n",
      "(SE_7x7_MBConv6_H_SWISH_O112_BN, Identity)\n",
      "(SE_7x7_MBConv6_H_SWISH_O112_BN, Identity)\n",
      "\n",
      "(SE_7x7_MBConv6_H_SWISH_O160_BN, None)\n",
      "(SE_7x7_MBConv6_H_SWISH_O160_BN, Identity)\n",
      "(SE_7x7_MBConv6_H_SWISH_O160_BN, Identity)\n",
      "(SE_7x7_MBConv6_H_SWISH_O160_BN, Identity)\n",
      "\n"
     ]
    }
   ],
   "source": [
    "for dense in dense_stages:\n",
    "    print(dense.module_str)"
   ],
   "metadata": {
    "collapsed": false,
    "pycharm": {
     "name": "#%%\n"
    }
   }
  },
  {
   "cell_type": "code",
   "execution_count": 85,
   "outputs": [],
   "source": [
    "second_dense = dense_stages[1]"
   ],
   "metadata": {
    "collapsed": false,
    "pycharm": {
     "name": "#%%\n"
    }
   }
  },
  {
   "cell_type": "code",
   "execution_count": 86,
   "outputs": [
    {
     "name": "stdout",
     "output_type": "stream",
     "text": [
      "{'name': 'StaticDenseBodyStage', 'layers': [{'name': 'ResidualBlock', 'conv': {'name': 'MBConvLayer', 'in_channels': 24, 'out_channels': 40, 'kernel_size': 7, 'stride': 2, 'expand_ratio': 6, 'mid_channels': None, 'act_func': 'relu', 'use_se': True, 'groups': None}, 'shortcut': None}, {'name': 'ResidualBlock', 'conv': {'name': 'MBConvLayer', 'in_channels': 40, 'out_channels': 40, 'kernel_size': 7, 'stride': 1, 'expand_ratio': 6, 'mid_channels': None, 'act_func': 'relu', 'use_se': True, 'groups': None}, 'shortcut': {'name': 'IdentityLayer', 'in_channels': 40, 'out_channels': 40, 'use_bn': False, 'act_func': None, 'dropout_rate': 0, 'ops_order': 'weight_bn_act'}}, {'name': 'ResidualBlock', 'conv': {'name': 'MBConvLayer', 'in_channels': 40, 'out_channels': 40, 'kernel_size': 7, 'stride': 1, 'expand_ratio': 6, 'mid_channels': None, 'act_func': 'relu', 'use_se': True, 'groups': None}, 'shortcut': {'name': 'IdentityLayer', 'in_channels': 40, 'out_channels': 40, 'use_bn': False, 'act_func': None, 'dropout_rate': 0, 'ops_order': 'weight_bn_act'}}, {'name': 'ResidualBlock', 'conv': {'name': 'MBConvLayer', 'in_channels': 40, 'out_channels': 40, 'kernel_size': 7, 'stride': 1, 'expand_ratio': 6, 'mid_channels': None, 'act_func': 'relu', 'use_se': True, 'groups': None}, 'shortcut': {'name': 'IdentityLayer', 'in_channels': 40, 'out_channels': 40, 'use_bn': False, 'act_func': None, 'dropout_rate': 0, 'ops_order': 'weight_bn_act'}}]}\n"
     ]
    }
   ],
   "source": [
    "print(second_dense.config)"
   ],
   "metadata": {
    "collapsed": false,
    "pycharm": {
     "name": "#%%\n"
    }
   }
  },
  {
   "cell_type": "code",
   "execution_count": 86,
   "outputs": [],
   "source": [],
   "metadata": {
    "collapsed": false,
    "pycharm": {
     "name": "#%%\n"
    }
   }
  },
  {
   "cell_type": "markdown",
   "source": [
    "# conv1x1_layers_builder"
   ],
   "metadata": {
    "collapsed": false,
    "pycharm": {
     "name": "#%% md\n"
    }
   }
  },
  {
   "cell_type": "code",
   "execution_count": 106,
   "outputs": [],
   "source": [
    "values = NetworksParameters(1.0).get_layers_values()"
   ],
   "metadata": {
    "collapsed": false,
    "pycharm": {
     "name": "#%%\n"
    }
   }
  },
  {
   "cell_type": "code",
   "execution_count": 107,
   "outputs": [],
   "source": [
    "i=2\n",
    "\n",
    "layers2 = conv1x1_layers_builder(\n",
    "                depth=depth,\n",
    "                in_channels=values[\"head_stage_channels\"][-1] if i == 0 else values[\"body_stages_channels\"][i - 1],\n",
    "                out_channels=values[\"body_stages_channels\"][i],\n",
    "                stride=values[\"body_stages_strides\"][i],\n",
    "                act=values[\"body_stages_act\"][i],\n",
    "            )"
   ],
   "metadata": {
    "collapsed": false,
    "pycharm": {
     "name": "#%%\n"
    }
   }
  },
  {
   "cell_type": "code",
   "execution_count": 108,
   "outputs": [
    {
     "name": "stdout",
     "output_type": "stream",
     "text": [
      "[ConvLayer(\n",
      "  (conv): Conv2d(40, 80, kernel_size=(1, 1), stride=(2, 2), bias=False)\n",
      "  (bn): BatchNorm2d(80, eps=1e-05, momentum=0.1, affine=True, track_running_stats=True)\n",
      "  (act): Hswish()\n",
      "),\n",
      " ConvLayer(\n",
      "  (conv): Conv2d(80, 80, kernel_size=(1, 1), stride=(1, 1), bias=False)\n",
      "  (bn): BatchNorm2d(80, eps=1e-05, momentum=0.1, affine=True, track_running_stats=True)\n",
      "  (act): Hswish()\n",
      "),\n",
      " ConvLayer(\n",
      "  (conv): Conv2d(80, 80, kernel_size=(1, 1), stride=(1, 1), bias=False)\n",
      "  (bn): BatchNorm2d(80, eps=1e-05, momentum=0.1, affine=True, track_running_stats=True)\n",
      "  (act): Hswish()\n",
      "),\n",
      " ConvLayer(\n",
      "  (conv): Conv2d(80, 80, kernel_size=(1, 1), stride=(1, 1), bias=False)\n",
      "  (bn): BatchNorm2d(80, eps=1e-05, momentum=0.1, affine=True, track_running_stats=True)\n",
      "  (act): Hswish()\n",
      ")]\n"
     ]
    }
   ],
   "source": [
    "pprint.pprint(layers2)"
   ],
   "metadata": {
    "collapsed": false,
    "pycharm": {
     "name": "#%%\n"
    }
   }
  },
  {
   "cell_type": "code",
   "execution_count": 109,
   "outputs": [
    {
     "name": "stdout",
     "output_type": "stream",
     "text": [
      "1x1_Conv_O80_H_SWISH_BN\n",
      "1x1_Conv_O80_H_SWISH_BN\n",
      "1x1_Conv_O80_H_SWISH_BN\n",
      "1x1_Conv_O80_H_SWISH_BN\n"
     ]
    }
   ],
   "source": [
    "for l in layers2:\n",
    "    print(l.module_str)"
   ],
   "metadata": {
    "collapsed": false,
    "pycharm": {
     "name": "#%%\n"
    }
   }
  },
  {
   "cell_type": "code",
   "execution_count": 110,
   "outputs": [
    {
     "name": "stdout",
     "output_type": "stream",
     "text": [
      "{'name': 'ConvLayer', 'kernel_size': 1, 'stride': 2, 'dilation': 1, 'groups': 1, 'bias': False, 'has_shuffle': False, 'use_se': False, 'in_channels': 40, 'out_channels': 80, 'use_bn': True, 'act_func': 'h_swish', 'dropout_rate': 0, 'ops_order': 'weight_bn_act'}\n",
      "{'name': 'ConvLayer', 'kernel_size': 1, 'stride': 1, 'dilation': 1, 'groups': 1, 'bias': False, 'has_shuffle': False, 'use_se': False, 'in_channels': 80, 'out_channels': 80, 'use_bn': True, 'act_func': 'h_swish', 'dropout_rate': 0, 'ops_order': 'weight_bn_act'}\n",
      "{'name': 'ConvLayer', 'kernel_size': 1, 'stride': 1, 'dilation': 1, 'groups': 1, 'bias': False, 'has_shuffle': False, 'use_se': False, 'in_channels': 80, 'out_channels': 80, 'use_bn': True, 'act_func': 'h_swish', 'dropout_rate': 0, 'ops_order': 'weight_bn_act'}\n",
      "{'name': 'ConvLayer', 'kernel_size': 1, 'stride': 1, 'dilation': 1, 'groups': 1, 'bias': False, 'has_shuffle': False, 'use_se': False, 'in_channels': 80, 'out_channels': 80, 'use_bn': True, 'act_func': 'h_swish', 'dropout_rate': 0, 'ops_order': 'weight_bn_act'}\n"
     ]
    }
   ],
   "source": [
    "for l in layers2:\n",
    "    print(l.config)"
   ],
   "metadata": {
    "collapsed": false,
    "pycharm": {
     "name": "#%%\n"
    }
   }
  },
  {
   "cell_type": "markdown",
   "source": [
    "### AttentionConv_layers_builder"
   ],
   "metadata": {
    "collapsed": false,
    "pycharm": {
     "name": "#%% md\n"
    }
   }
  },
  {
   "cell_type": "code",
   "execution_count": 114,
   "outputs": [],
   "source": [
    "i = 3\n",
    "att_conv_layers = attention_conv_layers_builder(\n",
    "    depth=depth,\n",
    "    in_channels=values[\"head_stage_channels\"][-1] if i == 0 else values[\"body_stages_channels\"][i - 1],\n",
    "    out_channels=values[\"body_stages_channels\"][i],\n",
    "    kernel_size=values[\"body_stages_channels\"][i],\n",
    "    stride=2,\n",
    ")"
   ],
   "metadata": {
    "collapsed": false,
    "pycharm": {
     "name": "#%%\n"
    }
   }
  },
  {
   "cell_type": "code",
   "execution_count": 115,
   "outputs": [
    {
     "data": {
      "text/plain": "[AttentionConv(\n   (key_conv): Conv2d(80, 112, kernel_size=(1, 1), stride=(1, 1), bias=False)\n   (query_conv): Conv2d(80, 112, kernel_size=(1, 1), stride=(1, 1), bias=False)\n   (value_conv): Conv2d(80, 112, kernel_size=(1, 1), stride=(1, 1), bias=False)\n ),\n AttentionConv(\n   (key_conv): Conv2d(112, 112, kernel_size=(1, 1), stride=(1, 1), bias=False)\n   (query_conv): Conv2d(112, 112, kernel_size=(1, 1), stride=(1, 1), bias=False)\n   (value_conv): Conv2d(112, 112, kernel_size=(1, 1), stride=(1, 1), bias=False)\n ),\n AttentionConv(\n   (key_conv): Conv2d(112, 112, kernel_size=(1, 1), stride=(1, 1), bias=False)\n   (query_conv): Conv2d(112, 112, kernel_size=(1, 1), stride=(1, 1), bias=False)\n   (value_conv): Conv2d(112, 112, kernel_size=(1, 1), stride=(1, 1), bias=False)\n ),\n AttentionConv(\n   (key_conv): Conv2d(112, 112, kernel_size=(1, 1), stride=(1, 1), bias=False)\n   (query_conv): Conv2d(112, 112, kernel_size=(1, 1), stride=(1, 1), bias=False)\n   (value_conv): Conv2d(112, 112, kernel_size=(1, 1), stride=(1, 1), bias=False)\n )]"
     },
     "execution_count": 115,
     "metadata": {},
     "output_type": "execute_result"
    }
   ],
   "source": [
    "att_conv_layers"
   ],
   "metadata": {
    "collapsed": false,
    "pycharm": {
     "name": "#%%\n"
    }
   }
  },
  {
   "cell_type": "code",
   "execution_count": 116,
   "outputs": [
    {
     "name": "stdout",
     "output_type": "stream",
     "text": [
      "ATTENTIONCONV_112\n",
      "ATTENTIONCONV_112\n",
      "ATTENTIONCONV_112\n",
      "ATTENTIONCONV_112\n"
     ]
    }
   ],
   "source": [
    "for l in att_conv_layers:\n",
    "    print(l.module_str)"
   ],
   "metadata": {
    "collapsed": false,
    "pycharm": {
     "name": "#%%\n"
    }
   }
  },
  {
   "cell_type": "code",
   "execution_count": 117,
   "outputs": [
    {
     "name": "stdout",
     "output_type": "stream",
     "text": [
      "{'name': 'AttentionConv', 'in_channels': 80, 'out_channels': 112, 'kernel_size': 7, 'stride': 2, 'groups': 8, 'bias': False}\n",
      "{'name': 'AttentionConv', 'in_channels': 112, 'out_channels': 112, 'kernel_size': 7, 'stride': 1, 'groups': 8, 'bias': False}\n",
      "{'name': 'AttentionConv', 'in_channels': 112, 'out_channels': 112, 'kernel_size': 7, 'stride': 1, 'groups': 8, 'bias': False}\n",
      "{'name': 'AttentionConv', 'in_channels': 112, 'out_channels': 112, 'kernel_size': 7, 'stride': 1, 'groups': 8, 'bias': False}\n"
     ]
    }
   ],
   "source": [
    "for l in att_conv_layers:\n",
    "    print(l.config)"
   ],
   "metadata": {
    "collapsed": false,
    "pycharm": {
     "name": "#%%\n"
    }
   }
  },
  {
   "cell_type": "markdown",
   "source": [
    "# static_parallel_body_stage_layers_builder"
   ],
   "metadata": {
    "collapsed": false,
    "pycharm": {
     "name": "#%% md\n"
    }
   }
  },
  {
   "cell_type": "code",
   "execution_count": 118,
   "outputs": [],
   "source": [
    "i = 4\n",
    "layers = static_parallel_body_stage_layers_builder(\n",
    "                depth=depth,\n",
    "                in_channels=values[\"head_stage_channels\"][-1] if i == 0 else values[\"body_stages_channels\"][i - 1],\n",
    "                out_channels=values[\"body_stages_channels\"][i],\n",
    "                kernel_size=ks,\n",
    "                expand_ratio=expand_ratio,\n",
    "                stride=values[\"body_stages_strides\"][i],\n",
    "                act=values[\"body_stages_act\"][i],\n",
    "                use_se=values[\"body_stages_use_se\"][i]\n",
    "            )"
   ],
   "metadata": {
    "collapsed": false,
    "pycharm": {
     "name": "#%%\n"
    }
   }
  },
  {
   "cell_type": "code",
   "execution_count": 119,
   "outputs": [
    {
     "data": {
      "text/plain": "4"
     },
     "execution_count": 119,
     "metadata": {},
     "output_type": "execute_result"
    }
   ],
   "source": [
    "len(layers)"
   ],
   "metadata": {
    "collapsed": false,
    "pycharm": {
     "name": "#%%\n"
    }
   }
  },
  {
   "cell_type": "code",
   "execution_count": 120,
   "outputs": [
    {
     "data": {
      "text/plain": "[ResidualBlock(\n   (conv): MBConvLayer(\n     (inverted_bottleneck): Sequential(\n       (conv): Conv2d(112, 672, kernel_size=(1, 1), stride=(1, 1), bias=False)\n       (bn): BatchNorm2d(672, eps=1e-05, momentum=0.1, affine=True, track_running_stats=True)\n       (act): Hswish()\n     )\n     (depth_conv): Sequential(\n       (conv): Conv2d(672, 672, kernel_size=(7, 7), stride=(2, 2), padding=(3, 3), groups=672, bias=False)\n       (bn): BatchNorm2d(672, eps=1e-05, momentum=0.1, affine=True, track_running_stats=True)\n       (act): Hswish()\n       (se): SE(channel=672, reduction=4)\n     )\n     (point_linear): Sequential(\n       (conv): Conv2d(672, 160, kernel_size=(1, 1), stride=(1, 1), bias=False)\n       (bn): BatchNorm2d(160, eps=1e-05, momentum=0.1, affine=True, track_running_stats=True)\n     )\n   )\n ),\n ConvLayer(\n   (conv): Conv2d(112, 160, kernel_size=(1, 1), stride=(2, 2), bias=False)\n   (bn): BatchNorm2d(160, eps=1e-05, momentum=0.1, affine=True, track_running_stats=True)\n   (act): Hswish()\n ),\n AttentionConv(\n   (key_conv): Conv2d(112, 160, kernel_size=(1, 1), stride=(1, 1), bias=False)\n   (query_conv): Conv2d(112, 160, kernel_size=(1, 1), stride=(1, 1), bias=False)\n   (value_conv): Conv2d(112, 160, kernel_size=(1, 1), stride=(1, 1), bias=False)\n )]"
     },
     "execution_count": 120,
     "metadata": {},
     "output_type": "execute_result"
    }
   ],
   "source": [
    "layers[0]"
   ],
   "metadata": {
    "collapsed": false,
    "pycharm": {
     "name": "#%%\n"
    }
   }
  },
  {
   "cell_type": "code",
   "execution_count": 124,
   "outputs": [
    {
     "name": "stdout",
     "output_type": "stream",
     "text": [
      "{'name': 'ResidualBlock', 'conv': {'name': 'MBConvLayer', 'in_channels': 112, 'out_channels': 160, 'kernel_size': 7, 'stride': 2, 'expand_ratio': 6, 'mid_channels': None, 'act_func': 'h_swish', 'use_se': True, 'groups': None}, 'shortcut': None}\n",
      "{'name': 'ConvLayer', 'kernel_size': 1, 'stride': 2, 'dilation': 1, 'groups': 1, 'bias': False, 'has_shuffle': False, 'use_se': False, 'in_channels': 112, 'out_channels': 160, 'use_bn': True, 'act_func': 'h_swish', 'dropout_rate': 0, 'ops_order': 'weight_bn_act'}\n",
      "{'name': 'AttentionConv', 'in_channels': 112, 'out_channels': 160, 'kernel_size': 7, 'stride': 2, 'groups': 8, 'bias': False}\n"
     ]
    }
   ],
   "source": [
    "for l in layers[0]:\n",
    "    print(l.config)"
   ],
   "metadata": {
    "collapsed": false,
    "pycharm": {
     "name": "#%%\n"
    }
   }
  },
  {
   "cell_type": "code",
   "execution_count": 121,
   "outputs": [
    {
     "data": {
      "text/plain": "[ResidualBlock(\n   (conv): MBConvLayer(\n     (inverted_bottleneck): Sequential(\n       (conv): Conv2d(160, 960, kernel_size=(1, 1), stride=(1, 1), bias=False)\n       (bn): BatchNorm2d(960, eps=1e-05, momentum=0.1, affine=True, track_running_stats=True)\n       (act): Hswish()\n     )\n     (depth_conv): Sequential(\n       (conv): Conv2d(960, 960, kernel_size=(7, 7), stride=(1, 1), padding=(3, 3), groups=960, bias=False)\n       (bn): BatchNorm2d(960, eps=1e-05, momentum=0.1, affine=True, track_running_stats=True)\n       (act): Hswish()\n       (se): SE(channel=960, reduction=4)\n     )\n     (point_linear): Sequential(\n       (conv): Conv2d(960, 160, kernel_size=(1, 1), stride=(1, 1), bias=False)\n       (bn): BatchNorm2d(160, eps=1e-05, momentum=0.1, affine=True, track_running_stats=True)\n     )\n   )\n   (shortcut): IdentityLayer()\n ),\n ConvLayer(\n   (conv): Conv2d(160, 160, kernel_size=(1, 1), stride=(1, 1), bias=False)\n   (bn): BatchNorm2d(160, eps=1e-05, momentum=0.1, affine=True, track_running_stats=True)\n   (act): Hswish()\n ),\n AttentionConv(\n   (key_conv): Conv2d(160, 160, kernel_size=(1, 1), stride=(1, 1), bias=False)\n   (query_conv): Conv2d(160, 160, kernel_size=(1, 1), stride=(1, 1), bias=False)\n   (value_conv): Conv2d(160, 160, kernel_size=(1, 1), stride=(1, 1), bias=False)\n )]"
     },
     "execution_count": 121,
     "metadata": {},
     "output_type": "execute_result"
    }
   ],
   "source": [
    "layers[3]"
   ],
   "metadata": {
    "collapsed": false,
    "pycharm": {
     "name": "#%%\n"
    }
   }
  },
  {
   "cell_type": "code",
   "execution_count": 125,
   "outputs": [
    {
     "name": "stdout",
     "output_type": "stream",
     "text": [
      "{'name': 'ResidualBlock', 'conv': {'name': 'MBConvLayer', 'in_channels': 160, 'out_channels': 160, 'kernel_size': 7, 'stride': 1, 'expand_ratio': 6, 'mid_channels': None, 'act_func': 'h_swish', 'use_se': True, 'groups': None}, 'shortcut': {'name': 'IdentityLayer', 'in_channels': 160, 'out_channels': 160, 'use_bn': False, 'act_func': None, 'dropout_rate': 0, 'ops_order': 'weight_bn_act'}}\n",
      "{'name': 'ConvLayer', 'kernel_size': 1, 'stride': 1, 'dilation': 1, 'groups': 1, 'bias': False, 'has_shuffle': False, 'use_se': False, 'in_channels': 160, 'out_channels': 160, 'use_bn': True, 'act_func': 'h_swish', 'dropout_rate': 0, 'ops_order': 'weight_bn_act'}\n",
      "{'name': 'AttentionConv', 'in_channels': 160, 'out_channels': 160, 'kernel_size': 7, 'stride': 1, 'groups': 8, 'bias': False}\n"
     ]
    }
   ],
   "source": [
    "for l in layers[3]:\n",
    "    print(l.config)"
   ],
   "metadata": {
    "collapsed": false,
    "pycharm": {
     "name": "#%%\n"
    }
   }
  },
  {
   "cell_type": "code",
   "execution_count": null,
   "outputs": [],
   "source": [],
   "metadata": {
    "collapsed": false,
    "pycharm": {
     "name": "#%%\n"
    }
   }
  },
  {
   "cell_type": "markdown",
   "source": [
    "# static_parallel_body_stage_builder"
   ],
   "metadata": {
    "collapsed": false,
    "pycharm": {
     "name": "#%% md\n"
    }
   }
  },
  {
   "cell_type": "code",
   "execution_count": 132,
   "outputs": [],
   "source": [
    "stages = static_parallel_body_stages_builder(1.0, ks, expand_ratio, depth)"
   ],
   "metadata": {
    "collapsed": false,
    "pycharm": {
     "name": "#%%\n"
    }
   }
  },
  {
   "cell_type": "code",
   "execution_count": 133,
   "outputs": [
    {
     "data": {
      "text/plain": "[StaticParallelBodyStage(\n   (layers_blocks): ModuleList(\n     (0): ModuleList(\n       (0): ResidualBlock(\n         (conv): MBConvLayer(\n           (inverted_bottleneck): Sequential(\n             (conv): Conv2d(16, 96, kernel_size=(1, 1), stride=(1, 1), bias=False)\n             (bn): BatchNorm2d(96, eps=1e-05, momentum=0.1, affine=True, track_running_stats=True)\n             (act): ReLU(inplace=True)\n           )\n           (depth_conv): Sequential(\n             (conv): Conv2d(96, 96, kernel_size=(7, 7), stride=(2, 2), padding=(3, 3), groups=96, bias=False)\n             (bn): BatchNorm2d(96, eps=1e-05, momentum=0.1, affine=True, track_running_stats=True)\n             (act): ReLU(inplace=True)\n           )\n           (point_linear): Sequential(\n             (conv): Conv2d(96, 24, kernel_size=(1, 1), stride=(1, 1), bias=False)\n             (bn): BatchNorm2d(24, eps=1e-05, momentum=0.1, affine=True, track_running_stats=True)\n           )\n         )\n       )\n       (1): ConvLayer(\n         (conv): Conv2d(16, 24, kernel_size=(1, 1), stride=(2, 2), bias=False)\n         (bn): BatchNorm2d(24, eps=1e-05, momentum=0.1, affine=True, track_running_stats=True)\n         (act): ReLU(inplace=True)\n       )\n       (2): AttentionConv(\n         (key_conv): Conv2d(16, 24, kernel_size=(1, 1), stride=(1, 1), bias=False)\n         (query_conv): Conv2d(16, 24, kernel_size=(1, 1), stride=(1, 1), bias=False)\n         (value_conv): Conv2d(16, 24, kernel_size=(1, 1), stride=(1, 1), bias=False)\n       )\n     )\n     (1): ModuleList(\n       (0): ResidualBlock(\n         (conv): MBConvLayer(\n           (inverted_bottleneck): Sequential(\n             (conv): Conv2d(24, 144, kernel_size=(1, 1), stride=(1, 1), bias=False)\n             (bn): BatchNorm2d(144, eps=1e-05, momentum=0.1, affine=True, track_running_stats=True)\n             (act): ReLU(inplace=True)\n           )\n           (depth_conv): Sequential(\n             (conv): Conv2d(144, 144, kernel_size=(7, 7), stride=(1, 1), padding=(3, 3), groups=144, bias=False)\n             (bn): BatchNorm2d(144, eps=1e-05, momentum=0.1, affine=True, track_running_stats=True)\n             (act): ReLU(inplace=True)\n           )\n           (point_linear): Sequential(\n             (conv): Conv2d(144, 24, kernel_size=(1, 1), stride=(1, 1), bias=False)\n             (bn): BatchNorm2d(24, eps=1e-05, momentum=0.1, affine=True, track_running_stats=True)\n           )\n         )\n         (shortcut): IdentityLayer()\n       )\n       (1): ConvLayer(\n         (conv): Conv2d(24, 24, kernel_size=(1, 1), stride=(1, 1), bias=False)\n         (bn): BatchNorm2d(24, eps=1e-05, momentum=0.1, affine=True, track_running_stats=True)\n         (act): ReLU(inplace=True)\n       )\n       (2): AttentionConv(\n         (key_conv): Conv2d(24, 24, kernel_size=(1, 1), stride=(1, 1), bias=False)\n         (query_conv): Conv2d(24, 24, kernel_size=(1, 1), stride=(1, 1), bias=False)\n         (value_conv): Conv2d(24, 24, kernel_size=(1, 1), stride=(1, 1), bias=False)\n       )\n     )\n     (2): ModuleList(\n       (0): ResidualBlock(\n         (conv): MBConvLayer(\n           (inverted_bottleneck): Sequential(\n             (conv): Conv2d(24, 144, kernel_size=(1, 1), stride=(1, 1), bias=False)\n             (bn): BatchNorm2d(144, eps=1e-05, momentum=0.1, affine=True, track_running_stats=True)\n             (act): ReLU(inplace=True)\n           )\n           (depth_conv): Sequential(\n             (conv): Conv2d(144, 144, kernel_size=(7, 7), stride=(1, 1), padding=(3, 3), groups=144, bias=False)\n             (bn): BatchNorm2d(144, eps=1e-05, momentum=0.1, affine=True, track_running_stats=True)\n             (act): ReLU(inplace=True)\n           )\n           (point_linear): Sequential(\n             (conv): Conv2d(144, 24, kernel_size=(1, 1), stride=(1, 1), bias=False)\n             (bn): BatchNorm2d(24, eps=1e-05, momentum=0.1, affine=True, track_running_stats=True)\n           )\n         )\n         (shortcut): IdentityLayer()\n       )\n       (1): ConvLayer(\n         (conv): Conv2d(24, 24, kernel_size=(1, 1), stride=(1, 1), bias=False)\n         (bn): BatchNorm2d(24, eps=1e-05, momentum=0.1, affine=True, track_running_stats=True)\n         (act): ReLU(inplace=True)\n       )\n       (2): AttentionConv(\n         (key_conv): Conv2d(24, 24, kernel_size=(1, 1), stride=(1, 1), bias=False)\n         (query_conv): Conv2d(24, 24, kernel_size=(1, 1), stride=(1, 1), bias=False)\n         (value_conv): Conv2d(24, 24, kernel_size=(1, 1), stride=(1, 1), bias=False)\n       )\n     )\n     (3): ModuleList(\n       (0): ResidualBlock(\n         (conv): MBConvLayer(\n           (inverted_bottleneck): Sequential(\n             (conv): Conv2d(24, 144, kernel_size=(1, 1), stride=(1, 1), bias=False)\n             (bn): BatchNorm2d(144, eps=1e-05, momentum=0.1, affine=True, track_running_stats=True)\n             (act): ReLU(inplace=True)\n           )\n           (depth_conv): Sequential(\n             (conv): Conv2d(144, 144, kernel_size=(7, 7), stride=(1, 1), padding=(3, 3), groups=144, bias=False)\n             (bn): BatchNorm2d(144, eps=1e-05, momentum=0.1, affine=True, track_running_stats=True)\n             (act): ReLU(inplace=True)\n           )\n           (point_linear): Sequential(\n             (conv): Conv2d(144, 24, kernel_size=(1, 1), stride=(1, 1), bias=False)\n             (bn): BatchNorm2d(24, eps=1e-05, momentum=0.1, affine=True, track_running_stats=True)\n           )\n         )\n         (shortcut): IdentityLayer()\n       )\n       (1): ConvLayer(\n         (conv): Conv2d(24, 24, kernel_size=(1, 1), stride=(1, 1), bias=False)\n         (bn): BatchNorm2d(24, eps=1e-05, momentum=0.1, affine=True, track_running_stats=True)\n         (act): ReLU(inplace=True)\n       )\n       (2): AttentionConv(\n         (key_conv): Conv2d(24, 24, kernel_size=(1, 1), stride=(1, 1), bias=False)\n         (query_conv): Conv2d(24, 24, kernel_size=(1, 1), stride=(1, 1), bias=False)\n         (value_conv): Conv2d(24, 24, kernel_size=(1, 1), stride=(1, 1), bias=False)\n       )\n     )\n   )\n ),\n StaticParallelBodyStage(\n   (layers_blocks): ModuleList(\n     (0): ModuleList(\n       (0): ResidualBlock(\n         (conv): MBConvLayer(\n           (inverted_bottleneck): Sequential(\n             (conv): Conv2d(24, 144, kernel_size=(1, 1), stride=(1, 1), bias=False)\n             (bn): BatchNorm2d(144, eps=1e-05, momentum=0.1, affine=True, track_running_stats=True)\n             (act): ReLU(inplace=True)\n           )\n           (depth_conv): Sequential(\n             (conv): Conv2d(144, 144, kernel_size=(7, 7), stride=(2, 2), padding=(3, 3), groups=144, bias=False)\n             (bn): BatchNorm2d(144, eps=1e-05, momentum=0.1, affine=True, track_running_stats=True)\n             (act): ReLU(inplace=True)\n             (se): SE(channel=144, reduction=4)\n           )\n           (point_linear): Sequential(\n             (conv): Conv2d(144, 40, kernel_size=(1, 1), stride=(1, 1), bias=False)\n             (bn): BatchNorm2d(40, eps=1e-05, momentum=0.1, affine=True, track_running_stats=True)\n           )\n         )\n       )\n       (1): ConvLayer(\n         (conv): Conv2d(24, 40, kernel_size=(1, 1), stride=(2, 2), bias=False)\n         (bn): BatchNorm2d(40, eps=1e-05, momentum=0.1, affine=True, track_running_stats=True)\n         (act): ReLU(inplace=True)\n       )\n       (2): AttentionConv(\n         (key_conv): Conv2d(24, 40, kernel_size=(1, 1), stride=(1, 1), bias=False)\n         (query_conv): Conv2d(24, 40, kernel_size=(1, 1), stride=(1, 1), bias=False)\n         (value_conv): Conv2d(24, 40, kernel_size=(1, 1), stride=(1, 1), bias=False)\n       )\n     )\n     (1): ModuleList(\n       (0): ResidualBlock(\n         (conv): MBConvLayer(\n           (inverted_bottleneck): Sequential(\n             (conv): Conv2d(40, 240, kernel_size=(1, 1), stride=(1, 1), bias=False)\n             (bn): BatchNorm2d(240, eps=1e-05, momentum=0.1, affine=True, track_running_stats=True)\n             (act): ReLU(inplace=True)\n           )\n           (depth_conv): Sequential(\n             (conv): Conv2d(240, 240, kernel_size=(7, 7), stride=(1, 1), padding=(3, 3), groups=240, bias=False)\n             (bn): BatchNorm2d(240, eps=1e-05, momentum=0.1, affine=True, track_running_stats=True)\n             (act): ReLU(inplace=True)\n             (se): SE(channel=240, reduction=4)\n           )\n           (point_linear): Sequential(\n             (conv): Conv2d(240, 40, kernel_size=(1, 1), stride=(1, 1), bias=False)\n             (bn): BatchNorm2d(40, eps=1e-05, momentum=0.1, affine=True, track_running_stats=True)\n           )\n         )\n         (shortcut): IdentityLayer()\n       )\n       (1): ConvLayer(\n         (conv): Conv2d(40, 40, kernel_size=(1, 1), stride=(1, 1), bias=False)\n         (bn): BatchNorm2d(40, eps=1e-05, momentum=0.1, affine=True, track_running_stats=True)\n         (act): ReLU(inplace=True)\n       )\n       (2): AttentionConv(\n         (key_conv): Conv2d(40, 40, kernel_size=(1, 1), stride=(1, 1), bias=False)\n         (query_conv): Conv2d(40, 40, kernel_size=(1, 1), stride=(1, 1), bias=False)\n         (value_conv): Conv2d(40, 40, kernel_size=(1, 1), stride=(1, 1), bias=False)\n       )\n     )\n     (2): ModuleList(\n       (0): ResidualBlock(\n         (conv): MBConvLayer(\n           (inverted_bottleneck): Sequential(\n             (conv): Conv2d(40, 240, kernel_size=(1, 1), stride=(1, 1), bias=False)\n             (bn): BatchNorm2d(240, eps=1e-05, momentum=0.1, affine=True, track_running_stats=True)\n             (act): ReLU(inplace=True)\n           )\n           (depth_conv): Sequential(\n             (conv): Conv2d(240, 240, kernel_size=(7, 7), stride=(1, 1), padding=(3, 3), groups=240, bias=False)\n             (bn): BatchNorm2d(240, eps=1e-05, momentum=0.1, affine=True, track_running_stats=True)\n             (act): ReLU(inplace=True)\n             (se): SE(channel=240, reduction=4)\n           )\n           (point_linear): Sequential(\n             (conv): Conv2d(240, 40, kernel_size=(1, 1), stride=(1, 1), bias=False)\n             (bn): BatchNorm2d(40, eps=1e-05, momentum=0.1, affine=True, track_running_stats=True)\n           )\n         )\n         (shortcut): IdentityLayer()\n       )\n       (1): ConvLayer(\n         (conv): Conv2d(40, 40, kernel_size=(1, 1), stride=(1, 1), bias=False)\n         (bn): BatchNorm2d(40, eps=1e-05, momentum=0.1, affine=True, track_running_stats=True)\n         (act): ReLU(inplace=True)\n       )\n       (2): AttentionConv(\n         (key_conv): Conv2d(40, 40, kernel_size=(1, 1), stride=(1, 1), bias=False)\n         (query_conv): Conv2d(40, 40, kernel_size=(1, 1), stride=(1, 1), bias=False)\n         (value_conv): Conv2d(40, 40, kernel_size=(1, 1), stride=(1, 1), bias=False)\n       )\n     )\n     (3): ModuleList(\n       (0): ResidualBlock(\n         (conv): MBConvLayer(\n           (inverted_bottleneck): Sequential(\n             (conv): Conv2d(40, 240, kernel_size=(1, 1), stride=(1, 1), bias=False)\n             (bn): BatchNorm2d(240, eps=1e-05, momentum=0.1, affine=True, track_running_stats=True)\n             (act): ReLU(inplace=True)\n           )\n           (depth_conv): Sequential(\n             (conv): Conv2d(240, 240, kernel_size=(7, 7), stride=(1, 1), padding=(3, 3), groups=240, bias=False)\n             (bn): BatchNorm2d(240, eps=1e-05, momentum=0.1, affine=True, track_running_stats=True)\n             (act): ReLU(inplace=True)\n             (se): SE(channel=240, reduction=4)\n           )\n           (point_linear): Sequential(\n             (conv): Conv2d(240, 40, kernel_size=(1, 1), stride=(1, 1), bias=False)\n             (bn): BatchNorm2d(40, eps=1e-05, momentum=0.1, affine=True, track_running_stats=True)\n           )\n         )\n         (shortcut): IdentityLayer()\n       )\n       (1): ConvLayer(\n         (conv): Conv2d(40, 40, kernel_size=(1, 1), stride=(1, 1), bias=False)\n         (bn): BatchNorm2d(40, eps=1e-05, momentum=0.1, affine=True, track_running_stats=True)\n         (act): ReLU(inplace=True)\n       )\n       (2): AttentionConv(\n         (key_conv): Conv2d(40, 40, kernel_size=(1, 1), stride=(1, 1), bias=False)\n         (query_conv): Conv2d(40, 40, kernel_size=(1, 1), stride=(1, 1), bias=False)\n         (value_conv): Conv2d(40, 40, kernel_size=(1, 1), stride=(1, 1), bias=False)\n       )\n     )\n   )\n ),\n StaticParallelBodyStage(\n   (layers_blocks): ModuleList(\n     (0): ModuleList(\n       (0): ResidualBlock(\n         (conv): MBConvLayer(\n           (inverted_bottleneck): Sequential(\n             (conv): Conv2d(40, 240, kernel_size=(1, 1), stride=(1, 1), bias=False)\n             (bn): BatchNorm2d(240, eps=1e-05, momentum=0.1, affine=True, track_running_stats=True)\n             (act): Hswish()\n           )\n           (depth_conv): Sequential(\n             (conv): Conv2d(240, 240, kernel_size=(7, 7), stride=(2, 2), padding=(3, 3), groups=240, bias=False)\n             (bn): BatchNorm2d(240, eps=1e-05, momentum=0.1, affine=True, track_running_stats=True)\n             (act): Hswish()\n           )\n           (point_linear): Sequential(\n             (conv): Conv2d(240, 80, kernel_size=(1, 1), stride=(1, 1), bias=False)\n             (bn): BatchNorm2d(80, eps=1e-05, momentum=0.1, affine=True, track_running_stats=True)\n           )\n         )\n       )\n       (1): ConvLayer(\n         (conv): Conv2d(40, 80, kernel_size=(1, 1), stride=(2, 2), bias=False)\n         (bn): BatchNorm2d(80, eps=1e-05, momentum=0.1, affine=True, track_running_stats=True)\n         (act): Hswish()\n       )\n       (2): AttentionConv(\n         (key_conv): Conv2d(40, 80, kernel_size=(1, 1), stride=(1, 1), bias=False)\n         (query_conv): Conv2d(40, 80, kernel_size=(1, 1), stride=(1, 1), bias=False)\n         (value_conv): Conv2d(40, 80, kernel_size=(1, 1), stride=(1, 1), bias=False)\n       )\n     )\n     (1): ModuleList(\n       (0): ResidualBlock(\n         (conv): MBConvLayer(\n           (inverted_bottleneck): Sequential(\n             (conv): Conv2d(80, 480, kernel_size=(1, 1), stride=(1, 1), bias=False)\n             (bn): BatchNorm2d(480, eps=1e-05, momentum=0.1, affine=True, track_running_stats=True)\n             (act): Hswish()\n           )\n           (depth_conv): Sequential(\n             (conv): Conv2d(480, 480, kernel_size=(7, 7), stride=(1, 1), padding=(3, 3), groups=480, bias=False)\n             (bn): BatchNorm2d(480, eps=1e-05, momentum=0.1, affine=True, track_running_stats=True)\n             (act): Hswish()\n           )\n           (point_linear): Sequential(\n             (conv): Conv2d(480, 80, kernel_size=(1, 1), stride=(1, 1), bias=False)\n             (bn): BatchNorm2d(80, eps=1e-05, momentum=0.1, affine=True, track_running_stats=True)\n           )\n         )\n         (shortcut): IdentityLayer()\n       )\n       (1): ConvLayer(\n         (conv): Conv2d(80, 80, kernel_size=(1, 1), stride=(1, 1), bias=False)\n         (bn): BatchNorm2d(80, eps=1e-05, momentum=0.1, affine=True, track_running_stats=True)\n         (act): Hswish()\n       )\n       (2): AttentionConv(\n         (key_conv): Conv2d(80, 80, kernel_size=(1, 1), stride=(1, 1), bias=False)\n         (query_conv): Conv2d(80, 80, kernel_size=(1, 1), stride=(1, 1), bias=False)\n         (value_conv): Conv2d(80, 80, kernel_size=(1, 1), stride=(1, 1), bias=False)\n       )\n     )\n     (2): ModuleList(\n       (0): ResidualBlock(\n         (conv): MBConvLayer(\n           (inverted_bottleneck): Sequential(\n             (conv): Conv2d(80, 480, kernel_size=(1, 1), stride=(1, 1), bias=False)\n             (bn): BatchNorm2d(480, eps=1e-05, momentum=0.1, affine=True, track_running_stats=True)\n             (act): Hswish()\n           )\n           (depth_conv): Sequential(\n             (conv): Conv2d(480, 480, kernel_size=(7, 7), stride=(1, 1), padding=(3, 3), groups=480, bias=False)\n             (bn): BatchNorm2d(480, eps=1e-05, momentum=0.1, affine=True, track_running_stats=True)\n             (act): Hswish()\n           )\n           (point_linear): Sequential(\n             (conv): Conv2d(480, 80, kernel_size=(1, 1), stride=(1, 1), bias=False)\n             (bn): BatchNorm2d(80, eps=1e-05, momentum=0.1, affine=True, track_running_stats=True)\n           )\n         )\n         (shortcut): IdentityLayer()\n       )\n       (1): ConvLayer(\n         (conv): Conv2d(80, 80, kernel_size=(1, 1), stride=(1, 1), bias=False)\n         (bn): BatchNorm2d(80, eps=1e-05, momentum=0.1, affine=True, track_running_stats=True)\n         (act): Hswish()\n       )\n       (2): AttentionConv(\n         (key_conv): Conv2d(80, 80, kernel_size=(1, 1), stride=(1, 1), bias=False)\n         (query_conv): Conv2d(80, 80, kernel_size=(1, 1), stride=(1, 1), bias=False)\n         (value_conv): Conv2d(80, 80, kernel_size=(1, 1), stride=(1, 1), bias=False)\n       )\n     )\n     (3): ModuleList(\n       (0): ResidualBlock(\n         (conv): MBConvLayer(\n           (inverted_bottleneck): Sequential(\n             (conv): Conv2d(80, 480, kernel_size=(1, 1), stride=(1, 1), bias=False)\n             (bn): BatchNorm2d(480, eps=1e-05, momentum=0.1, affine=True, track_running_stats=True)\n             (act): Hswish()\n           )\n           (depth_conv): Sequential(\n             (conv): Conv2d(480, 480, kernel_size=(7, 7), stride=(1, 1), padding=(3, 3), groups=480, bias=False)\n             (bn): BatchNorm2d(480, eps=1e-05, momentum=0.1, affine=True, track_running_stats=True)\n             (act): Hswish()\n           )\n           (point_linear): Sequential(\n             (conv): Conv2d(480, 80, kernel_size=(1, 1), stride=(1, 1), bias=False)\n             (bn): BatchNorm2d(80, eps=1e-05, momentum=0.1, affine=True, track_running_stats=True)\n           )\n         )\n         (shortcut): IdentityLayer()\n       )\n       (1): ConvLayer(\n         (conv): Conv2d(80, 80, kernel_size=(1, 1), stride=(1, 1), bias=False)\n         (bn): BatchNorm2d(80, eps=1e-05, momentum=0.1, affine=True, track_running_stats=True)\n         (act): Hswish()\n       )\n       (2): AttentionConv(\n         (key_conv): Conv2d(80, 80, kernel_size=(1, 1), stride=(1, 1), bias=False)\n         (query_conv): Conv2d(80, 80, kernel_size=(1, 1), stride=(1, 1), bias=False)\n         (value_conv): Conv2d(80, 80, kernel_size=(1, 1), stride=(1, 1), bias=False)\n       )\n     )\n   )\n ),\n StaticParallelBodyStage(\n   (layers_blocks): ModuleList(\n     (0): ModuleList(\n       (0): ResidualBlock(\n         (conv): MBConvLayer(\n           (inverted_bottleneck): Sequential(\n             (conv): Conv2d(80, 480, kernel_size=(1, 1), stride=(1, 1), bias=False)\n             (bn): BatchNorm2d(480, eps=1e-05, momentum=0.1, affine=True, track_running_stats=True)\n             (act): Hswish()\n           )\n           (depth_conv): Sequential(\n             (conv): Conv2d(480, 480, kernel_size=(7, 7), stride=(1, 1), padding=(3, 3), groups=480, bias=False)\n             (bn): BatchNorm2d(480, eps=1e-05, momentum=0.1, affine=True, track_running_stats=True)\n             (act): Hswish()\n             (se): SE(channel=480, reduction=4)\n           )\n           (point_linear): Sequential(\n             (conv): Conv2d(480, 112, kernel_size=(1, 1), stride=(1, 1), bias=False)\n             (bn): BatchNorm2d(112, eps=1e-05, momentum=0.1, affine=True, track_running_stats=True)\n           )\n         )\n       )\n       (1): ConvLayer(\n         (conv): Conv2d(80, 112, kernel_size=(1, 1), stride=(1, 1), bias=False)\n         (bn): BatchNorm2d(112, eps=1e-05, momentum=0.1, affine=True, track_running_stats=True)\n         (act): Hswish()\n       )\n       (2): AttentionConv(\n         (key_conv): Conv2d(80, 112, kernel_size=(1, 1), stride=(1, 1), bias=False)\n         (query_conv): Conv2d(80, 112, kernel_size=(1, 1), stride=(1, 1), bias=False)\n         (value_conv): Conv2d(80, 112, kernel_size=(1, 1), stride=(1, 1), bias=False)\n       )\n     )\n     (1): ModuleList(\n       (0): ResidualBlock(\n         (conv): MBConvLayer(\n           (inverted_bottleneck): Sequential(\n             (conv): Conv2d(112, 672, kernel_size=(1, 1), stride=(1, 1), bias=False)\n             (bn): BatchNorm2d(672, eps=1e-05, momentum=0.1, affine=True, track_running_stats=True)\n             (act): Hswish()\n           )\n           (depth_conv): Sequential(\n             (conv): Conv2d(672, 672, kernel_size=(7, 7), stride=(1, 1), padding=(3, 3), groups=672, bias=False)\n             (bn): BatchNorm2d(672, eps=1e-05, momentum=0.1, affine=True, track_running_stats=True)\n             (act): Hswish()\n             (se): SE(channel=672, reduction=4)\n           )\n           (point_linear): Sequential(\n             (conv): Conv2d(672, 112, kernel_size=(1, 1), stride=(1, 1), bias=False)\n             (bn): BatchNorm2d(112, eps=1e-05, momentum=0.1, affine=True, track_running_stats=True)\n           )\n         )\n         (shortcut): IdentityLayer()\n       )\n       (1): ConvLayer(\n         (conv): Conv2d(112, 112, kernel_size=(1, 1), stride=(1, 1), bias=False)\n         (bn): BatchNorm2d(112, eps=1e-05, momentum=0.1, affine=True, track_running_stats=True)\n         (act): Hswish()\n       )\n       (2): AttentionConv(\n         (key_conv): Conv2d(112, 112, kernel_size=(1, 1), stride=(1, 1), bias=False)\n         (query_conv): Conv2d(112, 112, kernel_size=(1, 1), stride=(1, 1), bias=False)\n         (value_conv): Conv2d(112, 112, kernel_size=(1, 1), stride=(1, 1), bias=False)\n       )\n     )\n     (2): ModuleList(\n       (0): ResidualBlock(\n         (conv): MBConvLayer(\n           (inverted_bottleneck): Sequential(\n             (conv): Conv2d(112, 672, kernel_size=(1, 1), stride=(1, 1), bias=False)\n             (bn): BatchNorm2d(672, eps=1e-05, momentum=0.1, affine=True, track_running_stats=True)\n             (act): Hswish()\n           )\n           (depth_conv): Sequential(\n             (conv): Conv2d(672, 672, kernel_size=(7, 7), stride=(1, 1), padding=(3, 3), groups=672, bias=False)\n             (bn): BatchNorm2d(672, eps=1e-05, momentum=0.1, affine=True, track_running_stats=True)\n             (act): Hswish()\n             (se): SE(channel=672, reduction=4)\n           )\n           (point_linear): Sequential(\n             (conv): Conv2d(672, 112, kernel_size=(1, 1), stride=(1, 1), bias=False)\n             (bn): BatchNorm2d(112, eps=1e-05, momentum=0.1, affine=True, track_running_stats=True)\n           )\n         )\n         (shortcut): IdentityLayer()\n       )\n       (1): ConvLayer(\n         (conv): Conv2d(112, 112, kernel_size=(1, 1), stride=(1, 1), bias=False)\n         (bn): BatchNorm2d(112, eps=1e-05, momentum=0.1, affine=True, track_running_stats=True)\n         (act): Hswish()\n       )\n       (2): AttentionConv(\n         (key_conv): Conv2d(112, 112, kernel_size=(1, 1), stride=(1, 1), bias=False)\n         (query_conv): Conv2d(112, 112, kernel_size=(1, 1), stride=(1, 1), bias=False)\n         (value_conv): Conv2d(112, 112, kernel_size=(1, 1), stride=(1, 1), bias=False)\n       )\n     )\n     (3): ModuleList(\n       (0): ResidualBlock(\n         (conv): MBConvLayer(\n           (inverted_bottleneck): Sequential(\n             (conv): Conv2d(112, 672, kernel_size=(1, 1), stride=(1, 1), bias=False)\n             (bn): BatchNorm2d(672, eps=1e-05, momentum=0.1, affine=True, track_running_stats=True)\n             (act): Hswish()\n           )\n           (depth_conv): Sequential(\n             (conv): Conv2d(672, 672, kernel_size=(7, 7), stride=(1, 1), padding=(3, 3), groups=672, bias=False)\n             (bn): BatchNorm2d(672, eps=1e-05, momentum=0.1, affine=True, track_running_stats=True)\n             (act): Hswish()\n             (se): SE(channel=672, reduction=4)\n           )\n           (point_linear): Sequential(\n             (conv): Conv2d(672, 112, kernel_size=(1, 1), stride=(1, 1), bias=False)\n             (bn): BatchNorm2d(112, eps=1e-05, momentum=0.1, affine=True, track_running_stats=True)\n           )\n         )\n         (shortcut): IdentityLayer()\n       )\n       (1): ConvLayer(\n         (conv): Conv2d(112, 112, kernel_size=(1, 1), stride=(1, 1), bias=False)\n         (bn): BatchNorm2d(112, eps=1e-05, momentum=0.1, affine=True, track_running_stats=True)\n         (act): Hswish()\n       )\n       (2): AttentionConv(\n         (key_conv): Conv2d(112, 112, kernel_size=(1, 1), stride=(1, 1), bias=False)\n         (query_conv): Conv2d(112, 112, kernel_size=(1, 1), stride=(1, 1), bias=False)\n         (value_conv): Conv2d(112, 112, kernel_size=(1, 1), stride=(1, 1), bias=False)\n       )\n     )\n   )\n ),\n StaticParallelBodyStage(\n   (layers_blocks): ModuleList(\n     (0): ModuleList(\n       (0): ResidualBlock(\n         (conv): MBConvLayer(\n           (inverted_bottleneck): Sequential(\n             (conv): Conv2d(112, 672, kernel_size=(1, 1), stride=(1, 1), bias=False)\n             (bn): BatchNorm2d(672, eps=1e-05, momentum=0.1, affine=True, track_running_stats=True)\n             (act): Hswish()\n           )\n           (depth_conv): Sequential(\n             (conv): Conv2d(672, 672, kernel_size=(7, 7), stride=(2, 2), padding=(3, 3), groups=672, bias=False)\n             (bn): BatchNorm2d(672, eps=1e-05, momentum=0.1, affine=True, track_running_stats=True)\n             (act): Hswish()\n             (se): SE(channel=672, reduction=4)\n           )\n           (point_linear): Sequential(\n             (conv): Conv2d(672, 160, kernel_size=(1, 1), stride=(1, 1), bias=False)\n             (bn): BatchNorm2d(160, eps=1e-05, momentum=0.1, affine=True, track_running_stats=True)\n           )\n         )\n       )\n       (1): ConvLayer(\n         (conv): Conv2d(112, 160, kernel_size=(1, 1), stride=(2, 2), bias=False)\n         (bn): BatchNorm2d(160, eps=1e-05, momentum=0.1, affine=True, track_running_stats=True)\n         (act): Hswish()\n       )\n       (2): AttentionConv(\n         (key_conv): Conv2d(112, 160, kernel_size=(1, 1), stride=(1, 1), bias=False)\n         (query_conv): Conv2d(112, 160, kernel_size=(1, 1), stride=(1, 1), bias=False)\n         (value_conv): Conv2d(112, 160, kernel_size=(1, 1), stride=(1, 1), bias=False)\n       )\n     )\n     (1): ModuleList(\n       (0): ResidualBlock(\n         (conv): MBConvLayer(\n           (inverted_bottleneck): Sequential(\n             (conv): Conv2d(160, 960, kernel_size=(1, 1), stride=(1, 1), bias=False)\n             (bn): BatchNorm2d(960, eps=1e-05, momentum=0.1, affine=True, track_running_stats=True)\n             (act): Hswish()\n           )\n           (depth_conv): Sequential(\n             (conv): Conv2d(960, 960, kernel_size=(7, 7), stride=(1, 1), padding=(3, 3), groups=960, bias=False)\n             (bn): BatchNorm2d(960, eps=1e-05, momentum=0.1, affine=True, track_running_stats=True)\n             (act): Hswish()\n             (se): SE(channel=960, reduction=4)\n           )\n           (point_linear): Sequential(\n             (conv): Conv2d(960, 160, kernel_size=(1, 1), stride=(1, 1), bias=False)\n             (bn): BatchNorm2d(160, eps=1e-05, momentum=0.1, affine=True, track_running_stats=True)\n           )\n         )\n         (shortcut): IdentityLayer()\n       )\n       (1): ConvLayer(\n         (conv): Conv2d(160, 160, kernel_size=(1, 1), stride=(1, 1), bias=False)\n         (bn): BatchNorm2d(160, eps=1e-05, momentum=0.1, affine=True, track_running_stats=True)\n         (act): Hswish()\n       )\n       (2): AttentionConv(\n         (key_conv): Conv2d(160, 160, kernel_size=(1, 1), stride=(1, 1), bias=False)\n         (query_conv): Conv2d(160, 160, kernel_size=(1, 1), stride=(1, 1), bias=False)\n         (value_conv): Conv2d(160, 160, kernel_size=(1, 1), stride=(1, 1), bias=False)\n       )\n     )\n     (2): ModuleList(\n       (0): ResidualBlock(\n         (conv): MBConvLayer(\n           (inverted_bottleneck): Sequential(\n             (conv): Conv2d(160, 960, kernel_size=(1, 1), stride=(1, 1), bias=False)\n             (bn): BatchNorm2d(960, eps=1e-05, momentum=0.1, affine=True, track_running_stats=True)\n             (act): Hswish()\n           )\n           (depth_conv): Sequential(\n             (conv): Conv2d(960, 960, kernel_size=(7, 7), stride=(1, 1), padding=(3, 3), groups=960, bias=False)\n             (bn): BatchNorm2d(960, eps=1e-05, momentum=0.1, affine=True, track_running_stats=True)\n             (act): Hswish()\n             (se): SE(channel=960, reduction=4)\n           )\n           (point_linear): Sequential(\n             (conv): Conv2d(960, 160, kernel_size=(1, 1), stride=(1, 1), bias=False)\n             (bn): BatchNorm2d(160, eps=1e-05, momentum=0.1, affine=True, track_running_stats=True)\n           )\n         )\n         (shortcut): IdentityLayer()\n       )\n       (1): ConvLayer(\n         (conv): Conv2d(160, 160, kernel_size=(1, 1), stride=(1, 1), bias=False)\n         (bn): BatchNorm2d(160, eps=1e-05, momentum=0.1, affine=True, track_running_stats=True)\n         (act): Hswish()\n       )\n       (2): AttentionConv(\n         (key_conv): Conv2d(160, 160, kernel_size=(1, 1), stride=(1, 1), bias=False)\n         (query_conv): Conv2d(160, 160, kernel_size=(1, 1), stride=(1, 1), bias=False)\n         (value_conv): Conv2d(160, 160, kernel_size=(1, 1), stride=(1, 1), bias=False)\n       )\n     )\n     (3): ModuleList(\n       (0): ResidualBlock(\n         (conv): MBConvLayer(\n           (inverted_bottleneck): Sequential(\n             (conv): Conv2d(160, 960, kernel_size=(1, 1), stride=(1, 1), bias=False)\n             (bn): BatchNorm2d(960, eps=1e-05, momentum=0.1, affine=True, track_running_stats=True)\n             (act): Hswish()\n           )\n           (depth_conv): Sequential(\n             (conv): Conv2d(960, 960, kernel_size=(7, 7), stride=(1, 1), padding=(3, 3), groups=960, bias=False)\n             (bn): BatchNorm2d(960, eps=1e-05, momentum=0.1, affine=True, track_running_stats=True)\n             (act): Hswish()\n             (se): SE(channel=960, reduction=4)\n           )\n           (point_linear): Sequential(\n             (conv): Conv2d(960, 160, kernel_size=(1, 1), stride=(1, 1), bias=False)\n             (bn): BatchNorm2d(160, eps=1e-05, momentum=0.1, affine=True, track_running_stats=True)\n           )\n         )\n         (shortcut): IdentityLayer()\n       )\n       (1): ConvLayer(\n         (conv): Conv2d(160, 160, kernel_size=(1, 1), stride=(1, 1), bias=False)\n         (bn): BatchNorm2d(160, eps=1e-05, momentum=0.1, affine=True, track_running_stats=True)\n         (act): Hswish()\n       )\n       (2): AttentionConv(\n         (key_conv): Conv2d(160, 160, kernel_size=(1, 1), stride=(1, 1), bias=False)\n         (query_conv): Conv2d(160, 160, kernel_size=(1, 1), stride=(1, 1), bias=False)\n         (value_conv): Conv2d(160, 160, kernel_size=(1, 1), stride=(1, 1), bias=False)\n       )\n     )\n   )\n )]"
     },
     "execution_count": 133,
     "metadata": {},
     "output_type": "execute_result"
    }
   ],
   "source": [
    "stages"
   ],
   "metadata": {
    "collapsed": false,
    "pycharm": {
     "name": "#%%\n"
    }
   }
  },
  {
   "cell_type": "code",
   "execution_count": 134,
   "outputs": [],
   "source": [
    "stage=stages[1]"
   ],
   "metadata": {
    "collapsed": false,
    "pycharm": {
     "name": "#%%\n"
    }
   }
  },
  {
   "cell_type": "code",
   "execution_count": 147,
   "outputs": [
    {
     "data": {
      "text/plain": "StaticParallelBodyStage(\n  (layers_blocks): ModuleList(\n    (0): ModuleList(\n      (0): ResidualBlock(\n        (conv): MBConvLayer(\n          (inverted_bottleneck): Sequential(\n            (conv): Conv2d(24, 144, kernel_size=(1, 1), stride=(1, 1), bias=False)\n            (bn): BatchNorm2d(144, eps=1e-05, momentum=0.1, affine=True, track_running_stats=True)\n            (act): ReLU(inplace=True)\n          )\n          (depth_conv): Sequential(\n            (conv): Conv2d(144, 144, kernel_size=(7, 7), stride=(2, 2), padding=(3, 3), groups=144, bias=False)\n            (bn): BatchNorm2d(144, eps=1e-05, momentum=0.1, affine=True, track_running_stats=True)\n            (act): ReLU(inplace=True)\n            (se): SE(channel=144, reduction=4)\n          )\n          (point_linear): Sequential(\n            (conv): Conv2d(144, 40, kernel_size=(1, 1), stride=(1, 1), bias=False)\n            (bn): BatchNorm2d(40, eps=1e-05, momentum=0.1, affine=True, track_running_stats=True)\n          )\n        )\n      )\n      (1): ConvLayer(\n        (conv): Conv2d(24, 40, kernel_size=(1, 1), stride=(2, 2), bias=False)\n        (bn): BatchNorm2d(40, eps=1e-05, momentum=0.1, affine=True, track_running_stats=True)\n        (act): ReLU(inplace=True)\n      )\n      (2): AttentionConv(\n        (key_conv): Conv2d(24, 40, kernel_size=(1, 1), stride=(1, 1), bias=False)\n        (query_conv): Conv2d(24, 40, kernel_size=(1, 1), stride=(1, 1), bias=False)\n        (value_conv): Conv2d(24, 40, kernel_size=(1, 1), stride=(1, 1), bias=False)\n      )\n    )\n    (1): ModuleList(\n      (0): ResidualBlock(\n        (conv): MBConvLayer(\n          (inverted_bottleneck): Sequential(\n            (conv): Conv2d(40, 240, kernel_size=(1, 1), stride=(1, 1), bias=False)\n            (bn): BatchNorm2d(240, eps=1e-05, momentum=0.1, affine=True, track_running_stats=True)\n            (act): ReLU(inplace=True)\n          )\n          (depth_conv): Sequential(\n            (conv): Conv2d(240, 240, kernel_size=(7, 7), stride=(1, 1), padding=(3, 3), groups=240, bias=False)\n            (bn): BatchNorm2d(240, eps=1e-05, momentum=0.1, affine=True, track_running_stats=True)\n            (act): ReLU(inplace=True)\n            (se): SE(channel=240, reduction=4)\n          )\n          (point_linear): Sequential(\n            (conv): Conv2d(240, 40, kernel_size=(1, 1), stride=(1, 1), bias=False)\n            (bn): BatchNorm2d(40, eps=1e-05, momentum=0.1, affine=True, track_running_stats=True)\n          )\n        )\n        (shortcut): IdentityLayer()\n      )\n      (1): ConvLayer(\n        (conv): Conv2d(40, 40, kernel_size=(1, 1), stride=(1, 1), bias=False)\n        (bn): BatchNorm2d(40, eps=1e-05, momentum=0.1, affine=True, track_running_stats=True)\n        (act): ReLU(inplace=True)\n      )\n      (2): AttentionConv(\n        (key_conv): Conv2d(40, 40, kernel_size=(1, 1), stride=(1, 1), bias=False)\n        (query_conv): Conv2d(40, 40, kernel_size=(1, 1), stride=(1, 1), bias=False)\n        (value_conv): Conv2d(40, 40, kernel_size=(1, 1), stride=(1, 1), bias=False)\n      )\n    )\n    (2): ModuleList(\n      (0): ResidualBlock(\n        (conv): MBConvLayer(\n          (inverted_bottleneck): Sequential(\n            (conv): Conv2d(40, 240, kernel_size=(1, 1), stride=(1, 1), bias=False)\n            (bn): BatchNorm2d(240, eps=1e-05, momentum=0.1, affine=True, track_running_stats=True)\n            (act): ReLU(inplace=True)\n          )\n          (depth_conv): Sequential(\n            (conv): Conv2d(240, 240, kernel_size=(7, 7), stride=(1, 1), padding=(3, 3), groups=240, bias=False)\n            (bn): BatchNorm2d(240, eps=1e-05, momentum=0.1, affine=True, track_running_stats=True)\n            (act): ReLU(inplace=True)\n            (se): SE(channel=240, reduction=4)\n          )\n          (point_linear): Sequential(\n            (conv): Conv2d(240, 40, kernel_size=(1, 1), stride=(1, 1), bias=False)\n            (bn): BatchNorm2d(40, eps=1e-05, momentum=0.1, affine=True, track_running_stats=True)\n          )\n        )\n        (shortcut): IdentityLayer()\n      )\n      (1): ConvLayer(\n        (conv): Conv2d(40, 40, kernel_size=(1, 1), stride=(1, 1), bias=False)\n        (bn): BatchNorm2d(40, eps=1e-05, momentum=0.1, affine=True, track_running_stats=True)\n        (act): ReLU(inplace=True)\n      )\n      (2): AttentionConv(\n        (key_conv): Conv2d(40, 40, kernel_size=(1, 1), stride=(1, 1), bias=False)\n        (query_conv): Conv2d(40, 40, kernel_size=(1, 1), stride=(1, 1), bias=False)\n        (value_conv): Conv2d(40, 40, kernel_size=(1, 1), stride=(1, 1), bias=False)\n      )\n    )\n    (3): ModuleList(\n      (0): ResidualBlock(\n        (conv): MBConvLayer(\n          (inverted_bottleneck): Sequential(\n            (conv): Conv2d(40, 240, kernel_size=(1, 1), stride=(1, 1), bias=False)\n            (bn): BatchNorm2d(240, eps=1e-05, momentum=0.1, affine=True, track_running_stats=True)\n            (act): ReLU(inplace=True)\n          )\n          (depth_conv): Sequential(\n            (conv): Conv2d(240, 240, kernel_size=(7, 7), stride=(1, 1), padding=(3, 3), groups=240, bias=False)\n            (bn): BatchNorm2d(240, eps=1e-05, momentum=0.1, affine=True, track_running_stats=True)\n            (act): ReLU(inplace=True)\n            (se): SE(channel=240, reduction=4)\n          )\n          (point_linear): Sequential(\n            (conv): Conv2d(240, 40, kernel_size=(1, 1), stride=(1, 1), bias=False)\n            (bn): BatchNorm2d(40, eps=1e-05, momentum=0.1, affine=True, track_running_stats=True)\n          )\n        )\n        (shortcut): IdentityLayer()\n      )\n      (1): ConvLayer(\n        (conv): Conv2d(40, 40, kernel_size=(1, 1), stride=(1, 1), bias=False)\n        (bn): BatchNorm2d(40, eps=1e-05, momentum=0.1, affine=True, track_running_stats=True)\n        (act): ReLU(inplace=True)\n      )\n      (2): AttentionConv(\n        (key_conv): Conv2d(40, 40, kernel_size=(1, 1), stride=(1, 1), bias=False)\n        (query_conv): Conv2d(40, 40, kernel_size=(1, 1), stride=(1, 1), bias=False)\n        (value_conv): Conv2d(40, 40, kernel_size=(1, 1), stride=(1, 1), bias=False)\n      )\n    )\n  )\n)"
     },
     "execution_count": 147,
     "metadata": {},
     "output_type": "execute_result"
    }
   ],
   "source": [
    "stage"
   ],
   "metadata": {
    "collapsed": false,
    "pycharm": {
     "name": "#%%\n"
    }
   }
  },
  {
   "cell_type": "code",
   "execution_count": 138,
   "outputs": [
    {
     "name": "stdout",
     "output_type": "stream",
     "text": [
      "{'layers_blocks': [[{'conv': {'act_func': 'relu',\n",
      "                              'expand_ratio': 6,\n",
      "                              'groups': None,\n",
      "                              'in_channels': 24,\n",
      "                              'kernel_size': 7,\n",
      "                              'mid_channels': None,\n",
      "                              'name': 'MBConvLayer',\n",
      "                              'out_channels': 40,\n",
      "                              'stride': 2,\n",
      "                              'use_se': True},\n",
      "                     'name': 'ResidualBlock',\n",
      "                     'shortcut': None},\n",
      "                    {'act_func': 'relu',\n",
      "                     'bias': False,\n",
      "                     'dilation': 1,\n",
      "                     'dropout_rate': 0,\n",
      "                     'groups': 1,\n",
      "                     'has_shuffle': False,\n",
      "                     'in_channels': 24,\n",
      "                     'kernel_size': 1,\n",
      "                     'name': 'ConvLayer',\n",
      "                     'ops_order': 'weight_bn_act',\n",
      "                     'out_channels': 40,\n",
      "                     'stride': 2,\n",
      "                     'use_bn': True,\n",
      "                     'use_se': False},\n",
      "                    {'bias': False,\n",
      "                     'groups': 8,\n",
      "                     'in_channels': 24,\n",
      "                     'kernel_size': 7,\n",
      "                     'name': 'AttentionConv',\n",
      "                     'out_channels': 40,\n",
      "                     'stride': 2}],\n",
      "                   [{'conv': {'act_func': 'relu',\n",
      "                              'expand_ratio': 6,\n",
      "                              'groups': None,\n",
      "                              'in_channels': 40,\n",
      "                              'kernel_size': 7,\n",
      "                              'mid_channels': None,\n",
      "                              'name': 'MBConvLayer',\n",
      "                              'out_channels': 40,\n",
      "                              'stride': 1,\n",
      "                              'use_se': True},\n",
      "                     'name': 'ResidualBlock',\n",
      "                     'shortcut': {'act_func': None,\n",
      "                                  'dropout_rate': 0,\n",
      "                                  'in_channels': 40,\n",
      "                                  'name': 'IdentityLayer',\n",
      "                                  'ops_order': 'weight_bn_act',\n",
      "                                  'out_channels': 40,\n",
      "                                  'use_bn': False}},\n",
      "                    {'act_func': 'relu',\n",
      "                     'bias': False,\n",
      "                     'dilation': 1,\n",
      "                     'dropout_rate': 0,\n",
      "                     'groups': 1,\n",
      "                     'has_shuffle': False,\n",
      "                     'in_channels': 40,\n",
      "                     'kernel_size': 1,\n",
      "                     'name': 'ConvLayer',\n",
      "                     'ops_order': 'weight_bn_act',\n",
      "                     'out_channels': 40,\n",
      "                     'stride': 1,\n",
      "                     'use_bn': True,\n",
      "                     'use_se': False},\n",
      "                    {'bias': False,\n",
      "                     'groups': 8,\n",
      "                     'in_channels': 40,\n",
      "                     'kernel_size': 7,\n",
      "                     'name': 'AttentionConv',\n",
      "                     'out_channels': 40,\n",
      "                     'stride': 1}],\n",
      "                   [{'conv': {'act_func': 'relu',\n",
      "                              'expand_ratio': 6,\n",
      "                              'groups': None,\n",
      "                              'in_channels': 40,\n",
      "                              'kernel_size': 7,\n",
      "                              'mid_channels': None,\n",
      "                              'name': 'MBConvLayer',\n",
      "                              'out_channels': 40,\n",
      "                              'stride': 1,\n",
      "                              'use_se': True},\n",
      "                     'name': 'ResidualBlock',\n",
      "                     'shortcut': {'act_func': None,\n",
      "                                  'dropout_rate': 0,\n",
      "                                  'in_channels': 40,\n",
      "                                  'name': 'IdentityLayer',\n",
      "                                  'ops_order': 'weight_bn_act',\n",
      "                                  'out_channels': 40,\n",
      "                                  'use_bn': False}},\n",
      "                    {'act_func': 'relu',\n",
      "                     'bias': False,\n",
      "                     'dilation': 1,\n",
      "                     'dropout_rate': 0,\n",
      "                     'groups': 1,\n",
      "                     'has_shuffle': False,\n",
      "                     'in_channels': 40,\n",
      "                     'kernel_size': 1,\n",
      "                     'name': 'ConvLayer',\n",
      "                     'ops_order': 'weight_bn_act',\n",
      "                     'out_channels': 40,\n",
      "                     'stride': 1,\n",
      "                     'use_bn': True,\n",
      "                     'use_se': False},\n",
      "                    {'bias': False,\n",
      "                     'groups': 8,\n",
      "                     'in_channels': 40,\n",
      "                     'kernel_size': 7,\n",
      "                     'name': 'AttentionConv',\n",
      "                     'out_channels': 40,\n",
      "                     'stride': 1}],\n",
      "                   [{'conv': {'act_func': 'relu',\n",
      "                              'expand_ratio': 6,\n",
      "                              'groups': None,\n",
      "                              'in_channels': 40,\n",
      "                              'kernel_size': 7,\n",
      "                              'mid_channels': None,\n",
      "                              'name': 'MBConvLayer',\n",
      "                              'out_channels': 40,\n",
      "                              'stride': 1,\n",
      "                              'use_se': True},\n",
      "                     'name': 'ResidualBlock',\n",
      "                     'shortcut': {'act_func': None,\n",
      "                                  'dropout_rate': 0,\n",
      "                                  'in_channels': 40,\n",
      "                                  'name': 'IdentityLayer',\n",
      "                                  'ops_order': 'weight_bn_act',\n",
      "                                  'out_channels': 40,\n",
      "                                  'use_bn': False}},\n",
      "                    {'act_func': 'relu',\n",
      "                     'bias': False,\n",
      "                     'dilation': 1,\n",
      "                     'dropout_rate': 0,\n",
      "                     'groups': 1,\n",
      "                     'has_shuffle': False,\n",
      "                     'in_channels': 40,\n",
      "                     'kernel_size': 1,\n",
      "                     'name': 'ConvLayer',\n",
      "                     'ops_order': 'weight_bn_act',\n",
      "                     'out_channels': 40,\n",
      "                     'stride': 1,\n",
      "                     'use_bn': True,\n",
      "                     'use_se': False},\n",
      "                    {'bias': False,\n",
      "                     'groups': 8,\n",
      "                     'in_channels': 40,\n",
      "                     'kernel_size': 7,\n",
      "                     'name': 'AttentionConv',\n",
      "                     'out_channels': 40,\n",
      "                     'stride': 1}]],\n",
      " 'name': 'StaticParallelBodyStage'}\n"
     ]
    }
   ],
   "source": [
    "pprint.pprint(stage.config)"
   ],
   "metadata": {
    "collapsed": false,
    "pycharm": {
     "name": "#%%\n"
    }
   }
  },
  {
   "cell_type": "code",
   "execution_count": 137,
   "outputs": [
    {
     "name": "stdout",
     "output_type": "stream",
     "text": [
      "--(SE_7x7_MBConv6_RELU_O40_BN, None)--1x1_Conv_O40_RELU_BN--ATTENTIONCONV_40--\n",
      "(SE_7x7_MBConv6_RELU_O40_BN, Identity)--1x1_Conv_O40_RELU_BN--ATTENTIONCONV_40--\n",
      "(SE_7x7_MBConv6_RELU_O40_BN, Identity)--1x1_Conv_O40_RELU_BN--ATTENTIONCONV_40--\n",
      "(SE_7x7_MBConv6_RELU_O40_BN, Identity)--1x1_Conv_O40_RELU_BN--ATTENTIONCONV_40--\n",
      "\n"
     ]
    }
   ],
   "source": [
    "print(stage.module_str)"
   ],
   "metadata": {
    "collapsed": false,
    "pycharm": {
     "name": "#%%\n"
    }
   }
  },
  {
   "cell_type": "code",
   "execution_count": 143,
   "outputs": [],
   "source": [
    "cfg = stage.config"
   ],
   "metadata": {
    "collapsed": false,
    "pycharm": {
     "name": "#%%\n"
    }
   }
  },
  {
   "cell_type": "code",
   "execution_count": 144,
   "outputs": [],
   "source": [
    "built_stage = stage.build_from_config(cfg)"
   ],
   "metadata": {
    "collapsed": false,
    "pycharm": {
     "name": "#%%\n"
    }
   }
  },
  {
   "cell_type": "code",
   "execution_count": 148,
   "outputs": [
    {
     "data": {
      "text/plain": "StaticParallelBodyStage(\n  (layers_blocks): ModuleList(\n    (0): ModuleList(\n      (0): ResidualBlock(\n        (conv): MBConvLayer(\n          (inverted_bottleneck): Sequential(\n            (conv): Conv2d(24, 144, kernel_size=(1, 1), stride=(1, 1), bias=False)\n            (bn): BatchNorm2d(144, eps=1e-05, momentum=0.1, affine=True, track_running_stats=True)\n            (act): ReLU(inplace=True)\n          )\n          (depth_conv): Sequential(\n            (conv): Conv2d(144, 144, kernel_size=(7, 7), stride=(2, 2), padding=(3, 3), groups=144, bias=False)\n            (bn): BatchNorm2d(144, eps=1e-05, momentum=0.1, affine=True, track_running_stats=True)\n            (act): ReLU(inplace=True)\n            (se): SE(channel=144, reduction=4)\n          )\n          (point_linear): Sequential(\n            (conv): Conv2d(144, 40, kernel_size=(1, 1), stride=(1, 1), bias=False)\n            (bn): BatchNorm2d(40, eps=1e-05, momentum=0.1, affine=True, track_running_stats=True)\n          )\n        )\n      )\n      (1): ConvLayer(\n        (conv): Conv2d(24, 40, kernel_size=(1, 1), stride=(2, 2), bias=False)\n        (bn): BatchNorm2d(40, eps=1e-05, momentum=0.1, affine=True, track_running_stats=True)\n        (act): ReLU(inplace=True)\n      )\n      (2): AttentionConv(\n        (key_conv): Conv2d(24, 40, kernel_size=(1, 1), stride=(1, 1), bias=False)\n        (query_conv): Conv2d(24, 40, kernel_size=(1, 1), stride=(1, 1), bias=False)\n        (value_conv): Conv2d(24, 40, kernel_size=(1, 1), stride=(1, 1), bias=False)\n      )\n    )\n    (1): ModuleList(\n      (0): ResidualBlock(\n        (conv): MBConvLayer(\n          (inverted_bottleneck): Sequential(\n            (conv): Conv2d(40, 240, kernel_size=(1, 1), stride=(1, 1), bias=False)\n            (bn): BatchNorm2d(240, eps=1e-05, momentum=0.1, affine=True, track_running_stats=True)\n            (act): ReLU(inplace=True)\n          )\n          (depth_conv): Sequential(\n            (conv): Conv2d(240, 240, kernel_size=(7, 7), stride=(1, 1), padding=(3, 3), groups=240, bias=False)\n            (bn): BatchNorm2d(240, eps=1e-05, momentum=0.1, affine=True, track_running_stats=True)\n            (act): ReLU(inplace=True)\n            (se): SE(channel=240, reduction=4)\n          )\n          (point_linear): Sequential(\n            (conv): Conv2d(240, 40, kernel_size=(1, 1), stride=(1, 1), bias=False)\n            (bn): BatchNorm2d(40, eps=1e-05, momentum=0.1, affine=True, track_running_stats=True)\n          )\n        )\n        (shortcut): IdentityLayer()\n      )\n      (1): ConvLayer(\n        (conv): Conv2d(40, 40, kernel_size=(1, 1), stride=(1, 1), bias=False)\n        (bn): BatchNorm2d(40, eps=1e-05, momentum=0.1, affine=True, track_running_stats=True)\n        (act): ReLU(inplace=True)\n      )\n      (2): AttentionConv(\n        (key_conv): Conv2d(40, 40, kernel_size=(1, 1), stride=(1, 1), bias=False)\n        (query_conv): Conv2d(40, 40, kernel_size=(1, 1), stride=(1, 1), bias=False)\n        (value_conv): Conv2d(40, 40, kernel_size=(1, 1), stride=(1, 1), bias=False)\n      )\n    )\n    (2): ModuleList(\n      (0): ResidualBlock(\n        (conv): MBConvLayer(\n          (inverted_bottleneck): Sequential(\n            (conv): Conv2d(40, 240, kernel_size=(1, 1), stride=(1, 1), bias=False)\n            (bn): BatchNorm2d(240, eps=1e-05, momentum=0.1, affine=True, track_running_stats=True)\n            (act): ReLU(inplace=True)\n          )\n          (depth_conv): Sequential(\n            (conv): Conv2d(240, 240, kernel_size=(7, 7), stride=(1, 1), padding=(3, 3), groups=240, bias=False)\n            (bn): BatchNorm2d(240, eps=1e-05, momentum=0.1, affine=True, track_running_stats=True)\n            (act): ReLU(inplace=True)\n            (se): SE(channel=240, reduction=4)\n          )\n          (point_linear): Sequential(\n            (conv): Conv2d(240, 40, kernel_size=(1, 1), stride=(1, 1), bias=False)\n            (bn): BatchNorm2d(40, eps=1e-05, momentum=0.1, affine=True, track_running_stats=True)\n          )\n        )\n        (shortcut): IdentityLayer()\n      )\n      (1): ConvLayer(\n        (conv): Conv2d(40, 40, kernel_size=(1, 1), stride=(1, 1), bias=False)\n        (bn): BatchNorm2d(40, eps=1e-05, momentum=0.1, affine=True, track_running_stats=True)\n        (act): ReLU(inplace=True)\n      )\n      (2): AttentionConv(\n        (key_conv): Conv2d(40, 40, kernel_size=(1, 1), stride=(1, 1), bias=False)\n        (query_conv): Conv2d(40, 40, kernel_size=(1, 1), stride=(1, 1), bias=False)\n        (value_conv): Conv2d(40, 40, kernel_size=(1, 1), stride=(1, 1), bias=False)\n      )\n    )\n    (3): ModuleList(\n      (0): ResidualBlock(\n        (conv): MBConvLayer(\n          (inverted_bottleneck): Sequential(\n            (conv): Conv2d(40, 240, kernel_size=(1, 1), stride=(1, 1), bias=False)\n            (bn): BatchNorm2d(240, eps=1e-05, momentum=0.1, affine=True, track_running_stats=True)\n            (act): ReLU(inplace=True)\n          )\n          (depth_conv): Sequential(\n            (conv): Conv2d(240, 240, kernel_size=(7, 7), stride=(1, 1), padding=(3, 3), groups=240, bias=False)\n            (bn): BatchNorm2d(240, eps=1e-05, momentum=0.1, affine=True, track_running_stats=True)\n            (act): ReLU(inplace=True)\n            (se): SE(channel=240, reduction=4)\n          )\n          (point_linear): Sequential(\n            (conv): Conv2d(240, 40, kernel_size=(1, 1), stride=(1, 1), bias=False)\n            (bn): BatchNorm2d(40, eps=1e-05, momentum=0.1, affine=True, track_running_stats=True)\n          )\n        )\n        (shortcut): IdentityLayer()\n      )\n      (1): ConvLayer(\n        (conv): Conv2d(40, 40, kernel_size=(1, 1), stride=(1, 1), bias=False)\n        (bn): BatchNorm2d(40, eps=1e-05, momentum=0.1, affine=True, track_running_stats=True)\n        (act): ReLU(inplace=True)\n      )\n      (2): AttentionConv(\n        (key_conv): Conv2d(40, 40, kernel_size=(1, 1), stride=(1, 1), bias=False)\n        (query_conv): Conv2d(40, 40, kernel_size=(1, 1), stride=(1, 1), bias=False)\n        (value_conv): Conv2d(40, 40, kernel_size=(1, 1), stride=(1, 1), bias=False)\n      )\n    )\n  )\n)"
     },
     "execution_count": 148,
     "metadata": {},
     "output_type": "execute_result"
    }
   ],
   "source": [
    "built_stage"
   ],
   "metadata": {
    "collapsed": false,
    "pycharm": {
     "name": "#%%\n"
    }
   }
  },
  {
   "cell_type": "code",
   "execution_count": 145,
   "outputs": [
    {
     "name": "stdout",
     "output_type": "stream",
     "text": [
      "--(SE_7x7_MBConv6_RELU_O40_BN, None)--1x1_Conv_O40_RELU_BN--ATTENTIONCONV_40--\n",
      "(SE_7x7_MBConv6_RELU_O40_BN, Identity)--1x1_Conv_O40_RELU_BN--ATTENTIONCONV_40--\n",
      "(SE_7x7_MBConv6_RELU_O40_BN, Identity)--1x1_Conv_O40_RELU_BN--ATTENTIONCONV_40--\n",
      "(SE_7x7_MBConv6_RELU_O40_BN, Identity)--1x1_Conv_O40_RELU_BN--ATTENTIONCONV_40--\n",
      "\n"
     ]
    }
   ],
   "source": [
    "print(built_stage.module_str)"
   ],
   "metadata": {
    "collapsed": false,
    "pycharm": {
     "name": "#%%\n"
    }
   }
  },
  {
   "cell_type": "code",
   "execution_count": 146,
   "outputs": [
    {
     "name": "stdout",
     "output_type": "stream",
     "text": [
      "{'layers_blocks': [[{'conv': {'act_func': 'relu',\n",
      "                              'expand_ratio': 6,\n",
      "                              'groups': None,\n",
      "                              'in_channels': 24,\n",
      "                              'kernel_size': 7,\n",
      "                              'mid_channels': None,\n",
      "                              'name': 'MBConvLayer',\n",
      "                              'out_channels': 40,\n",
      "                              'stride': 2,\n",
      "                              'use_se': True},\n",
      "                     'name': 'ResidualBlock',\n",
      "                     'shortcut': None},\n",
      "                    {'act_func': 'relu',\n",
      "                     'bias': False,\n",
      "                     'dilation': 1,\n",
      "                     'dropout_rate': 0,\n",
      "                     'groups': 1,\n",
      "                     'has_shuffle': False,\n",
      "                     'in_channels': 24,\n",
      "                     'kernel_size': 1,\n",
      "                     'name': 'ConvLayer',\n",
      "                     'ops_order': 'weight_bn_act',\n",
      "                     'out_channels': 40,\n",
      "                     'stride': 2,\n",
      "                     'use_bn': True,\n",
      "                     'use_se': False},\n",
      "                    {'bias': False,\n",
      "                     'groups': 8,\n",
      "                     'in_channels': 24,\n",
      "                     'kernel_size': 7,\n",
      "                     'name': 'AttentionConv',\n",
      "                     'out_channels': 40,\n",
      "                     'stride': 2}],\n",
      "                   [{'conv': {'act_func': 'relu',\n",
      "                              'expand_ratio': 6,\n",
      "                              'groups': None,\n",
      "                              'in_channels': 40,\n",
      "                              'kernel_size': 7,\n",
      "                              'mid_channels': None,\n",
      "                              'name': 'MBConvLayer',\n",
      "                              'out_channels': 40,\n",
      "                              'stride': 1,\n",
      "                              'use_se': True},\n",
      "                     'name': 'ResidualBlock',\n",
      "                     'shortcut': {'act_func': None,\n",
      "                                  'dropout_rate': 0,\n",
      "                                  'in_channels': 40,\n",
      "                                  'name': 'IdentityLayer',\n",
      "                                  'ops_order': 'weight_bn_act',\n",
      "                                  'out_channels': 40,\n",
      "                                  'use_bn': False}},\n",
      "                    {'act_func': 'relu',\n",
      "                     'bias': False,\n",
      "                     'dilation': 1,\n",
      "                     'dropout_rate': 0,\n",
      "                     'groups': 1,\n",
      "                     'has_shuffle': False,\n",
      "                     'in_channels': 40,\n",
      "                     'kernel_size': 1,\n",
      "                     'name': 'ConvLayer',\n",
      "                     'ops_order': 'weight_bn_act',\n",
      "                     'out_channels': 40,\n",
      "                     'stride': 1,\n",
      "                     'use_bn': True,\n",
      "                     'use_se': False},\n",
      "                    {'bias': False,\n",
      "                     'groups': 8,\n",
      "                     'in_channels': 40,\n",
      "                     'kernel_size': 7,\n",
      "                     'name': 'AttentionConv',\n",
      "                     'out_channels': 40,\n",
      "                     'stride': 1}],\n",
      "                   [{'conv': {'act_func': 'relu',\n",
      "                              'expand_ratio': 6,\n",
      "                              'groups': None,\n",
      "                              'in_channels': 40,\n",
      "                              'kernel_size': 7,\n",
      "                              'mid_channels': None,\n",
      "                              'name': 'MBConvLayer',\n",
      "                              'out_channels': 40,\n",
      "                              'stride': 1,\n",
      "                              'use_se': True},\n",
      "                     'name': 'ResidualBlock',\n",
      "                     'shortcut': {'act_func': None,\n",
      "                                  'dropout_rate': 0,\n",
      "                                  'in_channels': 40,\n",
      "                                  'name': 'IdentityLayer',\n",
      "                                  'ops_order': 'weight_bn_act',\n",
      "                                  'out_channels': 40,\n",
      "                                  'use_bn': False}},\n",
      "                    {'act_func': 'relu',\n",
      "                     'bias': False,\n",
      "                     'dilation': 1,\n",
      "                     'dropout_rate': 0,\n",
      "                     'groups': 1,\n",
      "                     'has_shuffle': False,\n",
      "                     'in_channels': 40,\n",
      "                     'kernel_size': 1,\n",
      "                     'name': 'ConvLayer',\n",
      "                     'ops_order': 'weight_bn_act',\n",
      "                     'out_channels': 40,\n",
      "                     'stride': 1,\n",
      "                     'use_bn': True,\n",
      "                     'use_se': False},\n",
      "                    {'bias': False,\n",
      "                     'groups': 8,\n",
      "                     'in_channels': 40,\n",
      "                     'kernel_size': 7,\n",
      "                     'name': 'AttentionConv',\n",
      "                     'out_channels': 40,\n",
      "                     'stride': 1}],\n",
      "                   [{'conv': {'act_func': 'relu',\n",
      "                              'expand_ratio': 6,\n",
      "                              'groups': None,\n",
      "                              'in_channels': 40,\n",
      "                              'kernel_size': 7,\n",
      "                              'mid_channels': None,\n",
      "                              'name': 'MBConvLayer',\n",
      "                              'out_channels': 40,\n",
      "                              'stride': 1,\n",
      "                              'use_se': True},\n",
      "                     'name': 'ResidualBlock',\n",
      "                     'shortcut': {'act_func': None,\n",
      "                                  'dropout_rate': 0,\n",
      "                                  'in_channels': 40,\n",
      "                                  'name': 'IdentityLayer',\n",
      "                                  'ops_order': 'weight_bn_act',\n",
      "                                  'out_channels': 40,\n",
      "                                  'use_bn': False}},\n",
      "                    {'act_func': 'relu',\n",
      "                     'bias': False,\n",
      "                     'dilation': 1,\n",
      "                     'dropout_rate': 0,\n",
      "                     'groups': 1,\n",
      "                     'has_shuffle': False,\n",
      "                     'in_channels': 40,\n",
      "                     'kernel_size': 1,\n",
      "                     'name': 'ConvLayer',\n",
      "                     'ops_order': 'weight_bn_act',\n",
      "                     'out_channels': 40,\n",
      "                     'stride': 1,\n",
      "                     'use_bn': True,\n",
      "                     'use_se': False},\n",
      "                    {'bias': False,\n",
      "                     'groups': 8,\n",
      "                     'in_channels': 40,\n",
      "                     'kernel_size': 7,\n",
      "                     'name': 'AttentionConv',\n",
      "                     'out_channels': 40,\n",
      "                     'stride': 1}]],\n",
      " 'name': 'StaticParallelBodyStage'}\n"
     ]
    }
   ],
   "source": [
    "pprint.pprint(built_stage.config)"
   ],
   "metadata": {
    "collapsed": false,
    "pycharm": {
     "name": "#%%\n"
    }
   }
  },
  {
   "cell_type": "code",
   "execution_count": null,
   "outputs": [],
   "source": [],
   "metadata": {
    "collapsed": false,
    "pycharm": {
     "name": "#%%\n"
    }
   }
  }
 ],
 "metadata": {
  "kernelspec": {
   "display_name": "Python 3",
   "language": "python",
   "name": "python3"
  },
  "language_info": {
   "codemirror_mode": {
    "name": "ipython",
    "version": 2
   },
   "file_extension": ".py",
   "mimetype": "text/x-python",
   "name": "python",
   "nbconvert_exporter": "python",
   "pygments_lexer": "ipython2",
   "version": "2.7.6"
  }
 },
 "nbformat": 4,
 "nbformat_minor": 0
}