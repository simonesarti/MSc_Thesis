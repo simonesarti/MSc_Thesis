{
 "cells": [
  {
   "cell_type": "code",
   "execution_count": 2,
   "metadata": {
    "collapsed": true
   },
   "outputs": [
    {
     "ename": "ImportError",
     "evalue": "attempted relative import with no known parent package",
     "output_type": "error",
     "traceback": [
      "\u001B[1;31m---------------------------------------------------------------------------\u001B[0m",
      "\u001B[1;31mImportError\u001B[0m                               Traceback (most recent call last)",
      "\u001B[1;32m<ipython-input-2-dcdbfdf30710>\u001B[0m in \u001B[0;36m<module>\u001B[1;34m\u001B[0m\n\u001B[0;32m      1\u001B[0m \u001B[1;32mimport\u001B[0m \u001B[0mpprint\u001B[0m\u001B[1;33m\u001B[0m\u001B[1;33m\u001B[0m\u001B[0m\n\u001B[1;32m----> 2\u001B[1;33m \u001B[1;32mfrom\u001B[0m \u001B[1;33m.\u001B[0m\u001B[0mutils\u001B[0m \u001B[1;32mimport\u001B[0m \u001B[0mget_previous_path\u001B[0m\u001B[1;33m,\u001B[0m \u001B[0mget_paths_dict\u001B[0m\u001B[1;33m\u001B[0m\u001B[1;33m\u001B[0m\u001B[0m\n\u001B[0m",
      "\u001B[1;31mImportError\u001B[0m: attempted relative import with no known parent package"
     ]
    }
   ],
   "source": [
    "import pprint\n",
    "from OFA_mbv3_extended.train.utils import get_previous_path, get_paths_dict"
   ]
  },
  {
   "cell_type": "markdown",
   "source": [
    "### get_path_dict_test"
   ],
   "metadata": {
    "collapsed": false
   }
  },
  {
   "cell_type": "code",
   "execution_count": null,
   "outputs": [],
   "source": [
    "class Args:\n",
    "\n",
    "    def __init__(\n",
    "        self,\n",
    "        dataset=\"tiny_imagenet\",\n",
    "        network=\"OFAMobileNetV3\",\n",
    "        width_mult = 1.0,\n",
    "        n_exp = 1,\n",
    "        task =\"full\",\n",
    "        phase = 2,\n",
    "    ):\n",
    "\n",
    "        self.dataset=dataset,\n",
    "        self.network=network,\n",
    "        self.width_mult=width_mult,\n",
    "        self.n_exp=n_exp,\n",
    "        self.task=task,\n",
    "        self.phase=phase\n",
    "\n",
    "args=Args()"
   ],
   "metadata": {
    "collapsed": false
   }
  },
  {
   "cell_type": "markdown",
   "source": [
    "##### full"
   ],
   "metadata": {
    "collapsed": false
   }
  },
  {
   "cell_type": "code",
   "execution_count": null,
   "outputs": [],
   "source": [
    "# ok\n",
    "args.dataset = \"tiny_imagenet\"\n",
    "args.network = \"OFAMobileNetV3\"\n",
    "args.width_mult = 1.0\n",
    "args.n_exp = 1\n",
    "args.task=task=\"full\"\n",
    "args.phase = 1\n",
    "\n",
    "paths = get_paths_dict(args)\n",
    "pprint.pprint(paths)"
   ],
   "metadata": {
    "collapsed": false
   }
  },
  {
   "cell_type": "code",
   "execution_count": null,
   "outputs": [],
   "source": [
    "# n_exp and random phase, different wm\n",
    "args.dataset = \"tiny_imagenet\"\n",
    "args.network = \"OFAMobileNetV3\"\n",
    "args.width_mult = 1.2\n",
    "args.n_exp = 4\n",
    "args.task=\"full\"\n",
    "args.phase = 35\n",
    "\n",
    "paths = get_paths_dict(args)\n",
    "pprint.pprint(paths)"
   ],
   "metadata": {
    "collapsed": false
   }
  },
  {
   "cell_type": "markdown",
   "source": [
    "##### kernel"
   ],
   "metadata": {
    "collapsed": false
   }
  },
  {
   "cell_type": "code",
   "execution_count": null,
   "outputs": [],
   "source": [
    "args.dataset = \"tiny_imagenet\"\n",
    "args.network = \"OFAMobileNetV3\"\n",
    "args.width_mult = 1.0\n",
    "args.n_exp = 1\n",
    "args.task=\"kernel\"\n",
    "args.phase = 1\n",
    "\n",
    "paths = get_paths_dict(args)\n",
    "pprint.pprint(paths)"
   ],
   "metadata": {
    "collapsed": false
   }
  },
  {
   "cell_type": "code",
   "execution_count": null,
   "outputs": [],
   "source": [
    "args.dataset = \"tiny_imagenet\"\n",
    "args.network = \"OFAMobileNetV3\"\n",
    "args.width_mult = 1.0\n",
    "args.n_exp = 3\n",
    "args.task=\"kernel\"\n",
    "args.phase = 66\n",
    "\n",
    "paths = get_paths_dict(args)\n",
    "pprint.pprint(paths)"
   ],
   "metadata": {
    "collapsed": false
   }
  },
  {
   "cell_type": "markdown",
   "source": [
    "##### depth"
   ],
   "metadata": {
    "collapsed": false
   }
  },
  {
   "cell_type": "code",
   "execution_count": null,
   "outputs": [],
   "source": [
    "args.dataset = \"tiny_imagenet\"\n",
    "args.network = \"OFAMobileNetV3\"\n",
    "args.width_mult = 1.0\n",
    "args.n_exp = 6\n",
    "args.task=\"depth\"\n",
    "args.phase = 1\n",
    "\n",
    "paths = get_paths_dict(args)\n",
    "pprint.pprint(paths)"
   ],
   "metadata": {
    "collapsed": false
   }
  },
  {
   "cell_type": "code",
   "execution_count": null,
   "outputs": [],
   "source": [
    "args.dataset = \"tiny_imagenet\"\n",
    "args.network = \"OFAMobileNetV3\"\n",
    "args.width_mult = 1.0\n",
    "args.n_exp = 6\n",
    "args.task=\"depth\"\n",
    "args.phase = 2\n",
    "\n",
    "paths = get_paths_dict(args)\n",
    "pprint.pprint(paths)"
   ],
   "metadata": {
    "collapsed": false
   }
  },
  {
   "cell_type": "code",
   "execution_count": null,
   "outputs": [],
   "source": [
    "args.dataset = \"tiny_imagenet\"\n",
    "args.network = \"OFAMobileNetV3\"\n",
    "args.width_mult = 1.2\n",
    "args.n_exp = 6\n",
    "args.task=\"depth\"\n",
    "args.phase = 2\n",
    "\n",
    "paths = get_paths_dict(args)\n",
    "pprint.pprint(paths)"
   ],
   "metadata": {
    "collapsed": false
   }
  },
  {
   "cell_type": "markdown",
   "source": [
    "##### expand"
   ],
   "metadata": {
    "collapsed": false
   }
  },
  {
   "cell_type": "code",
   "execution_count": null,
   "outputs": [],
   "source": [
    "args.dataset = \"tiny_imagenet\"\n",
    "args.network = \"OFAMobileNetV3\"\n",
    "args.width_mult = 1.0\n",
    "args.n_exp = 3\n",
    "args.task=\"expand\"\n",
    "args.phase = 1\n",
    "\n",
    "paths = get_paths_dict(args)\n",
    "pprint.pprint(paths)"
   ],
   "metadata": {
    "collapsed": false
   }
  },
  {
   "cell_type": "code",
   "execution_count": null,
   "outputs": [],
   "source": [
    "args.dataset = \"tiny_imagenet\"\n",
    "args.network = \"OFAMobileNetV3\"\n",
    "args.width_mult = 1.0\n",
    "args.n_exp = 3\n",
    "args.task=\"expand\"\n",
    "args.phase = 2\n",
    "\n",
    "paths = get_paths_dict(args)\n",
    "pprint.pprint(paths)"
   ],
   "metadata": {
    "collapsed": false
   }
  },
  {
   "cell_type": "code",
   "execution_count": 3,
   "outputs": [
    {
     "ename": "NameError",
     "evalue": "name 'args' is not defined",
     "output_type": "error",
     "traceback": [
      "\u001B[1;31m---------------------------------------------------------------------------\u001B[0m",
      "\u001B[1;31mNameError\u001B[0m                                 Traceback (most recent call last)",
      "\u001B[1;32m<ipython-input-3-d6c1492dbcaa>\u001B[0m in \u001B[0;36m<module>\u001B[1;34m\u001B[0m\n\u001B[1;32m----> 1\u001B[1;33m \u001B[0margs\u001B[0m\u001B[1;33m.\u001B[0m\u001B[0mdataset\u001B[0m \u001B[1;33m=\u001B[0m \u001B[1;34m\"tiny_imagenet\"\u001B[0m\u001B[1;33m\u001B[0m\u001B[1;33m\u001B[0m\u001B[0m\n\u001B[0m\u001B[0;32m      2\u001B[0m \u001B[0margs\u001B[0m\u001B[1;33m.\u001B[0m\u001B[0mnetwork\u001B[0m \u001B[1;33m=\u001B[0m \u001B[1;34m\"OFAMobileNetV3\"\u001B[0m\u001B[1;33m\u001B[0m\u001B[1;33m\u001B[0m\u001B[0m\n\u001B[0;32m      3\u001B[0m \u001B[0margs\u001B[0m\u001B[1;33m.\u001B[0m\u001B[0mwidth_mult\u001B[0m \u001B[1;33m=\u001B[0m \u001B[1;36m1.2\u001B[0m\u001B[1;33m\u001B[0m\u001B[1;33m\u001B[0m\u001B[0m\n\u001B[0;32m      4\u001B[0m \u001B[0margs\u001B[0m\u001B[1;33m.\u001B[0m\u001B[0mn_exp\u001B[0m \u001B[1;33m=\u001B[0m \u001B[1;36m3\u001B[0m\u001B[1;33m\u001B[0m\u001B[1;33m\u001B[0m\u001B[0m\n\u001B[0;32m      5\u001B[0m \u001B[0margs\u001B[0m\u001B[1;33m.\u001B[0m\u001B[0mtask\u001B[0m\u001B[1;33m=\u001B[0m\u001B[1;34m\"expand\"\u001B[0m\u001B[1;33m\u001B[0m\u001B[1;33m\u001B[0m\u001B[0m\n",
      "\u001B[1;31mNameError\u001B[0m: name 'args' is not defined"
     ]
    }
   ],
   "source": [
    "args.dataset = \"tiny_imagenet\"\n",
    "args.network = \"OFAMobileNetV3\"\n",
    "args.width_mult = 1.2\n",
    "args.n_exp = 3\n",
    "args.task=\"expand\"\n",
    "args.phase = 1\n",
    "\n",
    "paths = get_paths_dict(args)\n",
    "pprint.pprint(paths)"
   ],
   "metadata": {
    "collapsed": false
   }
  },
  {
   "cell_type": "markdown",
   "source": [
    "##### net_depth"
   ],
   "metadata": {
    "collapsed": false
   }
  },
  {
   "cell_type": "markdown",
   "source": [
    "##### net_width"
   ],
   "metadata": {
    "collapsed": false
   }
  }
 ],
 "metadata": {
  "kernelspec": {
   "display_name": "Python 3",
   "language": "python",
   "name": "python3"
  },
  "language_info": {
   "codemirror_mode": {
    "name": "ipython",
    "version": 2
   },
   "file_extension": ".py",
   "mimetype": "text/x-python",
   "name": "python",
   "nbconvert_exporter": "python",
   "pygments_lexer": "ipython2",
   "version": "2.7.6"
  }
 },
 "nbformat": 4,
 "nbformat_minor": 0
}
